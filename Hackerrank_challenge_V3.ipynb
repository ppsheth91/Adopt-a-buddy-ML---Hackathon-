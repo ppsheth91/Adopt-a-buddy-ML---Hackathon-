{
  "nbformat": 4,
  "nbformat_minor": 0,
  "metadata": {
    "colab": {
      "name": "Hackerrank_challenge.ipynb",
      "provenance": [],
      "collapsed_sections": []
    },
    "kernelspec": {
      "name": "python3",
      "display_name": "Python 3"
    },
    "accelerator": "GPU"
  },
  "cells": [
    {
      "cell_type": "code",
      "metadata": {
        "id": "4FRtPhqz06ri",
        "colab_type": "code",
        "colab": {}
      },
      "source": [
        "import pandas as pd \n",
        "import numpy as np"
      ],
      "execution_count": 1,
      "outputs": []
    },
    {
      "cell_type": "code",
      "metadata": {
        "id": "ci9JwyV01EPg",
        "colab_type": "code",
        "colab": {}
      },
      "source": [
        "import os"
      ],
      "execution_count": 2,
      "outputs": []
    },
    {
      "cell_type": "code",
      "metadata": {
        "id": "gr4Z-6Ow15Wk",
        "colab_type": "code",
        "colab": {}
      },
      "source": [
        "from sklearn.model_selection import train_test_split"
      ],
      "execution_count": 3,
      "outputs": []
    },
    {
      "cell_type": "code",
      "metadata": {
        "id": "1B59_f_R5QXV",
        "colab_type": "code",
        "colab": {}
      },
      "source": [
        "from sklearn.model_selection import RandomizedSearchCV"
      ],
      "execution_count": 4,
      "outputs": []
    },
    {
      "cell_type": "code",
      "metadata": {
        "id": "6ZMzNYwa1qGf",
        "colab_type": "code",
        "colab": {}
      },
      "source": [
        "df = pd.read_csv(\"train.csv\")"
      ],
      "execution_count": 5,
      "outputs": []
    },
    {
      "cell_type": "code",
      "metadata": {
        "id": "R1GSYj6JNqcb",
        "colab_type": "code",
        "colab": {
          "base_uri": "https://localhost:8080/",
          "height": 309
        },
        "outputId": "b9f2563d-353c-4346-8a32-a532cb61e698"
      },
      "source": [
        "df.head()"
      ],
      "execution_count": 6,
      "outputs": [
        {
          "output_type": "execute_result",
          "data": {
            "text/html": [
              "<div>\n",
              "<style scoped>\n",
              "    .dataframe tbody tr th:only-of-type {\n",
              "        vertical-align: middle;\n",
              "    }\n",
              "\n",
              "    .dataframe tbody tr th {\n",
              "        vertical-align: top;\n",
              "    }\n",
              "\n",
              "    .dataframe thead th {\n",
              "        text-align: right;\n",
              "    }\n",
              "</style>\n",
              "<table border=\"1\" class=\"dataframe\">\n",
              "  <thead>\n",
              "    <tr style=\"text-align: right;\">\n",
              "      <th></th>\n",
              "      <th>pet_id</th>\n",
              "      <th>issue_date</th>\n",
              "      <th>listing_date</th>\n",
              "      <th>condition</th>\n",
              "      <th>color_type</th>\n",
              "      <th>length(m)</th>\n",
              "      <th>height(cm)</th>\n",
              "      <th>X1</th>\n",
              "      <th>X2</th>\n",
              "      <th>breed_category</th>\n",
              "      <th>pet_category</th>\n",
              "    </tr>\n",
              "  </thead>\n",
              "  <tbody>\n",
              "    <tr>\n",
              "      <th>0</th>\n",
              "      <td>ANSL_69903</td>\n",
              "      <td>2016-07-10 00:00:00</td>\n",
              "      <td>2016-09-21 16:25:00</td>\n",
              "      <td>2.0</td>\n",
              "      <td>Brown Tabby</td>\n",
              "      <td>0.80</td>\n",
              "      <td>7.78</td>\n",
              "      <td>13</td>\n",
              "      <td>9</td>\n",
              "      <td>0.0</td>\n",
              "      <td>1</td>\n",
              "    </tr>\n",
              "    <tr>\n",
              "      <th>1</th>\n",
              "      <td>ANSL_66892</td>\n",
              "      <td>2013-11-21 00:00:00</td>\n",
              "      <td>2018-12-27 17:47:00</td>\n",
              "      <td>1.0</td>\n",
              "      <td>White</td>\n",
              "      <td>0.72</td>\n",
              "      <td>14.19</td>\n",
              "      <td>13</td>\n",
              "      <td>9</td>\n",
              "      <td>0.0</td>\n",
              "      <td>2</td>\n",
              "    </tr>\n",
              "    <tr>\n",
              "      <th>2</th>\n",
              "      <td>ANSL_69750</td>\n",
              "      <td>2014-09-28 00:00:00</td>\n",
              "      <td>2016-10-19 08:24:00</td>\n",
              "      <td>NaN</td>\n",
              "      <td>Brown</td>\n",
              "      <td>0.15</td>\n",
              "      <td>40.90</td>\n",
              "      <td>15</td>\n",
              "      <td>4</td>\n",
              "      <td>2.0</td>\n",
              "      <td>4</td>\n",
              "    </tr>\n",
              "    <tr>\n",
              "      <th>3</th>\n",
              "      <td>ANSL_71623</td>\n",
              "      <td>2016-12-31 00:00:00</td>\n",
              "      <td>2019-01-25 18:30:00</td>\n",
              "      <td>1.0</td>\n",
              "      <td>White</td>\n",
              "      <td>0.62</td>\n",
              "      <td>17.82</td>\n",
              "      <td>0</td>\n",
              "      <td>1</td>\n",
              "      <td>0.0</td>\n",
              "      <td>2</td>\n",
              "    </tr>\n",
              "    <tr>\n",
              "      <th>4</th>\n",
              "      <td>ANSL_57969</td>\n",
              "      <td>2017-09-28 00:00:00</td>\n",
              "      <td>2017-11-19 09:38:00</td>\n",
              "      <td>2.0</td>\n",
              "      <td>Black</td>\n",
              "      <td>0.50</td>\n",
              "      <td>11.06</td>\n",
              "      <td>18</td>\n",
              "      <td>4</td>\n",
              "      <td>0.0</td>\n",
              "      <td>1</td>\n",
              "    </tr>\n",
              "  </tbody>\n",
              "</table>\n",
              "</div>"
            ],
            "text/plain": [
              "       pet_id           issue_date  ... breed_category  pet_category\n",
              "0  ANSL_69903  2016-07-10 00:00:00  ...            0.0             1\n",
              "1  ANSL_66892  2013-11-21 00:00:00  ...            0.0             2\n",
              "2  ANSL_69750  2014-09-28 00:00:00  ...            2.0             4\n",
              "3  ANSL_71623  2016-12-31 00:00:00  ...            0.0             2\n",
              "4  ANSL_57969  2017-09-28 00:00:00  ...            0.0             1\n",
              "\n",
              "[5 rows x 11 columns]"
            ]
          },
          "metadata": {
            "tags": []
          },
          "execution_count": 6
        }
      ]
    },
    {
      "cell_type": "code",
      "metadata": {
        "id": "os-snqGEirrb",
        "colab_type": "code",
        "colab": {
          "base_uri": "https://localhost:8080/",
          "height": 204
        },
        "outputId": "2a8f0713-27ad-49f1-cb7a-6862bf008408"
      },
      "source": [
        "df1 = pd.read_csv(\"test.csv\")\n",
        "df1.head()"
      ],
      "execution_count": 7,
      "outputs": [
        {
          "output_type": "execute_result",
          "data": {
            "text/html": [
              "<div>\n",
              "<style scoped>\n",
              "    .dataframe tbody tr th:only-of-type {\n",
              "        vertical-align: middle;\n",
              "    }\n",
              "\n",
              "    .dataframe tbody tr th {\n",
              "        vertical-align: top;\n",
              "    }\n",
              "\n",
              "    .dataframe thead th {\n",
              "        text-align: right;\n",
              "    }\n",
              "</style>\n",
              "<table border=\"1\" class=\"dataframe\">\n",
              "  <thead>\n",
              "    <tr style=\"text-align: right;\">\n",
              "      <th></th>\n",
              "      <th>pet_id</th>\n",
              "      <th>issue_date</th>\n",
              "      <th>listing_date</th>\n",
              "      <th>condition</th>\n",
              "      <th>color_type</th>\n",
              "      <th>length(m)</th>\n",
              "      <th>height(cm)</th>\n",
              "      <th>X1</th>\n",
              "      <th>X2</th>\n",
              "    </tr>\n",
              "  </thead>\n",
              "  <tbody>\n",
              "    <tr>\n",
              "      <th>0</th>\n",
              "      <td>ANSL_75005</td>\n",
              "      <td>17-08-2005 00:00</td>\n",
              "      <td>07-09-2017 15:35</td>\n",
              "      <td>0.0</td>\n",
              "      <td>Black</td>\n",
              "      <td>0.87</td>\n",
              "      <td>42.73</td>\n",
              "      <td>0</td>\n",
              "      <td>7</td>\n",
              "    </tr>\n",
              "    <tr>\n",
              "      <th>1</th>\n",
              "      <td>ANSL_76663</td>\n",
              "      <td>15-11-2018 00:00</td>\n",
              "      <td>08-05-2019 17:24</td>\n",
              "      <td>1.0</td>\n",
              "      <td>Orange Tabby</td>\n",
              "      <td>0.06</td>\n",
              "      <td>6.71</td>\n",
              "      <td>0</td>\n",
              "      <td>1</td>\n",
              "    </tr>\n",
              "    <tr>\n",
              "      <th>2</th>\n",
              "      <td>ANSL_58259</td>\n",
              "      <td>11-10-2012 00:00</td>\n",
              "      <td>02-04-2018 16:51</td>\n",
              "      <td>1.0</td>\n",
              "      <td>Black</td>\n",
              "      <td>0.24</td>\n",
              "      <td>41.21</td>\n",
              "      <td>0</td>\n",
              "      <td>7</td>\n",
              "    </tr>\n",
              "    <tr>\n",
              "      <th>3</th>\n",
              "      <td>ANSL_67171</td>\n",
              "      <td>13-02-2015 00:00</td>\n",
              "      <td>06-04-2018 07:25</td>\n",
              "      <td>1.0</td>\n",
              "      <td>Black</td>\n",
              "      <td>0.29</td>\n",
              "      <td>8.46</td>\n",
              "      <td>7</td>\n",
              "      <td>1</td>\n",
              "    </tr>\n",
              "    <tr>\n",
              "      <th>4</th>\n",
              "      <td>ANSL_72871</td>\n",
              "      <td>18-01-2017 00:00</td>\n",
              "      <td>26-04-2018 13:42</td>\n",
              "      <td>1.0</td>\n",
              "      <td>Brown</td>\n",
              "      <td>0.71</td>\n",
              "      <td>30.92</td>\n",
              "      <td>0</td>\n",
              "      <td>7</td>\n",
              "    </tr>\n",
              "  </tbody>\n",
              "</table>\n",
              "</div>"
            ],
            "text/plain": [
              "       pet_id        issue_date      listing_date  ...  height(cm) X1  X2\n",
              "0  ANSL_75005  17-08-2005 00:00  07-09-2017 15:35  ...       42.73  0   7\n",
              "1  ANSL_76663  15-11-2018 00:00  08-05-2019 17:24  ...        6.71  0   1\n",
              "2  ANSL_58259  11-10-2012 00:00  02-04-2018 16:51  ...       41.21  0   7\n",
              "3  ANSL_67171  13-02-2015 00:00  06-04-2018 07:25  ...        8.46  7   1\n",
              "4  ANSL_72871  18-01-2017 00:00  26-04-2018 13:42  ...       30.92  0   7\n",
              "\n",
              "[5 rows x 9 columns]"
            ]
          },
          "metadata": {
            "tags": []
          },
          "execution_count": 7
        }
      ]
    },
    {
      "cell_type": "code",
      "metadata": {
        "id": "e_sXqSC6ixSB",
        "colab_type": "code",
        "colab": {
          "base_uri": "https://localhost:8080/",
          "height": 221
        },
        "outputId": "9d28dd7f-6a97-4f2b-acfc-2f59003b1c29"
      },
      "source": [
        "# Missing values treatment #\n",
        "\n",
        "df['condition'] = df['condition'].fillna(3)\n",
        "df.isnull().sum()"
      ],
      "execution_count": 9,
      "outputs": [
        {
          "output_type": "execute_result",
          "data": {
            "text/plain": [
              "pet_id            0\n",
              "issue_date        0\n",
              "listing_date      0\n",
              "condition         0\n",
              "color_type        0\n",
              "length(m)         0\n",
              "height(cm)        0\n",
              "X1                0\n",
              "X2                0\n",
              "breed_category    0\n",
              "pet_category      0\n",
              "dtype: int64"
            ]
          },
          "metadata": {
            "tags": []
          },
          "execution_count": 9
        }
      ]
    },
    {
      "cell_type": "code",
      "metadata": {
        "id": "aTv1W8GBi-Hi",
        "colab_type": "code",
        "colab": {
          "base_uri": "https://localhost:8080/",
          "height": 119
        },
        "outputId": "e0d5004a-6546-4b9e-d1e5-000506edc215"
      },
      "source": [
        "df[\"listing_date\"] = (df[\"listing_date\"].str.split(\" \", n = 1, expand = True))[0] \n",
        "df[\"listing_date\"].head()"
      ],
      "execution_count": 10,
      "outputs": [
        {
          "output_type": "execute_result",
          "data": {
            "text/plain": [
              "0    2016-09-21\n",
              "1    2018-12-27\n",
              "2    2016-10-19\n",
              "3    2019-01-25\n",
              "4    2017-11-19\n",
              "Name: listing_date, dtype: object"
            ]
          },
          "metadata": {
            "tags": []
          },
          "execution_count": 10
        }
      ]
    },
    {
      "cell_type": "code",
      "metadata": {
        "id": "_p4m7_4XjCxI",
        "colab_type": "code",
        "colab": {
          "base_uri": "https://localhost:8080/",
          "height": 119
        },
        "outputId": "f1832f97-8d33-408c-bd6d-adb21e29eef9"
      },
      "source": [
        "df[\"issue_date\"] = (df[\"issue_date\"].str.split(\" \", n = 1, expand = True))[0] \n",
        "df[\"issue_date\"].head()"
      ],
      "execution_count": 11,
      "outputs": [
        {
          "output_type": "execute_result",
          "data": {
            "text/plain": [
              "0    2016-07-10\n",
              "1    2013-11-21\n",
              "2    2014-09-28\n",
              "3    2016-12-31\n",
              "4    2017-09-28\n",
              "Name: issue_date, dtype: object"
            ]
          },
          "metadata": {
            "tags": []
          },
          "execution_count": 11
        }
      ]
    },
    {
      "cell_type": "code",
      "metadata": {
        "id": "jxuDLZxCjEaa",
        "colab_type": "code",
        "colab": {
          "base_uri": "https://localhost:8080/",
          "height": 119
        },
        "outputId": "0519f326-e0ce-4b50-abe3-4a095ce5ba5f"
      },
      "source": [
        "df['listing_date'] =pd.to_datetime(df['listing_date'], format='%Y-%m-%d')\n",
        "df['listing_date'].head()"
      ],
      "execution_count": 12,
      "outputs": [
        {
          "output_type": "execute_result",
          "data": {
            "text/plain": [
              "0   2016-09-21\n",
              "1   2018-12-27\n",
              "2   2016-10-19\n",
              "3   2019-01-25\n",
              "4   2017-11-19\n",
              "Name: listing_date, dtype: datetime64[ns]"
            ]
          },
          "metadata": {
            "tags": []
          },
          "execution_count": 12
        }
      ]
    },
    {
      "cell_type": "code",
      "metadata": {
        "id": "i3b9yZk9jG5Y",
        "colab_type": "code",
        "colab": {
          "base_uri": "https://localhost:8080/",
          "height": 119
        },
        "outputId": "54f21a79-ab48-4ffa-e28b-d6daa5af81cd"
      },
      "source": [
        "df['issue_date'] =pd.to_datetime(df['issue_date'], format='%Y-%m-%d')\n",
        "df['issue_date'].head()"
      ],
      "execution_count": 13,
      "outputs": [
        {
          "output_type": "execute_result",
          "data": {
            "text/plain": [
              "0   2016-07-10\n",
              "1   2013-11-21\n",
              "2   2014-09-28\n",
              "3   2016-12-31\n",
              "4   2017-09-28\n",
              "Name: issue_date, dtype: datetime64[ns]"
            ]
          },
          "metadata": {
            "tags": []
          },
          "execution_count": 13
        }
      ]
    },
    {
      "cell_type": "code",
      "metadata": {
        "id": "B0JFAFctjInI",
        "colab_type": "code",
        "colab": {
          "base_uri": "https://localhost:8080/",
          "height": 119
        },
        "outputId": "56f64964-80f7-46a0-b111-ffd201d74232"
      },
      "source": [
        "df['No_days'] = (df['listing_date']-df['issue_date']).dt.days  # This will convert no. of days into integer format $#\n",
        "df['No_days'].head()"
      ],
      "execution_count": 14,
      "outputs": [
        {
          "output_type": "execute_result",
          "data": {
            "text/plain": [
              "0      73\n",
              "1    1862\n",
              "2     752\n",
              "3     755\n",
              "4      52\n",
              "Name: No_days, dtype: int64"
            ]
          },
          "metadata": {
            "tags": []
          },
          "execution_count": 14
        }
      ]
    },
    {
      "cell_type": "code",
      "metadata": {
        "id": "TSGEtljWjKu5",
        "colab_type": "code",
        "colab": {
          "base_uri": "https://localhost:8080/",
          "height": 204
        },
        "outputId": "34de9794-bfad-471b-8e6f-3be82d244687"
      },
      "source": [
        "# there is no requirement of issues date and listing date, as well the pet_id so will drop this columns #\n",
        "\n",
        "df = df.drop(['pet_id','issue_date','listing_date'],axis=1)\n",
        "df.head()"
      ],
      "execution_count": 15,
      "outputs": [
        {
          "output_type": "execute_result",
          "data": {
            "text/html": [
              "<div>\n",
              "<style scoped>\n",
              "    .dataframe tbody tr th:only-of-type {\n",
              "        vertical-align: middle;\n",
              "    }\n",
              "\n",
              "    .dataframe tbody tr th {\n",
              "        vertical-align: top;\n",
              "    }\n",
              "\n",
              "    .dataframe thead th {\n",
              "        text-align: right;\n",
              "    }\n",
              "</style>\n",
              "<table border=\"1\" class=\"dataframe\">\n",
              "  <thead>\n",
              "    <tr style=\"text-align: right;\">\n",
              "      <th></th>\n",
              "      <th>condition</th>\n",
              "      <th>color_type</th>\n",
              "      <th>length(m)</th>\n",
              "      <th>height(cm)</th>\n",
              "      <th>X1</th>\n",
              "      <th>X2</th>\n",
              "      <th>breed_category</th>\n",
              "      <th>pet_category</th>\n",
              "      <th>No_days</th>\n",
              "    </tr>\n",
              "  </thead>\n",
              "  <tbody>\n",
              "    <tr>\n",
              "      <th>0</th>\n",
              "      <td>2.0</td>\n",
              "      <td>Brown Tabby</td>\n",
              "      <td>0.80</td>\n",
              "      <td>7.78</td>\n",
              "      <td>13</td>\n",
              "      <td>9</td>\n",
              "      <td>0.0</td>\n",
              "      <td>1</td>\n",
              "      <td>73</td>\n",
              "    </tr>\n",
              "    <tr>\n",
              "      <th>1</th>\n",
              "      <td>1.0</td>\n",
              "      <td>White</td>\n",
              "      <td>0.72</td>\n",
              "      <td>14.19</td>\n",
              "      <td>13</td>\n",
              "      <td>9</td>\n",
              "      <td>0.0</td>\n",
              "      <td>2</td>\n",
              "      <td>1862</td>\n",
              "    </tr>\n",
              "    <tr>\n",
              "      <th>2</th>\n",
              "      <td>3.0</td>\n",
              "      <td>Brown</td>\n",
              "      <td>0.15</td>\n",
              "      <td>40.90</td>\n",
              "      <td>15</td>\n",
              "      <td>4</td>\n",
              "      <td>2.0</td>\n",
              "      <td>4</td>\n",
              "      <td>752</td>\n",
              "    </tr>\n",
              "    <tr>\n",
              "      <th>3</th>\n",
              "      <td>1.0</td>\n",
              "      <td>White</td>\n",
              "      <td>0.62</td>\n",
              "      <td>17.82</td>\n",
              "      <td>0</td>\n",
              "      <td>1</td>\n",
              "      <td>0.0</td>\n",
              "      <td>2</td>\n",
              "      <td>755</td>\n",
              "    </tr>\n",
              "    <tr>\n",
              "      <th>4</th>\n",
              "      <td>2.0</td>\n",
              "      <td>Black</td>\n",
              "      <td>0.50</td>\n",
              "      <td>11.06</td>\n",
              "      <td>18</td>\n",
              "      <td>4</td>\n",
              "      <td>0.0</td>\n",
              "      <td>1</td>\n",
              "      <td>52</td>\n",
              "    </tr>\n",
              "  </tbody>\n",
              "</table>\n",
              "</div>"
            ],
            "text/plain": [
              "   condition   color_type  length(m)  ...  breed_category  pet_category  No_days\n",
              "0        2.0  Brown Tabby       0.80  ...             0.0             1       73\n",
              "1        1.0        White       0.72  ...             0.0             2     1862\n",
              "2        3.0        Brown       0.15  ...             2.0             4      752\n",
              "3        1.0        White       0.62  ...             0.0             2      755\n",
              "4        2.0        Black       0.50  ...             0.0             1       52\n",
              "\n",
              "[5 rows x 9 columns]"
            ]
          },
          "metadata": {
            "tags": []
          },
          "execution_count": 15
        }
      ]
    },
    {
      "cell_type": "code",
      "metadata": {
        "id": "9FLPOv7eAAbj",
        "colab_type": "code",
        "colab": {
          "base_uri": "https://localhost:8080/",
          "height": 204
        },
        "outputId": "9121505c-ce62-43fb-df8e-e05a8b791013"
      },
      "source": [
        "df.head()"
      ],
      "execution_count": null,
      "outputs": [
        {
          "output_type": "execute_result",
          "data": {
            "text/html": [
              "<div>\n",
              "<style scoped>\n",
              "    .dataframe tbody tr th:only-of-type {\n",
              "        vertical-align: middle;\n",
              "    }\n",
              "\n",
              "    .dataframe tbody tr th {\n",
              "        vertical-align: top;\n",
              "    }\n",
              "\n",
              "    .dataframe thead th {\n",
              "        text-align: right;\n",
              "    }\n",
              "</style>\n",
              "<table border=\"1\" class=\"dataframe\">\n",
              "  <thead>\n",
              "    <tr style=\"text-align: right;\">\n",
              "      <th></th>\n",
              "      <th>condition</th>\n",
              "      <th>color_type</th>\n",
              "      <th>length(m)</th>\n",
              "      <th>height(cm)</th>\n",
              "      <th>X1</th>\n",
              "      <th>X2</th>\n",
              "      <th>breed_category</th>\n",
              "      <th>pet_category</th>\n",
              "      <th>No_days</th>\n",
              "    </tr>\n",
              "  </thead>\n",
              "  <tbody>\n",
              "    <tr>\n",
              "      <th>0</th>\n",
              "      <td>2.0</td>\n",
              "      <td>Brown Tabby</td>\n",
              "      <td>0.80</td>\n",
              "      <td>7.78</td>\n",
              "      <td>13</td>\n",
              "      <td>9</td>\n",
              "      <td>0.0</td>\n",
              "      <td>1</td>\n",
              "      <td>73</td>\n",
              "    </tr>\n",
              "    <tr>\n",
              "      <th>1</th>\n",
              "      <td>1.0</td>\n",
              "      <td>White</td>\n",
              "      <td>0.72</td>\n",
              "      <td>14.19</td>\n",
              "      <td>13</td>\n",
              "      <td>9</td>\n",
              "      <td>0.0</td>\n",
              "      <td>2</td>\n",
              "      <td>1862</td>\n",
              "    </tr>\n",
              "    <tr>\n",
              "      <th>2</th>\n",
              "      <td>3.0</td>\n",
              "      <td>Brown</td>\n",
              "      <td>0.15</td>\n",
              "      <td>40.90</td>\n",
              "      <td>15</td>\n",
              "      <td>4</td>\n",
              "      <td>2.0</td>\n",
              "      <td>4</td>\n",
              "      <td>752</td>\n",
              "    </tr>\n",
              "    <tr>\n",
              "      <th>3</th>\n",
              "      <td>1.0</td>\n",
              "      <td>White</td>\n",
              "      <td>0.62</td>\n",
              "      <td>17.82</td>\n",
              "      <td>0</td>\n",
              "      <td>1</td>\n",
              "      <td>0.0</td>\n",
              "      <td>2</td>\n",
              "      <td>755</td>\n",
              "    </tr>\n",
              "    <tr>\n",
              "      <th>4</th>\n",
              "      <td>2.0</td>\n",
              "      <td>Black</td>\n",
              "      <td>0.50</td>\n",
              "      <td>11.06</td>\n",
              "      <td>18</td>\n",
              "      <td>4</td>\n",
              "      <td>0.0</td>\n",
              "      <td>1</td>\n",
              "      <td>52</td>\n",
              "    </tr>\n",
              "  </tbody>\n",
              "</table>\n",
              "</div>"
            ],
            "text/plain": [
              "   condition   color_type  length(m)  ...  breed_category  pet_category  No_days\n",
              "0        2.0  Brown Tabby       0.80  ...             0.0             1       73\n",
              "1        1.0        White       0.72  ...             0.0             2     1862\n",
              "2        3.0        Brown       0.15  ...             2.0             4      752\n",
              "3        1.0        White       0.62  ...             0.0             2      755\n",
              "4        2.0        Black       0.50  ...             0.0             1       52\n",
              "\n",
              "[5 rows x 9 columns]"
            ]
          },
          "metadata": {
            "tags": []
          },
          "execution_count": 15
        }
      ]
    },
    {
      "cell_type": "code",
      "metadata": {
        "id": "MUzfFfQTABJ7",
        "colab_type": "code",
        "colab": {}
      },
      "source": [
        ""
      ],
      "execution_count": null,
      "outputs": []
    },
    {
      "cell_type": "code",
      "metadata": {
        "id": "WHf1pqfXjNOw",
        "colab_type": "code",
        "colab": {
          "base_uri": "https://localhost:8080/",
          "height": 204
        },
        "outputId": "cf944215-88b1-46b0-d209-02fae31bdffd"
      },
      "source": [
        "# Dropping the length and height as they do not have a significanr relationship with the yarget variables\n",
        "\n",
        "df = df.drop(['height(cm)','length(m)'],axis=1)\n",
        "df.head()\n"
      ],
      "execution_count": 16,
      "outputs": [
        {
          "output_type": "execute_result",
          "data": {
            "text/html": [
              "<div>\n",
              "<style scoped>\n",
              "    .dataframe tbody tr th:only-of-type {\n",
              "        vertical-align: middle;\n",
              "    }\n",
              "\n",
              "    .dataframe tbody tr th {\n",
              "        vertical-align: top;\n",
              "    }\n",
              "\n",
              "    .dataframe thead th {\n",
              "        text-align: right;\n",
              "    }\n",
              "</style>\n",
              "<table border=\"1\" class=\"dataframe\">\n",
              "  <thead>\n",
              "    <tr style=\"text-align: right;\">\n",
              "      <th></th>\n",
              "      <th>condition</th>\n",
              "      <th>color_type</th>\n",
              "      <th>X1</th>\n",
              "      <th>X2</th>\n",
              "      <th>breed_category</th>\n",
              "      <th>pet_category</th>\n",
              "      <th>No_days</th>\n",
              "    </tr>\n",
              "  </thead>\n",
              "  <tbody>\n",
              "    <tr>\n",
              "      <th>0</th>\n",
              "      <td>2.0</td>\n",
              "      <td>Brown Tabby</td>\n",
              "      <td>13</td>\n",
              "      <td>9</td>\n",
              "      <td>0.0</td>\n",
              "      <td>1</td>\n",
              "      <td>73</td>\n",
              "    </tr>\n",
              "    <tr>\n",
              "      <th>1</th>\n",
              "      <td>1.0</td>\n",
              "      <td>White</td>\n",
              "      <td>13</td>\n",
              "      <td>9</td>\n",
              "      <td>0.0</td>\n",
              "      <td>2</td>\n",
              "      <td>1862</td>\n",
              "    </tr>\n",
              "    <tr>\n",
              "      <th>2</th>\n",
              "      <td>3.0</td>\n",
              "      <td>Brown</td>\n",
              "      <td>15</td>\n",
              "      <td>4</td>\n",
              "      <td>2.0</td>\n",
              "      <td>4</td>\n",
              "      <td>752</td>\n",
              "    </tr>\n",
              "    <tr>\n",
              "      <th>3</th>\n",
              "      <td>1.0</td>\n",
              "      <td>White</td>\n",
              "      <td>0</td>\n",
              "      <td>1</td>\n",
              "      <td>0.0</td>\n",
              "      <td>2</td>\n",
              "      <td>755</td>\n",
              "    </tr>\n",
              "    <tr>\n",
              "      <th>4</th>\n",
              "      <td>2.0</td>\n",
              "      <td>Black</td>\n",
              "      <td>18</td>\n",
              "      <td>4</td>\n",
              "      <td>0.0</td>\n",
              "      <td>1</td>\n",
              "      <td>52</td>\n",
              "    </tr>\n",
              "  </tbody>\n",
              "</table>\n",
              "</div>"
            ],
            "text/plain": [
              "   condition   color_type  X1  X2  breed_category  pet_category  No_days\n",
              "0        2.0  Brown Tabby  13   9             0.0             1       73\n",
              "1        1.0        White  13   9             0.0             2     1862\n",
              "2        3.0        Brown  15   4             2.0             4      752\n",
              "3        1.0        White   0   1             0.0             2      755\n",
              "4        2.0        Black  18   4             0.0             1       52"
            ]
          },
          "metadata": {
            "tags": []
          },
          "execution_count": 16
        }
      ]
    },
    {
      "cell_type": "code",
      "metadata": {
        "id": "IG4HkTAejP2T",
        "colab_type": "code",
        "colab": {
          "base_uri": "https://localhost:8080/",
          "height": 255
        },
        "outputId": "6b45ea89-f808-4d74-9675-7475a38fba19"
      },
      "source": [
        "df.info()\n",
        "\n",
        "#Handling the categorical variable colour #\n",
        "from sklearn import preprocessing\n",
        "le = preprocessing.LabelEncoder()"
      ],
      "execution_count": 17,
      "outputs": [
        {
          "output_type": "stream",
          "text": [
            "<class 'pandas.core.frame.DataFrame'>\n",
            "RangeIndex: 18834 entries, 0 to 18833\n",
            "Data columns (total 7 columns):\n",
            " #   Column          Non-Null Count  Dtype  \n",
            "---  ------          --------------  -----  \n",
            " 0   condition       18834 non-null  float64\n",
            " 1   color_type      18834 non-null  object \n",
            " 2   X1              18834 non-null  int64  \n",
            " 3   X2              18834 non-null  int64  \n",
            " 4   breed_category  18834 non-null  float64\n",
            " 5   pet_category    18834 non-null  int64  \n",
            " 6   No_days         18834 non-null  int64  \n",
            "dtypes: float64(2), int64(4), object(1)\n",
            "memory usage: 1.0+ MB\n"
          ],
          "name": "stdout"
        }
      ]
    },
    {
      "cell_type": "code",
      "metadata": {
        "id": "ySMz1lZVjUgh",
        "colab_type": "code",
        "colab": {
          "base_uri": "https://localhost:8080/",
          "height": 119
        },
        "outputId": "9b46626d-a705-4359-ac79-fde37366abb9"
      },
      "source": [
        "x_cat = df['color_type']\n",
        "x_cat.head()"
      ],
      "execution_count": 18,
      "outputs": [
        {
          "output_type": "execute_result",
          "data": {
            "text/plain": [
              "0    Brown Tabby\n",
              "1          White\n",
              "2          Brown\n",
              "3          White\n",
              "4          Black\n",
              "Name: color_type, dtype: object"
            ]
          },
          "metadata": {
            "tags": []
          },
          "execution_count": 18
        }
      ]
    },
    {
      "cell_type": "code",
      "metadata": {
        "id": "sbLiooAQjXoS",
        "colab_type": "code",
        "colab": {
          "base_uri": "https://localhost:8080/",
          "height": 204
        },
        "outputId": "f9837909-55fa-4643-c121-4663bede99d0"
      },
      "source": [
        "X_cat = pd.DataFrame(le.fit_transform(x_cat))\n",
        "X_cat.head()"
      ],
      "execution_count": 19,
      "outputs": [
        {
          "output_type": "execute_result",
          "data": {
            "text/html": [
              "<div>\n",
              "<style scoped>\n",
              "    .dataframe tbody tr th:only-of-type {\n",
              "        vertical-align: middle;\n",
              "    }\n",
              "\n",
              "    .dataframe tbody tr th {\n",
              "        vertical-align: top;\n",
              "    }\n",
              "\n",
              "    .dataframe thead th {\n",
              "        text-align: right;\n",
              "    }\n",
              "</style>\n",
              "<table border=\"1\" class=\"dataframe\">\n",
              "  <thead>\n",
              "    <tr style=\"text-align: right;\">\n",
              "      <th></th>\n",
              "      <th>0</th>\n",
              "    </tr>\n",
              "  </thead>\n",
              "  <tbody>\n",
              "    <tr>\n",
              "      <th>0</th>\n",
              "      <td>18</td>\n",
              "    </tr>\n",
              "    <tr>\n",
              "      <th>1</th>\n",
              "      <td>53</td>\n",
              "    </tr>\n",
              "    <tr>\n",
              "      <th>2</th>\n",
              "      <td>15</td>\n",
              "    </tr>\n",
              "    <tr>\n",
              "      <th>3</th>\n",
              "      <td>53</td>\n",
              "    </tr>\n",
              "    <tr>\n",
              "      <th>4</th>\n",
              "      <td>2</td>\n",
              "    </tr>\n",
              "  </tbody>\n",
              "</table>\n",
              "</div>"
            ],
            "text/plain": [
              "    0\n",
              "0  18\n",
              "1  53\n",
              "2  15\n",
              "3  53\n",
              "4   2"
            ]
          },
          "metadata": {
            "tags": []
          },
          "execution_count": 19
        }
      ]
    },
    {
      "cell_type": "code",
      "metadata": {
        "id": "DZcxCky0jZCz",
        "colab_type": "code",
        "colab": {
          "base_uri": "https://localhost:8080/",
          "height": 204
        },
        "outputId": "229e0b86-c44b-41f8-daf0-73db2f36140d"
      },
      "source": [
        "# We need ro concart this new colour series to our original data set #\n",
        "\n",
        "X = pd.concat([df,X_cat],axis=1)\n",
        "X.head()"
      ],
      "execution_count": 20,
      "outputs": [
        {
          "output_type": "execute_result",
          "data": {
            "text/html": [
              "<div>\n",
              "<style scoped>\n",
              "    .dataframe tbody tr th:only-of-type {\n",
              "        vertical-align: middle;\n",
              "    }\n",
              "\n",
              "    .dataframe tbody tr th {\n",
              "        vertical-align: top;\n",
              "    }\n",
              "\n",
              "    .dataframe thead th {\n",
              "        text-align: right;\n",
              "    }\n",
              "</style>\n",
              "<table border=\"1\" class=\"dataframe\">\n",
              "  <thead>\n",
              "    <tr style=\"text-align: right;\">\n",
              "      <th></th>\n",
              "      <th>condition</th>\n",
              "      <th>color_type</th>\n",
              "      <th>X1</th>\n",
              "      <th>X2</th>\n",
              "      <th>breed_category</th>\n",
              "      <th>pet_category</th>\n",
              "      <th>No_days</th>\n",
              "      <th>0</th>\n",
              "    </tr>\n",
              "  </thead>\n",
              "  <tbody>\n",
              "    <tr>\n",
              "      <th>0</th>\n",
              "      <td>2.0</td>\n",
              "      <td>Brown Tabby</td>\n",
              "      <td>13</td>\n",
              "      <td>9</td>\n",
              "      <td>0.0</td>\n",
              "      <td>1</td>\n",
              "      <td>73</td>\n",
              "      <td>18</td>\n",
              "    </tr>\n",
              "    <tr>\n",
              "      <th>1</th>\n",
              "      <td>1.0</td>\n",
              "      <td>White</td>\n",
              "      <td>13</td>\n",
              "      <td>9</td>\n",
              "      <td>0.0</td>\n",
              "      <td>2</td>\n",
              "      <td>1862</td>\n",
              "      <td>53</td>\n",
              "    </tr>\n",
              "    <tr>\n",
              "      <th>2</th>\n",
              "      <td>3.0</td>\n",
              "      <td>Brown</td>\n",
              "      <td>15</td>\n",
              "      <td>4</td>\n",
              "      <td>2.0</td>\n",
              "      <td>4</td>\n",
              "      <td>752</td>\n",
              "      <td>15</td>\n",
              "    </tr>\n",
              "    <tr>\n",
              "      <th>3</th>\n",
              "      <td>1.0</td>\n",
              "      <td>White</td>\n",
              "      <td>0</td>\n",
              "      <td>1</td>\n",
              "      <td>0.0</td>\n",
              "      <td>2</td>\n",
              "      <td>755</td>\n",
              "      <td>53</td>\n",
              "    </tr>\n",
              "    <tr>\n",
              "      <th>4</th>\n",
              "      <td>2.0</td>\n",
              "      <td>Black</td>\n",
              "      <td>18</td>\n",
              "      <td>4</td>\n",
              "      <td>0.0</td>\n",
              "      <td>1</td>\n",
              "      <td>52</td>\n",
              "      <td>2</td>\n",
              "    </tr>\n",
              "  </tbody>\n",
              "</table>\n",
              "</div>"
            ],
            "text/plain": [
              "   condition   color_type  X1  X2  breed_category  pet_category  No_days   0\n",
              "0        2.0  Brown Tabby  13   9             0.0             1       73  18\n",
              "1        1.0        White  13   9             0.0             2     1862  53\n",
              "2        3.0        Brown  15   4             2.0             4      752  15\n",
              "3        1.0        White   0   1             0.0             2      755  53\n",
              "4        2.0        Black  18   4             0.0             1       52   2"
            ]
          },
          "metadata": {
            "tags": []
          },
          "execution_count": 20
        }
      ]
    },
    {
      "cell_type": "code",
      "metadata": {
        "id": "ns77ktH1ja1b",
        "colab_type": "code",
        "colab": {
          "base_uri": "https://localhost:8080/",
          "height": 204
        },
        "outputId": "35e2157a-6477-470b-989b-6dad980413e0"
      },
      "source": [
        "X.drop(['color_type'],axis=1,inplace=True)\n",
        "X.head()"
      ],
      "execution_count": 21,
      "outputs": [
        {
          "output_type": "execute_result",
          "data": {
            "text/html": [
              "<div>\n",
              "<style scoped>\n",
              "    .dataframe tbody tr th:only-of-type {\n",
              "        vertical-align: middle;\n",
              "    }\n",
              "\n",
              "    .dataframe tbody tr th {\n",
              "        vertical-align: top;\n",
              "    }\n",
              "\n",
              "    .dataframe thead th {\n",
              "        text-align: right;\n",
              "    }\n",
              "</style>\n",
              "<table border=\"1\" class=\"dataframe\">\n",
              "  <thead>\n",
              "    <tr style=\"text-align: right;\">\n",
              "      <th></th>\n",
              "      <th>condition</th>\n",
              "      <th>X1</th>\n",
              "      <th>X2</th>\n",
              "      <th>breed_category</th>\n",
              "      <th>pet_category</th>\n",
              "      <th>No_days</th>\n",
              "      <th>0</th>\n",
              "    </tr>\n",
              "  </thead>\n",
              "  <tbody>\n",
              "    <tr>\n",
              "      <th>0</th>\n",
              "      <td>2.0</td>\n",
              "      <td>13</td>\n",
              "      <td>9</td>\n",
              "      <td>0.0</td>\n",
              "      <td>1</td>\n",
              "      <td>73</td>\n",
              "      <td>18</td>\n",
              "    </tr>\n",
              "    <tr>\n",
              "      <th>1</th>\n",
              "      <td>1.0</td>\n",
              "      <td>13</td>\n",
              "      <td>9</td>\n",
              "      <td>0.0</td>\n",
              "      <td>2</td>\n",
              "      <td>1862</td>\n",
              "      <td>53</td>\n",
              "    </tr>\n",
              "    <tr>\n",
              "      <th>2</th>\n",
              "      <td>3.0</td>\n",
              "      <td>15</td>\n",
              "      <td>4</td>\n",
              "      <td>2.0</td>\n",
              "      <td>4</td>\n",
              "      <td>752</td>\n",
              "      <td>15</td>\n",
              "    </tr>\n",
              "    <tr>\n",
              "      <th>3</th>\n",
              "      <td>1.0</td>\n",
              "      <td>0</td>\n",
              "      <td>1</td>\n",
              "      <td>0.0</td>\n",
              "      <td>2</td>\n",
              "      <td>755</td>\n",
              "      <td>53</td>\n",
              "    </tr>\n",
              "    <tr>\n",
              "      <th>4</th>\n",
              "      <td>2.0</td>\n",
              "      <td>18</td>\n",
              "      <td>4</td>\n",
              "      <td>0.0</td>\n",
              "      <td>1</td>\n",
              "      <td>52</td>\n",
              "      <td>2</td>\n",
              "    </tr>\n",
              "  </tbody>\n",
              "</table>\n",
              "</div>"
            ],
            "text/plain": [
              "   condition  X1  X2  breed_category  pet_category  No_days   0\n",
              "0        2.0  13   9             0.0             1       73  18\n",
              "1        1.0  13   9             0.0             2     1862  53\n",
              "2        3.0  15   4             2.0             4      752  15\n",
              "3        1.0   0   1             0.0             2      755  53\n",
              "4        2.0  18   4             0.0             1       52   2"
            ]
          },
          "metadata": {
            "tags": []
          },
          "execution_count": 21
        }
      ]
    },
    {
      "cell_type": "code",
      "metadata": {
        "id": "zrR3K4xWjcjr",
        "colab_type": "code",
        "colab": {
          "base_uri": "https://localhost:8080/",
          "height": 204
        },
        "outputId": "b93a1eb2-0e76-4140-e020-a8e971e0b074"
      },
      "source": [
        "# Also we needd to drop the two target variables pet_catergory and breed_category #\n",
        "\n",
        "X.rename(columns = {0:'color'}, inplace = True) \n",
        "\n",
        "X.head()"
      ],
      "execution_count": 22,
      "outputs": [
        {
          "output_type": "execute_result",
          "data": {
            "text/html": [
              "<div>\n",
              "<style scoped>\n",
              "    .dataframe tbody tr th:only-of-type {\n",
              "        vertical-align: middle;\n",
              "    }\n",
              "\n",
              "    .dataframe tbody tr th {\n",
              "        vertical-align: top;\n",
              "    }\n",
              "\n",
              "    .dataframe thead th {\n",
              "        text-align: right;\n",
              "    }\n",
              "</style>\n",
              "<table border=\"1\" class=\"dataframe\">\n",
              "  <thead>\n",
              "    <tr style=\"text-align: right;\">\n",
              "      <th></th>\n",
              "      <th>condition</th>\n",
              "      <th>X1</th>\n",
              "      <th>X2</th>\n",
              "      <th>breed_category</th>\n",
              "      <th>pet_category</th>\n",
              "      <th>No_days</th>\n",
              "      <th>color</th>\n",
              "    </tr>\n",
              "  </thead>\n",
              "  <tbody>\n",
              "    <tr>\n",
              "      <th>0</th>\n",
              "      <td>2.0</td>\n",
              "      <td>13</td>\n",
              "      <td>9</td>\n",
              "      <td>0.0</td>\n",
              "      <td>1</td>\n",
              "      <td>73</td>\n",
              "      <td>18</td>\n",
              "    </tr>\n",
              "    <tr>\n",
              "      <th>1</th>\n",
              "      <td>1.0</td>\n",
              "      <td>13</td>\n",
              "      <td>9</td>\n",
              "      <td>0.0</td>\n",
              "      <td>2</td>\n",
              "      <td>1862</td>\n",
              "      <td>53</td>\n",
              "    </tr>\n",
              "    <tr>\n",
              "      <th>2</th>\n",
              "      <td>3.0</td>\n",
              "      <td>15</td>\n",
              "      <td>4</td>\n",
              "      <td>2.0</td>\n",
              "      <td>4</td>\n",
              "      <td>752</td>\n",
              "      <td>15</td>\n",
              "    </tr>\n",
              "    <tr>\n",
              "      <th>3</th>\n",
              "      <td>1.0</td>\n",
              "      <td>0</td>\n",
              "      <td>1</td>\n",
              "      <td>0.0</td>\n",
              "      <td>2</td>\n",
              "      <td>755</td>\n",
              "      <td>53</td>\n",
              "    </tr>\n",
              "    <tr>\n",
              "      <th>4</th>\n",
              "      <td>2.0</td>\n",
              "      <td>18</td>\n",
              "      <td>4</td>\n",
              "      <td>0.0</td>\n",
              "      <td>1</td>\n",
              "      <td>52</td>\n",
              "      <td>2</td>\n",
              "    </tr>\n",
              "  </tbody>\n",
              "</table>\n",
              "</div>"
            ],
            "text/plain": [
              "   condition  X1  X2  breed_category  pet_category  No_days  color\n",
              "0        2.0  13   9             0.0             1       73     18\n",
              "1        1.0  13   9             0.0             2     1862     53\n",
              "2        3.0  15   4             2.0             4      752     15\n",
              "3        1.0   0   1             0.0             2      755     53\n",
              "4        2.0  18   4             0.0             1       52      2"
            ]
          },
          "metadata": {
            "tags": []
          },
          "execution_count": 22
        }
      ]
    },
    {
      "cell_type": "code",
      "metadata": {
        "id": "tclaWVX3jd5E",
        "colab_type": "code",
        "colab": {
          "base_uri": "https://localhost:8080/",
          "height": 204
        },
        "outputId": "b6cf53ca-c4df-4c91-dd3d-c2cd57f29fe2"
      },
      "source": [
        "# We will drop both the target variables from this # Independent cariables #\n",
        "\n",
        "x = X.drop(['breed_category','pet_category'],axis=1)\n",
        "x.head()"
      ],
      "execution_count": 23,
      "outputs": [
        {
          "output_type": "execute_result",
          "data": {
            "text/html": [
              "<div>\n",
              "<style scoped>\n",
              "    .dataframe tbody tr th:only-of-type {\n",
              "        vertical-align: middle;\n",
              "    }\n",
              "\n",
              "    .dataframe tbody tr th {\n",
              "        vertical-align: top;\n",
              "    }\n",
              "\n",
              "    .dataframe thead th {\n",
              "        text-align: right;\n",
              "    }\n",
              "</style>\n",
              "<table border=\"1\" class=\"dataframe\">\n",
              "  <thead>\n",
              "    <tr style=\"text-align: right;\">\n",
              "      <th></th>\n",
              "      <th>condition</th>\n",
              "      <th>X1</th>\n",
              "      <th>X2</th>\n",
              "      <th>No_days</th>\n",
              "      <th>color</th>\n",
              "    </tr>\n",
              "  </thead>\n",
              "  <tbody>\n",
              "    <tr>\n",
              "      <th>0</th>\n",
              "      <td>2.0</td>\n",
              "      <td>13</td>\n",
              "      <td>9</td>\n",
              "      <td>73</td>\n",
              "      <td>18</td>\n",
              "    </tr>\n",
              "    <tr>\n",
              "      <th>1</th>\n",
              "      <td>1.0</td>\n",
              "      <td>13</td>\n",
              "      <td>9</td>\n",
              "      <td>1862</td>\n",
              "      <td>53</td>\n",
              "    </tr>\n",
              "    <tr>\n",
              "      <th>2</th>\n",
              "      <td>3.0</td>\n",
              "      <td>15</td>\n",
              "      <td>4</td>\n",
              "      <td>752</td>\n",
              "      <td>15</td>\n",
              "    </tr>\n",
              "    <tr>\n",
              "      <th>3</th>\n",
              "      <td>1.0</td>\n",
              "      <td>0</td>\n",
              "      <td>1</td>\n",
              "      <td>755</td>\n",
              "      <td>53</td>\n",
              "    </tr>\n",
              "    <tr>\n",
              "      <th>4</th>\n",
              "      <td>2.0</td>\n",
              "      <td>18</td>\n",
              "      <td>4</td>\n",
              "      <td>52</td>\n",
              "      <td>2</td>\n",
              "    </tr>\n",
              "  </tbody>\n",
              "</table>\n",
              "</div>"
            ],
            "text/plain": [
              "   condition  X1  X2  No_days  color\n",
              "0        2.0  13   9       73     18\n",
              "1        1.0  13   9     1862     53\n",
              "2        3.0  15   4      752     15\n",
              "3        1.0   0   1      755     53\n",
              "4        2.0  18   4       52      2"
            ]
          },
          "metadata": {
            "tags": []
          },
          "execution_count": 23
        }
      ]
    },
    {
      "cell_type": "code",
      "metadata": {
        "id": "dneC3fU5jfyL",
        "colab_type": "code",
        "colab": {}
      },
      "source": [
        "# Identifying yhe categort variables, as they need to be mentioned separately for applying the catboosting algorithm #\n",
        "\n",
        "cat_features_index = [0,4]   # Condition & Color are categorical variables "
      ],
      "execution_count": 24,
      "outputs": []
    },
    {
      "cell_type": "code",
      "metadata": {
        "id": "8sbn4cv4jny5",
        "colab_type": "code",
        "colab": {
          "base_uri": "https://localhost:8080/",
          "height": 221
        },
        "outputId": "0d3fd1dc-e4cb-4c32-a372-599cac53cc9f"
      },
      "source": [
        "x['condition'] = x['condition'].astype('int64')\n",
        "x.info()"
      ],
      "execution_count": 25,
      "outputs": [
        {
          "output_type": "stream",
          "text": [
            "<class 'pandas.core.frame.DataFrame'>\n",
            "RangeIndex: 18834 entries, 0 to 18833\n",
            "Data columns (total 5 columns):\n",
            " #   Column     Non-Null Count  Dtype\n",
            "---  ------     --------------  -----\n",
            " 0   condition  18834 non-null  int64\n",
            " 1   X1         18834 non-null  int64\n",
            " 2   X2         18834 non-null  int64\n",
            " 3   No_days    18834 non-null  int64\n",
            " 4   color      18834 non-null  int64\n",
            "dtypes: int64(5)\n",
            "memory usage: 735.8 KB\n"
          ],
          "name": "stdout"
        }
      ]
    },
    {
      "cell_type": "code",
      "metadata": {
        "id": "ofosBO0_jwe4",
        "colab_type": "code",
        "colab": {
          "base_uri": "https://localhost:8080/",
          "height": 204
        },
        "outputId": "bb0ef0a2-bde3-43ff-8143-d6fe323e14b3"
      },
      "source": [
        "x.head()"
      ],
      "execution_count": 26,
      "outputs": [
        {
          "output_type": "execute_result",
          "data": {
            "text/html": [
              "<div>\n",
              "<style scoped>\n",
              "    .dataframe tbody tr th:only-of-type {\n",
              "        vertical-align: middle;\n",
              "    }\n",
              "\n",
              "    .dataframe tbody tr th {\n",
              "        vertical-align: top;\n",
              "    }\n",
              "\n",
              "    .dataframe thead th {\n",
              "        text-align: right;\n",
              "    }\n",
              "</style>\n",
              "<table border=\"1\" class=\"dataframe\">\n",
              "  <thead>\n",
              "    <tr style=\"text-align: right;\">\n",
              "      <th></th>\n",
              "      <th>condition</th>\n",
              "      <th>X1</th>\n",
              "      <th>X2</th>\n",
              "      <th>No_days</th>\n",
              "      <th>color</th>\n",
              "    </tr>\n",
              "  </thead>\n",
              "  <tbody>\n",
              "    <tr>\n",
              "      <th>0</th>\n",
              "      <td>2</td>\n",
              "      <td>13</td>\n",
              "      <td>9</td>\n",
              "      <td>73</td>\n",
              "      <td>18</td>\n",
              "    </tr>\n",
              "    <tr>\n",
              "      <th>1</th>\n",
              "      <td>1</td>\n",
              "      <td>13</td>\n",
              "      <td>9</td>\n",
              "      <td>1862</td>\n",
              "      <td>53</td>\n",
              "    </tr>\n",
              "    <tr>\n",
              "      <th>2</th>\n",
              "      <td>3</td>\n",
              "      <td>15</td>\n",
              "      <td>4</td>\n",
              "      <td>752</td>\n",
              "      <td>15</td>\n",
              "    </tr>\n",
              "    <tr>\n",
              "      <th>3</th>\n",
              "      <td>1</td>\n",
              "      <td>0</td>\n",
              "      <td>1</td>\n",
              "      <td>755</td>\n",
              "      <td>53</td>\n",
              "    </tr>\n",
              "    <tr>\n",
              "      <th>4</th>\n",
              "      <td>2</td>\n",
              "      <td>18</td>\n",
              "      <td>4</td>\n",
              "      <td>52</td>\n",
              "      <td>2</td>\n",
              "    </tr>\n",
              "  </tbody>\n",
              "</table>\n",
              "</div>"
            ],
            "text/plain": [
              "   condition  X1  X2  No_days  color\n",
              "0          2  13   9       73     18\n",
              "1          1  13   9     1862     53\n",
              "2          3  15   4      752     15\n",
              "3          1   0   1      755     53\n",
              "4          2  18   4       52      2"
            ]
          },
          "metadata": {
            "tags": []
          },
          "execution_count": 26
        }
      ]
    },
    {
      "cell_type": "code",
      "metadata": {
        "id": "J1TFRvLZj1ks",
        "colab_type": "code",
        "colab": {
          "base_uri": "https://localhost:8080/",
          "height": 119
        },
        "outputId": "d30b8f39-b543-4b6e-8b36-be5d7fa2fe68"
      },
      "source": [
        "# Target variables : Breed_categpru & Pet categpory \n",
        "# Differentating yhe independnetn & dependent variables #\n",
        "y = X['breed_category']  # 1. target variable : Breed_category\n",
        "y.head()"
      ],
      "execution_count": 27,
      "outputs": [
        {
          "output_type": "execute_result",
          "data": {
            "text/plain": [
              "0    0.0\n",
              "1    0.0\n",
              "2    2.0\n",
              "3    0.0\n",
              "4    0.0\n",
              "Name: breed_category, dtype: float64"
            ]
          },
          "metadata": {
            "tags": []
          },
          "execution_count": 27
        }
      ]
    },
    {
      "cell_type": "code",
      "metadata": {
        "id": "Kg5aE6kQkBmq",
        "colab_type": "code",
        "colab": {
          "base_uri": "https://localhost:8080/",
          "height": 119
        },
        "outputId": "93dc376a-2675-4a94-e8ee-521730d03a10"
      },
      "source": [
        "y1 = X['pet_category']  # 2. target variable : Pet_category\n",
        "y1.head()"
      ],
      "execution_count": 28,
      "outputs": [
        {
          "output_type": "execute_result",
          "data": {
            "text/plain": [
              "0    1\n",
              "1    2\n",
              "2    4\n",
              "3    2\n",
              "4    1\n",
              "Name: pet_category, dtype: int64"
            ]
          },
          "metadata": {
            "tags": []
          },
          "execution_count": 28
        }
      ]
    },
    {
      "cell_type": "code",
      "metadata": {
        "id": "LkrBq3ItkNFb",
        "colab_type": "code",
        "colab": {
          "base_uri": "https://localhost:8080/",
          "height": 119
        },
        "outputId": "a8e3a736-6e39-4a12-d9d7-754f889e746d"
      },
      "source": [
        "# Applying the same above prepreccing steps for the test data set # # test data set - df1\n",
        "\n",
        "# Removing the time portion for issue data and listing dates \n",
        "\n",
        "df1[\"listing_date\"] = (df1[\"listing_date\"].str.split(\" \", n = 1, expand = True))[0] \n",
        "df1[\"listing_date\"].head()"
      ],
      "execution_count": 29,
      "outputs": [
        {
          "output_type": "execute_result",
          "data": {
            "text/plain": [
              "0    07-09-2017\n",
              "1    08-05-2019\n",
              "2    02-04-2018\n",
              "3    06-04-2018\n",
              "4    26-04-2018\n",
              "Name: listing_date, dtype: object"
            ]
          },
          "metadata": {
            "tags": []
          },
          "execution_count": 29
        }
      ]
    },
    {
      "cell_type": "code",
      "metadata": {
        "id": "50Wd9GkIkPdJ",
        "colab_type": "code",
        "colab": {
          "base_uri": "https://localhost:8080/",
          "height": 119
        },
        "outputId": "e6ae812e-aaa9-4017-a2b2-f7b6aadc4d6e"
      },
      "source": [
        "df1[\"issue_date\"] = (df1[\"issue_date\"].str.split(\" \", n = 1, expand = True))[0] \n",
        "df1[\"issue_date\"].head()"
      ],
      "execution_count": 30,
      "outputs": [
        {
          "output_type": "execute_result",
          "data": {
            "text/plain": [
              "0    17-08-2005\n",
              "1    15-11-2018\n",
              "2    11-10-2012\n",
              "3    13-02-2015\n",
              "4    18-01-2017\n",
              "Name: issue_date, dtype: object"
            ]
          },
          "metadata": {
            "tags": []
          },
          "execution_count": 30
        }
      ]
    },
    {
      "cell_type": "code",
      "metadata": {
        "id": "P-s31Jo2kQ6s",
        "colab_type": "code",
        "colab": {
          "base_uri": "https://localhost:8080/",
          "height": 119
        },
        "outputId": "469bb70a-3d56-4699-cf5d-ed1776dd1f4c"
      },
      "source": [
        "df1['listing_date'] =pd.to_datetime(df1['listing_date'], format='%d-%m-%Y')\n",
        "df1['listing_date'].head()"
      ],
      "execution_count": 31,
      "outputs": [
        {
          "output_type": "execute_result",
          "data": {
            "text/plain": [
              "0   2017-09-07\n",
              "1   2019-05-08\n",
              "2   2018-04-02\n",
              "3   2018-04-06\n",
              "4   2018-04-26\n",
              "Name: listing_date, dtype: datetime64[ns]"
            ]
          },
          "metadata": {
            "tags": []
          },
          "execution_count": 31
        }
      ]
    },
    {
      "cell_type": "code",
      "metadata": {
        "id": "pe3aSGWWkSZq",
        "colab_type": "code",
        "colab": {
          "base_uri": "https://localhost:8080/",
          "height": 119
        },
        "outputId": "d9e3f5f6-4862-45f4-d8c0-aea9b1d3a36f"
      },
      "source": [
        "df1['issue_date'] =pd.to_datetime(df1['issue_date'], format='%d-%m-%Y')\n",
        "df1['issue_date'].head()"
      ],
      "execution_count": 32,
      "outputs": [
        {
          "output_type": "execute_result",
          "data": {
            "text/plain": [
              "0   2005-08-17\n",
              "1   2018-11-15\n",
              "2   2012-10-11\n",
              "3   2015-02-13\n",
              "4   2017-01-18\n",
              "Name: issue_date, dtype: datetime64[ns]"
            ]
          },
          "metadata": {
            "tags": []
          },
          "execution_count": 32
        }
      ]
    },
    {
      "cell_type": "code",
      "metadata": {
        "id": "yhnMpv8ukUQm",
        "colab_type": "code",
        "colab": {
          "base_uri": "https://localhost:8080/",
          "height": 119
        },
        "outputId": "5db7a45d-e3c7-4f39-87ac-26edc9102fb8"
      },
      "source": [
        "# Identifuy the no. of days between listuing date and issue date #\n",
        "\n",
        "df1['No_days'] = (df1['listing_date']-df1['issue_date']).dt.days\n",
        "df1['No_days'].head()"
      ],
      "execution_count": 33,
      "outputs": [
        {
          "output_type": "execute_result",
          "data": {
            "text/plain": [
              "0    4404\n",
              "1     174\n",
              "2    1999\n",
              "3    1148\n",
              "4     463\n",
              "Name: No_days, dtype: int64"
            ]
          },
          "metadata": {
            "tags": []
          },
          "execution_count": 33
        }
      ]
    },
    {
      "cell_type": "code",
      "metadata": {
        "id": "3N8tQ1ojkV9E",
        "colab_type": "code",
        "colab": {
          "base_uri": "https://localhost:8080/",
          "height": 204
        },
        "outputId": "18b7e08b-a585-479c-e51d-8c32e8a1c776"
      },
      "source": [
        "df1.head()"
      ],
      "execution_count": 34,
      "outputs": [
        {
          "output_type": "execute_result",
          "data": {
            "text/html": [
              "<div>\n",
              "<style scoped>\n",
              "    .dataframe tbody tr th:only-of-type {\n",
              "        vertical-align: middle;\n",
              "    }\n",
              "\n",
              "    .dataframe tbody tr th {\n",
              "        vertical-align: top;\n",
              "    }\n",
              "\n",
              "    .dataframe thead th {\n",
              "        text-align: right;\n",
              "    }\n",
              "</style>\n",
              "<table border=\"1\" class=\"dataframe\">\n",
              "  <thead>\n",
              "    <tr style=\"text-align: right;\">\n",
              "      <th></th>\n",
              "      <th>pet_id</th>\n",
              "      <th>issue_date</th>\n",
              "      <th>listing_date</th>\n",
              "      <th>condition</th>\n",
              "      <th>color_type</th>\n",
              "      <th>length(m)</th>\n",
              "      <th>height(cm)</th>\n",
              "      <th>X1</th>\n",
              "      <th>X2</th>\n",
              "      <th>No_days</th>\n",
              "    </tr>\n",
              "  </thead>\n",
              "  <tbody>\n",
              "    <tr>\n",
              "      <th>0</th>\n",
              "      <td>ANSL_75005</td>\n",
              "      <td>2005-08-17</td>\n",
              "      <td>2017-09-07</td>\n",
              "      <td>0.0</td>\n",
              "      <td>Black</td>\n",
              "      <td>0.87</td>\n",
              "      <td>42.73</td>\n",
              "      <td>0</td>\n",
              "      <td>7</td>\n",
              "      <td>4404</td>\n",
              "    </tr>\n",
              "    <tr>\n",
              "      <th>1</th>\n",
              "      <td>ANSL_76663</td>\n",
              "      <td>2018-11-15</td>\n",
              "      <td>2019-05-08</td>\n",
              "      <td>1.0</td>\n",
              "      <td>Orange Tabby</td>\n",
              "      <td>0.06</td>\n",
              "      <td>6.71</td>\n",
              "      <td>0</td>\n",
              "      <td>1</td>\n",
              "      <td>174</td>\n",
              "    </tr>\n",
              "    <tr>\n",
              "      <th>2</th>\n",
              "      <td>ANSL_58259</td>\n",
              "      <td>2012-10-11</td>\n",
              "      <td>2018-04-02</td>\n",
              "      <td>1.0</td>\n",
              "      <td>Black</td>\n",
              "      <td>0.24</td>\n",
              "      <td>41.21</td>\n",
              "      <td>0</td>\n",
              "      <td>7</td>\n",
              "      <td>1999</td>\n",
              "    </tr>\n",
              "    <tr>\n",
              "      <th>3</th>\n",
              "      <td>ANSL_67171</td>\n",
              "      <td>2015-02-13</td>\n",
              "      <td>2018-04-06</td>\n",
              "      <td>1.0</td>\n",
              "      <td>Black</td>\n",
              "      <td>0.29</td>\n",
              "      <td>8.46</td>\n",
              "      <td>7</td>\n",
              "      <td>1</td>\n",
              "      <td>1148</td>\n",
              "    </tr>\n",
              "    <tr>\n",
              "      <th>4</th>\n",
              "      <td>ANSL_72871</td>\n",
              "      <td>2017-01-18</td>\n",
              "      <td>2018-04-26</td>\n",
              "      <td>1.0</td>\n",
              "      <td>Brown</td>\n",
              "      <td>0.71</td>\n",
              "      <td>30.92</td>\n",
              "      <td>0</td>\n",
              "      <td>7</td>\n",
              "      <td>463</td>\n",
              "    </tr>\n",
              "  </tbody>\n",
              "</table>\n",
              "</div>"
            ],
            "text/plain": [
              "       pet_id issue_date listing_date  condition  ... height(cm)  X1  X2  No_days\n",
              "0  ANSL_75005 2005-08-17   2017-09-07        0.0  ...      42.73   0   7     4404\n",
              "1  ANSL_76663 2018-11-15   2019-05-08        1.0  ...       6.71   0   1      174\n",
              "2  ANSL_58259 2012-10-11   2018-04-02        1.0  ...      41.21   0   7     1999\n",
              "3  ANSL_67171 2015-02-13   2018-04-06        1.0  ...       8.46   7   1     1148\n",
              "4  ANSL_72871 2017-01-18   2018-04-26        1.0  ...      30.92   0   7      463\n",
              "\n",
              "[5 rows x 10 columns]"
            ]
          },
          "metadata": {
            "tags": []
          },
          "execution_count": 34
        }
      ]
    },
    {
      "cell_type": "code",
      "metadata": {
        "id": "crAko7cmkXsK",
        "colab_type": "code",
        "colab": {
          "base_uri": "https://localhost:8080/",
          "height": 204
        },
        "outputId": "ece92711-8658-4fba-e048-c61b10a9dcfe"
      },
      "source": [
        "# Replacing the null values in the condition with a value of 3 \n",
        "\n",
        "df1['condition'] = df1['condition'].fillna(3)\n",
        "df1.isnull().sum()"
      ],
      "execution_count": 35,
      "outputs": [
        {
          "output_type": "execute_result",
          "data": {
            "text/plain": [
              "pet_id          0\n",
              "issue_date      0\n",
              "listing_date    0\n",
              "condition       0\n",
              "color_type      0\n",
              "length(m)       0\n",
              "height(cm)      0\n",
              "X1              0\n",
              "X2              0\n",
              "No_days         0\n",
              "dtype: int64"
            ]
          },
          "metadata": {
            "tags": []
          },
          "execution_count": 35
        }
      ]
    },
    {
      "cell_type": "code",
      "metadata": {
        "id": "n_QvK-r3kdzw",
        "colab_type": "code",
        "colab": {}
      },
      "source": [
        "df2 = df1.drop(['pet_id','issue_date','listing_date','length(m)','height(cm)'],axis=1)\n"
      ],
      "execution_count": 36,
      "outputs": []
    },
    {
      "cell_type": "code",
      "metadata": {
        "id": "Nh9QXZdykexq",
        "colab_type": "code",
        "colab": {
          "base_uri": "https://localhost:8080/",
          "height": 204
        },
        "outputId": "37ef49d4-fe02-4fc2-e6e9-f5feb99fe635"
      },
      "source": [
        "df2.head()"
      ],
      "execution_count": 37,
      "outputs": [
        {
          "output_type": "execute_result",
          "data": {
            "text/html": [
              "<div>\n",
              "<style scoped>\n",
              "    .dataframe tbody tr th:only-of-type {\n",
              "        vertical-align: middle;\n",
              "    }\n",
              "\n",
              "    .dataframe tbody tr th {\n",
              "        vertical-align: top;\n",
              "    }\n",
              "\n",
              "    .dataframe thead th {\n",
              "        text-align: right;\n",
              "    }\n",
              "</style>\n",
              "<table border=\"1\" class=\"dataframe\">\n",
              "  <thead>\n",
              "    <tr style=\"text-align: right;\">\n",
              "      <th></th>\n",
              "      <th>condition</th>\n",
              "      <th>color_type</th>\n",
              "      <th>X1</th>\n",
              "      <th>X2</th>\n",
              "      <th>No_days</th>\n",
              "    </tr>\n",
              "  </thead>\n",
              "  <tbody>\n",
              "    <tr>\n",
              "      <th>0</th>\n",
              "      <td>0.0</td>\n",
              "      <td>Black</td>\n",
              "      <td>0</td>\n",
              "      <td>7</td>\n",
              "      <td>4404</td>\n",
              "    </tr>\n",
              "    <tr>\n",
              "      <th>1</th>\n",
              "      <td>1.0</td>\n",
              "      <td>Orange Tabby</td>\n",
              "      <td>0</td>\n",
              "      <td>1</td>\n",
              "      <td>174</td>\n",
              "    </tr>\n",
              "    <tr>\n",
              "      <th>2</th>\n",
              "      <td>1.0</td>\n",
              "      <td>Black</td>\n",
              "      <td>0</td>\n",
              "      <td>7</td>\n",
              "      <td>1999</td>\n",
              "    </tr>\n",
              "    <tr>\n",
              "      <th>3</th>\n",
              "      <td>1.0</td>\n",
              "      <td>Black</td>\n",
              "      <td>7</td>\n",
              "      <td>1</td>\n",
              "      <td>1148</td>\n",
              "    </tr>\n",
              "    <tr>\n",
              "      <th>4</th>\n",
              "      <td>1.0</td>\n",
              "      <td>Brown</td>\n",
              "      <td>0</td>\n",
              "      <td>7</td>\n",
              "      <td>463</td>\n",
              "    </tr>\n",
              "  </tbody>\n",
              "</table>\n",
              "</div>"
            ],
            "text/plain": [
              "   condition    color_type  X1  X2  No_days\n",
              "0        0.0         Black   0   7     4404\n",
              "1        1.0  Orange Tabby   0   1      174\n",
              "2        1.0         Black   0   7     1999\n",
              "3        1.0         Black   7   1     1148\n",
              "4        1.0         Brown   0   7      463"
            ]
          },
          "metadata": {
            "tags": []
          },
          "execution_count": 37
        }
      ]
    },
    {
      "cell_type": "code",
      "metadata": {
        "id": "JXioGg5ckgwj",
        "colab_type": "code",
        "colab": {
          "base_uri": "https://localhost:8080/",
          "height": 119
        },
        "outputId": "b0c85420-7850-4a02-d192-aaa59c321d93"
      },
      "source": [
        "x_cat1 = df2['color_type']\n",
        "x_cat1.head()"
      ],
      "execution_count": 38,
      "outputs": [
        {
          "output_type": "execute_result",
          "data": {
            "text/plain": [
              "0           Black\n",
              "1    Orange Tabby\n",
              "2           Black\n",
              "3           Black\n",
              "4           Brown\n",
              "Name: color_type, dtype: object"
            ]
          },
          "metadata": {
            "tags": []
          },
          "execution_count": 38
        }
      ]
    },
    {
      "cell_type": "code",
      "metadata": {
        "id": "MIeek_PikigO",
        "colab_type": "code",
        "colab": {}
      },
      "source": [
        "# Converting the color_type into labels with help of label encoder #\n",
        "\n",
        "\n",
        "cat = pd.Series(le.transform(x_cat1))"
      ],
      "execution_count": 39,
      "outputs": []
    },
    {
      "cell_type": "code",
      "metadata": {
        "id": "3BD5mQ77klPM",
        "colab_type": "code",
        "colab": {}
      },
      "source": [
        "X1 = pd.concat([df2,cat],axis=1)"
      ],
      "execution_count": 40,
      "outputs": []
    },
    {
      "cell_type": "code",
      "metadata": {
        "id": "vtChbRh8kpF0",
        "colab_type": "code",
        "colab": {
          "base_uri": "https://localhost:8080/",
          "height": 204
        },
        "outputId": "612b4e9b-66d7-4ffc-dbb7-218871728318"
      },
      "source": [
        "X1.head()"
      ],
      "execution_count": null,
      "outputs": [
        {
          "output_type": "execute_result",
          "data": {
            "text/html": [
              "<div>\n",
              "<style scoped>\n",
              "    .dataframe tbody tr th:only-of-type {\n",
              "        vertical-align: middle;\n",
              "    }\n",
              "\n",
              "    .dataframe tbody tr th {\n",
              "        vertical-align: top;\n",
              "    }\n",
              "\n",
              "    .dataframe thead th {\n",
              "        text-align: right;\n",
              "    }\n",
              "</style>\n",
              "<table border=\"1\" class=\"dataframe\">\n",
              "  <thead>\n",
              "    <tr style=\"text-align: right;\">\n",
              "      <th></th>\n",
              "      <th>condition</th>\n",
              "      <th>color_type</th>\n",
              "      <th>X1</th>\n",
              "      <th>X2</th>\n",
              "      <th>No_days</th>\n",
              "      <th>0</th>\n",
              "    </tr>\n",
              "  </thead>\n",
              "  <tbody>\n",
              "    <tr>\n",
              "      <th>0</th>\n",
              "      <td>0.0</td>\n",
              "      <td>Black</td>\n",
              "      <td>0</td>\n",
              "      <td>7</td>\n",
              "      <td>4404</td>\n",
              "      <td>2</td>\n",
              "    </tr>\n",
              "    <tr>\n",
              "      <th>1</th>\n",
              "      <td>1.0</td>\n",
              "      <td>Orange Tabby</td>\n",
              "      <td>0</td>\n",
              "      <td>1</td>\n",
              "      <td>174</td>\n",
              "      <td>38</td>\n",
              "    </tr>\n",
              "    <tr>\n",
              "      <th>2</th>\n",
              "      <td>1.0</td>\n",
              "      <td>Black</td>\n",
              "      <td>0</td>\n",
              "      <td>7</td>\n",
              "      <td>1999</td>\n",
              "      <td>2</td>\n",
              "    </tr>\n",
              "    <tr>\n",
              "      <th>3</th>\n",
              "      <td>1.0</td>\n",
              "      <td>Black</td>\n",
              "      <td>7</td>\n",
              "      <td>1</td>\n",
              "      <td>1148</td>\n",
              "      <td>2</td>\n",
              "    </tr>\n",
              "    <tr>\n",
              "      <th>4</th>\n",
              "      <td>1.0</td>\n",
              "      <td>Brown</td>\n",
              "      <td>0</td>\n",
              "      <td>7</td>\n",
              "      <td>463</td>\n",
              "      <td>15</td>\n",
              "    </tr>\n",
              "  </tbody>\n",
              "</table>\n",
              "</div>"
            ],
            "text/plain": [
              "   condition    color_type  X1  X2  No_days   0\n",
              "0        0.0         Black   0   7     4404   2\n",
              "1        1.0  Orange Tabby   0   1      174  38\n",
              "2        1.0         Black   0   7     1999   2\n",
              "3        1.0         Black   7   1     1148   2\n",
              "4        1.0         Brown   0   7      463  15"
            ]
          },
          "metadata": {
            "tags": []
          },
          "execution_count": 42
        }
      ]
    },
    {
      "cell_type": "code",
      "metadata": {
        "id": "VDIgDGRqkr23",
        "colab_type": "code",
        "colab": {
          "base_uri": "https://localhost:8080/",
          "height": 204
        },
        "outputId": "c5bdfe9c-db4a-4a58-b237-a6b94100f22c"
      },
      "source": [
        "X1 = X1.drop(['color_type'],axis=1)\n",
        "X1.head()"
      ],
      "execution_count": 41,
      "outputs": [
        {
          "output_type": "execute_result",
          "data": {
            "text/html": [
              "<div>\n",
              "<style scoped>\n",
              "    .dataframe tbody tr th:only-of-type {\n",
              "        vertical-align: middle;\n",
              "    }\n",
              "\n",
              "    .dataframe tbody tr th {\n",
              "        vertical-align: top;\n",
              "    }\n",
              "\n",
              "    .dataframe thead th {\n",
              "        text-align: right;\n",
              "    }\n",
              "</style>\n",
              "<table border=\"1\" class=\"dataframe\">\n",
              "  <thead>\n",
              "    <tr style=\"text-align: right;\">\n",
              "      <th></th>\n",
              "      <th>condition</th>\n",
              "      <th>X1</th>\n",
              "      <th>X2</th>\n",
              "      <th>No_days</th>\n",
              "      <th>0</th>\n",
              "    </tr>\n",
              "  </thead>\n",
              "  <tbody>\n",
              "    <tr>\n",
              "      <th>0</th>\n",
              "      <td>0.0</td>\n",
              "      <td>0</td>\n",
              "      <td>7</td>\n",
              "      <td>4404</td>\n",
              "      <td>2</td>\n",
              "    </tr>\n",
              "    <tr>\n",
              "      <th>1</th>\n",
              "      <td>1.0</td>\n",
              "      <td>0</td>\n",
              "      <td>1</td>\n",
              "      <td>174</td>\n",
              "      <td>38</td>\n",
              "    </tr>\n",
              "    <tr>\n",
              "      <th>2</th>\n",
              "      <td>1.0</td>\n",
              "      <td>0</td>\n",
              "      <td>7</td>\n",
              "      <td>1999</td>\n",
              "      <td>2</td>\n",
              "    </tr>\n",
              "    <tr>\n",
              "      <th>3</th>\n",
              "      <td>1.0</td>\n",
              "      <td>7</td>\n",
              "      <td>1</td>\n",
              "      <td>1148</td>\n",
              "      <td>2</td>\n",
              "    </tr>\n",
              "    <tr>\n",
              "      <th>4</th>\n",
              "      <td>1.0</td>\n",
              "      <td>0</td>\n",
              "      <td>7</td>\n",
              "      <td>463</td>\n",
              "      <td>15</td>\n",
              "    </tr>\n",
              "  </tbody>\n",
              "</table>\n",
              "</div>"
            ],
            "text/plain": [
              "   condition  X1  X2  No_days   0\n",
              "0        0.0   0   7     4404   2\n",
              "1        1.0   0   1      174  38\n",
              "2        1.0   0   7     1999   2\n",
              "3        1.0   7   1     1148   2\n",
              "4        1.0   0   7      463  15"
            ]
          },
          "metadata": {
            "tags": []
          },
          "execution_count": 41
        }
      ]
    },
    {
      "cell_type": "code",
      "metadata": {
        "id": "r5w2_ufAks2d",
        "colab_type": "code",
        "colab": {
          "base_uri": "https://localhost:8080/",
          "height": 204
        },
        "outputId": "44a9eafd-43d9-42f1-d1c3-1487af262835"
      },
      "source": [
        "\n",
        "X1.rename(columns = {0:'color'}, inplace = True) \n",
        "\n",
        "X1.head()"
      ],
      "execution_count": 42,
      "outputs": [
        {
          "output_type": "execute_result",
          "data": {
            "text/html": [
              "<div>\n",
              "<style scoped>\n",
              "    .dataframe tbody tr th:only-of-type {\n",
              "        vertical-align: middle;\n",
              "    }\n",
              "\n",
              "    .dataframe tbody tr th {\n",
              "        vertical-align: top;\n",
              "    }\n",
              "\n",
              "    .dataframe thead th {\n",
              "        text-align: right;\n",
              "    }\n",
              "</style>\n",
              "<table border=\"1\" class=\"dataframe\">\n",
              "  <thead>\n",
              "    <tr style=\"text-align: right;\">\n",
              "      <th></th>\n",
              "      <th>condition</th>\n",
              "      <th>X1</th>\n",
              "      <th>X2</th>\n",
              "      <th>No_days</th>\n",
              "      <th>color</th>\n",
              "    </tr>\n",
              "  </thead>\n",
              "  <tbody>\n",
              "    <tr>\n",
              "      <th>0</th>\n",
              "      <td>0.0</td>\n",
              "      <td>0</td>\n",
              "      <td>7</td>\n",
              "      <td>4404</td>\n",
              "      <td>2</td>\n",
              "    </tr>\n",
              "    <tr>\n",
              "      <th>1</th>\n",
              "      <td>1.0</td>\n",
              "      <td>0</td>\n",
              "      <td>1</td>\n",
              "      <td>174</td>\n",
              "      <td>38</td>\n",
              "    </tr>\n",
              "    <tr>\n",
              "      <th>2</th>\n",
              "      <td>1.0</td>\n",
              "      <td>0</td>\n",
              "      <td>7</td>\n",
              "      <td>1999</td>\n",
              "      <td>2</td>\n",
              "    </tr>\n",
              "    <tr>\n",
              "      <th>3</th>\n",
              "      <td>1.0</td>\n",
              "      <td>7</td>\n",
              "      <td>1</td>\n",
              "      <td>1148</td>\n",
              "      <td>2</td>\n",
              "    </tr>\n",
              "    <tr>\n",
              "      <th>4</th>\n",
              "      <td>1.0</td>\n",
              "      <td>0</td>\n",
              "      <td>7</td>\n",
              "      <td>463</td>\n",
              "      <td>15</td>\n",
              "    </tr>\n",
              "  </tbody>\n",
              "</table>\n",
              "</div>"
            ],
            "text/plain": [
              "   condition  X1  X2  No_days  color\n",
              "0        0.0   0   7     4404      2\n",
              "1        1.0   0   1      174     38\n",
              "2        1.0   0   7     1999      2\n",
              "3        1.0   7   1     1148      2\n",
              "4        1.0   0   7      463     15"
            ]
          },
          "metadata": {
            "tags": []
          },
          "execution_count": 42
        }
      ]
    },
    {
      "cell_type": "code",
      "metadata": {
        "id": "zd1pShADkuXP",
        "colab_type": "code",
        "colab": {
          "base_uri": "https://localhost:8080/",
          "height": 221
        },
        "outputId": "8f8e8223-0b60-401d-ce17-e4f136b1d6f6"
      },
      "source": [
        "X1['condition'] = X1['condition'].astype('int64')\n",
        "X1.info()"
      ],
      "execution_count": 43,
      "outputs": [
        {
          "output_type": "stream",
          "text": [
            "<class 'pandas.core.frame.DataFrame'>\n",
            "RangeIndex: 8072 entries, 0 to 8071\n",
            "Data columns (total 5 columns):\n",
            " #   Column     Non-Null Count  Dtype\n",
            "---  ------     --------------  -----\n",
            " 0   condition  8072 non-null   int64\n",
            " 1   X1         8072 non-null   int64\n",
            " 2   X2         8072 non-null   int64\n",
            " 3   No_days    8072 non-null   int64\n",
            " 4   color      8072 non-null   int64\n",
            "dtypes: int64(5)\n",
            "memory usage: 315.4 KB\n"
          ],
          "name": "stdout"
        }
      ]
    },
    {
      "cell_type": "code",
      "metadata": {
        "id": "3Atr1CKxkwuU",
        "colab_type": "code",
        "colab": {
          "base_uri": "https://localhost:8080/",
          "height": 204
        },
        "outputId": "858ec9b8-3a7a-4ca3-80ed-bb5dc09f074d"
      },
      "source": [
        "df1.head()"
      ],
      "execution_count": null,
      "outputs": [
        {
          "output_type": "execute_result",
          "data": {
            "text/html": [
              "<div>\n",
              "<style scoped>\n",
              "    .dataframe tbody tr th:only-of-type {\n",
              "        vertical-align: middle;\n",
              "    }\n",
              "\n",
              "    .dataframe tbody tr th {\n",
              "        vertical-align: top;\n",
              "    }\n",
              "\n",
              "    .dataframe thead th {\n",
              "        text-align: right;\n",
              "    }\n",
              "</style>\n",
              "<table border=\"1\" class=\"dataframe\">\n",
              "  <thead>\n",
              "    <tr style=\"text-align: right;\">\n",
              "      <th></th>\n",
              "      <th>pet_id</th>\n",
              "      <th>issue_date</th>\n",
              "      <th>listing_date</th>\n",
              "      <th>condition</th>\n",
              "      <th>color_type</th>\n",
              "      <th>length(m)</th>\n",
              "      <th>height(cm)</th>\n",
              "      <th>X1</th>\n",
              "      <th>X2</th>\n",
              "      <th>No_days</th>\n",
              "    </tr>\n",
              "  </thead>\n",
              "  <tbody>\n",
              "    <tr>\n",
              "      <th>0</th>\n",
              "      <td>ANSL_75005</td>\n",
              "      <td>2005-08-17</td>\n",
              "      <td>2017-09-07</td>\n",
              "      <td>0.0</td>\n",
              "      <td>Black</td>\n",
              "      <td>0.87</td>\n",
              "      <td>42.73</td>\n",
              "      <td>0</td>\n",
              "      <td>7</td>\n",
              "      <td>4404</td>\n",
              "    </tr>\n",
              "    <tr>\n",
              "      <th>1</th>\n",
              "      <td>ANSL_76663</td>\n",
              "      <td>2018-11-15</td>\n",
              "      <td>2019-05-08</td>\n",
              "      <td>1.0</td>\n",
              "      <td>Orange Tabby</td>\n",
              "      <td>0.06</td>\n",
              "      <td>6.71</td>\n",
              "      <td>0</td>\n",
              "      <td>1</td>\n",
              "      <td>174</td>\n",
              "    </tr>\n",
              "    <tr>\n",
              "      <th>2</th>\n",
              "      <td>ANSL_58259</td>\n",
              "      <td>2012-10-11</td>\n",
              "      <td>2018-04-02</td>\n",
              "      <td>1.0</td>\n",
              "      <td>Black</td>\n",
              "      <td>0.24</td>\n",
              "      <td>41.21</td>\n",
              "      <td>0</td>\n",
              "      <td>7</td>\n",
              "      <td>1999</td>\n",
              "    </tr>\n",
              "    <tr>\n",
              "      <th>3</th>\n",
              "      <td>ANSL_67171</td>\n",
              "      <td>2015-02-13</td>\n",
              "      <td>2018-04-06</td>\n",
              "      <td>1.0</td>\n",
              "      <td>Black</td>\n",
              "      <td>0.29</td>\n",
              "      <td>8.46</td>\n",
              "      <td>7</td>\n",
              "      <td>1</td>\n",
              "      <td>1148</td>\n",
              "    </tr>\n",
              "    <tr>\n",
              "      <th>4</th>\n",
              "      <td>ANSL_72871</td>\n",
              "      <td>2017-01-18</td>\n",
              "      <td>2018-04-26</td>\n",
              "      <td>1.0</td>\n",
              "      <td>Brown</td>\n",
              "      <td>0.71</td>\n",
              "      <td>30.92</td>\n",
              "      <td>0</td>\n",
              "      <td>7</td>\n",
              "      <td>463</td>\n",
              "    </tr>\n",
              "  </tbody>\n",
              "</table>\n",
              "</div>"
            ],
            "text/plain": [
              "       pet_id issue_date listing_date  condition  ... height(cm)  X1  X2  No_days\n",
              "0  ANSL_75005 2005-08-17   2017-09-07        0.0  ...      42.73   0   7     4404\n",
              "1  ANSL_76663 2018-11-15   2019-05-08        1.0  ...       6.71   0   1      174\n",
              "2  ANSL_58259 2012-10-11   2018-04-02        1.0  ...      41.21   0   7     1999\n",
              "3  ANSL_67171 2015-02-13   2018-04-06        1.0  ...       8.46   7   1     1148\n",
              "4  ANSL_72871 2017-01-18   2018-04-26        1.0  ...      30.92   0   7      463\n",
              "\n",
              "[5 rows x 10 columns]"
            ]
          },
          "metadata": {
            "tags": []
          },
          "execution_count": 46
        }
      ]
    },
    {
      "cell_type": "code",
      "metadata": {
        "id": "vM10w7TJkzaS",
        "colab_type": "code",
        "colab": {
          "base_uri": "https://localhost:8080/",
          "height": 221
        },
        "outputId": "775aeae6-915b-446e-f4f9-5fa536a2b6a8"
      },
      "source": [
        "X1.info()"
      ],
      "execution_count": 44,
      "outputs": [
        {
          "output_type": "stream",
          "text": [
            "<class 'pandas.core.frame.DataFrame'>\n",
            "RangeIndex: 8072 entries, 0 to 8071\n",
            "Data columns (total 5 columns):\n",
            " #   Column     Non-Null Count  Dtype\n",
            "---  ------     --------------  -----\n",
            " 0   condition  8072 non-null   int64\n",
            " 1   X1         8072 non-null   int64\n",
            " 2   X2         8072 non-null   int64\n",
            " 3   No_days    8072 non-null   int64\n",
            " 4   color      8072 non-null   int64\n",
            "dtypes: int64(5)\n",
            "memory usage: 315.4 KB\n"
          ],
          "name": "stdout"
        }
      ]
    },
    {
      "cell_type": "code",
      "metadata": {
        "id": "giPuABZbk2EV",
        "colab_type": "code",
        "colab": {}
      },
      "source": [
        "# Feature scaling : converting into standard scaler form #\n",
        "\n",
        "from sklearn.linear_model import LogisticRegression\n",
        "from sklearn.svm import SVC"
      ],
      "execution_count": 45,
      "outputs": []
    },
    {
      "cell_type": "code",
      "metadata": {
        "id": "ja6hm1g_k3rl",
        "colab_type": "code",
        "colab": {
          "base_uri": "https://localhost:8080/",
          "height": 173
        },
        "outputId": "dbfca3f8-f465-40c1-8e74-9d0392e94490"
      },
      "source": [
        "# Lets build the logistic regression model #\n",
        "\n",
        "lm = LogisticRegression()\n",
        "mo = lm.fit(x,y)\n"
      ],
      "execution_count": 46,
      "outputs": [
        {
          "output_type": "stream",
          "text": [
            "/usr/local/lib/python3.6/dist-packages/sklearn/linear_model/_logistic.py:940: ConvergenceWarning: lbfgs failed to converge (status=1):\n",
            "STOP: TOTAL NO. of ITERATIONS REACHED LIMIT.\n",
            "\n",
            "Increase the number of iterations (max_iter) or scale the data as shown in:\n",
            "    https://scikit-learn.org/stable/modules/preprocessing.html\n",
            "Please also refer to the documentation for alternative solver options:\n",
            "    https://scikit-learn.org/stable/modules/linear_model.html#logistic-regression\n",
            "  extra_warning_msg=_LOGISTIC_SOLVER_CONVERGENCE_MSG)\n"
          ],
          "name": "stderr"
        }
      ]
    },
    {
      "cell_type": "code",
      "metadata": {
        "id": "jGvVhYwIk5Vz",
        "colab_type": "code",
        "colab": {
          "base_uri": "https://localhost:8080/",
          "height": 85
        },
        "outputId": "4e969c1a-a66e-48ed-9a36-fa8a9694041c"
      },
      "source": [
        "\n",
        "from sklearn.metrics import accuracy_score\n",
        "from sklearn.metrics import confusion_matrix\n",
        "\n",
        "# classification report and confusion matrix #\n",
        "y_pred = mo.predict(x)\n",
        "\n",
        "con = confusion_matrix(y_pred,y)\n",
        "print(con)\n",
        "\n",
        "\n",
        "acc = accuracy_score(y_pred,y)\n",
        "print(acc)"
      ],
      "execution_count": 47,
      "outputs": [
        {
          "output_type": "stream",
          "text": [
            "[[6931 2946  836]\n",
            " [1522 5067    0]\n",
            " [ 547  344  641]]\n",
            "0.671073590315387\n"
          ],
          "name": "stdout"
        }
      ]
    },
    {
      "cell_type": "code",
      "metadata": {
        "id": "_4e2Oo6qlRmd",
        "colab_type": "code",
        "colab": {}
      },
      "source": [
        "# Random Search Algorithm #\n",
        "params_gr = {'n_estimators':[103,104,105,106],'min_samples_leaf':[18,19,20],'max_depth':[9,10,11],'criterion':['entropy'],'max_leaf_nodes':[16,17,18,19],'max_features':[4]}"
      ],
      "execution_count": 48,
      "outputs": []
    },
    {
      "cell_type": "code",
      "metadata": {
        "id": "qeEWjNc0narK",
        "colab_type": "code",
        "colab": {}
      },
      "source": [
        "from sklearn.ensemble import RandomForestClassifier"
      ],
      "execution_count": 49,
      "outputs": []
    },
    {
      "cell_type": "code",
      "metadata": {
        "id": "bCPk1tIdS2EN",
        "colab_type": "code",
        "colab": {}
      },
      "source": [
        "class_weight = dict({0:1,1:2,1:100})"
      ],
      "execution_count": 128,
      "outputs": []
    },
    {
      "cell_type": "code",
      "metadata": {
        "id": "71b0YSh1T-nq",
        "colab_type": "code",
        "colab": {}
      },
      "source": [
        "r_wcl= RandomForestClassifier(criterion='entropy', max_depth=9, max_features=4, max_leaf_nodes=19, min_samples_leaf=18)"
      ],
      "execution_count": 117,
      "outputs": []
    },
    {
      "cell_type": "code",
      "metadata": {
        "id": "WqZxc4avU-Jv",
        "colab_type": "code",
        "colab": {
          "base_uri": "https://localhost:8080/",
          "height": 34
        },
        "outputId": "2159df03-6e94-4e68-bfde-75aafd302c64"
      },
      "source": [
        "score_wo = cross_val_score(r_wcl,x,y,cv=3)\n",
        "score_wo.mean()"
      ],
      "execution_count": 118,
      "outputs": [
        {
          "output_type": "execute_result",
          "data": {
            "text/plain": [
              "0.9066581713921632"
            ]
          },
          "metadata": {
            "tags": []
          },
          "execution_count": 118
        }
      ]
    },
    {
      "cell_type": "code",
      "metadata": {
        "id": "soByootNVAsj",
        "colab_type": "code",
        "colab": {}
      },
      "source": [
        "from sklearn.model_selection import cross_val_score"
      ],
      "execution_count": 90,
      "outputs": []
    },
    {
      "cell_type": "code",
      "metadata": {
        "id": "QR0ixDw8SxLz",
        "colab_type": "code",
        "colab": {}
      },
      "source": [
        "r_cl= RandomForestClassifier(class_weight=class_weight,n_estimators=103,criterion='entropy', max_depth=9, max_features=4, max_leaf_nodes=19, min_samples_leaf=18)"
      ],
      "execution_count": 129,
      "outputs": []
    },
    {
      "cell_type": "code",
      "metadata": {
        "id": "vq3_yJvvSwvC",
        "colab_type": "code",
        "colab": {
          "base_uri": "https://localhost:8080/",
          "height": 34
        },
        "outputId": "f37a3e31-0078-407d-9347-47032bb55c38"
      },
      "source": [
        "score_wi = cross_val_score(r_cl,x,y,cv=3)\n",
        "score_wi.mean()"
      ],
      "execution_count": 130,
      "outputs": [
        {
          "output_type": "execute_result",
          "data": {
            "text/plain": [
              "0.8841987894233833"
            ]
          },
          "metadata": {
            "tags": []
          },
          "execution_count": 130
        }
      ]
    },
    {
      "cell_type": "code",
      "metadata": {
        "id": "4Wj80vKnSu1d",
        "colab_type": "code",
        "colab": {}
      },
      "source": [
        "# Adding the weights, as the problem seems to little unbalanced #\n",
        "# Classes Present for Breed category : (0 : 9000 , 1: 8357 , 2: 1477), giving importance to class 2\n",
        "\n",
        "r= RandomForestClassifier()"
      ],
      "execution_count": null,
      "outputs": []
    },
    {
      "cell_type": "code",
      "metadata": {
        "id": "V3dhViKzldCN",
        "colab_type": "code",
        "colab": {}
      },
      "source": [
        "from sklearn.model_selection import RandomizedSearchCV\n",
        "from sklearn.model_selection import GridSearchCV\n"
      ],
      "execution_count": 50,
      "outputs": []
    },
    {
      "cell_type": "code",
      "metadata": {
        "id": "9_XWTSlYlx00",
        "colab_type": "code",
        "colab": {}
      },
      "source": [
        "r= RandomForestClassifier()"
      ],
      "execution_count": 51,
      "outputs": []
    },
    {
      "cell_type": "code",
      "metadata": {
        "id": "XEfgyy-DngDJ",
        "colab_type": "code",
        "colab": {}
      },
      "source": [
        "grid = GridSearchCV(r,params_gr,cv=7)\n",
        "mo_rf_gr = grid.fit(x,y)"
      ],
      "execution_count": 52,
      "outputs": []
    },
    {
      "cell_type": "code",
      "metadata": {
        "id": "ZpUoiXj6l0UT",
        "colab_type": "code",
        "colab": {
          "base_uri": "https://localhost:8080/",
          "height": 207
        },
        "outputId": "310d8b79-6e2b-4bc2-97b4-46c409f453f6"
      },
      "source": [
        "print(mo_rf_gr.best_estimator_)\n",
        "\n",
        "print(mo_rf_gr.best_params_)\n",
        "\n",
        "print(mo_rf_gr.best_score_)"
      ],
      "execution_count": 53,
      "outputs": [
        {
          "output_type": "stream",
          "text": [
            "RandomForestClassifier(bootstrap=True, ccp_alpha=0.0, class_weight=None,\n",
            "                       criterion='entropy', max_depth=9, max_features=4,\n",
            "                       max_leaf_nodes=19, max_samples=None,\n",
            "                       min_impurity_decrease=0.0, min_impurity_split=None,\n",
            "                       min_samples_leaf=18, min_samples_split=2,\n",
            "                       min_weight_fraction_leaf=0.0, n_estimators=105,\n",
            "                       n_jobs=None, oob_score=False, random_state=None,\n",
            "                       verbose=0, warm_start=False)\n",
            "{'criterion': 'entropy', 'max_depth': 9, 'max_features': 4, 'max_leaf_nodes': 19, 'min_samples_leaf': 18, 'n_estimators': 105}\n",
            "0.9071356242844848\n"
          ],
          "name": "stdout"
        }
      ]
    },
    {
      "cell_type": "code",
      "metadata": {
        "id": "OMR28yUoF3ym",
        "colab_type": "code",
        "colab": {}
      },
      "source": [
        "#{'criterion': 'entropy', 'max_depth': 9, 'max_features': 4, 'max_leaf_nodes': 19, 'min_samples_leaf': 18, 'n_estimators': 105}\n",
        "# Model for breed category (name :breed_rf1.pkl ) , Score : 0.9071356242844848"
      ],
      "execution_count": null,
      "outputs": []
    },
    {
      "cell_type": "code",
      "metadata": {
        "id": "oOTJpJP00l1F",
        "colab_type": "code",
        "colab": {}
      },
      "source": [
        "import pickle"
      ],
      "execution_count": 55,
      "outputs": []
    },
    {
      "cell_type": "code",
      "metadata": {
        "id": "0L-MPIgo0dIP",
        "colab_type": "code",
        "colab": {}
      },
      "source": [
        "# Saving this random forest model for breed category #\n",
        "\n",
        "pickle.dump(mo_rf_gr,open('breed_rf1.pkl','wb'))"
      ],
      "execution_count": 56,
      "outputs": []
    },
    {
      "cell_type": "code",
      "metadata": {
        "id": "1jZhdeQ10-Xs",
        "colab_type": "code",
        "colab": {}
      },
      "source": [
        "p = pickle.load(open('breed_rf.pkl','rb'))"
      ],
      "execution_count": 78,
      "outputs": []
    },
    {
      "cell_type": "code",
      "metadata": {
        "id": "iq78lNoe1S1H",
        "colab_type": "code",
        "colab": {}
      },
      "source": [
        ""
      ],
      "execution_count": null,
      "outputs": []
    },
    {
      "cell_type": "code",
      "metadata": {
        "id": "-5kWBv6qnsM9",
        "colab_type": "code",
        "colab": {}
      },
      "source": [
        "# Identifying he values of y_test for model#\n",
        "\n",
        "y_test_br = p.predict(X1)"
      ],
      "execution_count": 79,
      "outputs": []
    },
    {
      "cell_type": "code",
      "metadata": {
        "id": "70VeJQ5en3V5",
        "colab_type": "code",
        "colab": {
          "base_uri": "https://localhost:8080/",
          "height": 119
        },
        "outputId": "42e34a13-ad97-4bd0-fa4d-e1914466e10d"
      },
      "source": [
        "\n",
        "y_test_br = pd.Series(y_test_br,name='breed_category')\n",
        "y_test_br.head()"
      ],
      "execution_count": 80,
      "outputs": [
        {
          "output_type": "execute_result",
          "data": {
            "text/plain": [
              "0    1.0\n",
              "1    0.0\n",
              "2    0.0\n",
              "3    0.0\n",
              "4    0.0\n",
              "Name: breed_category, dtype: float64"
            ]
          },
          "metadata": {
            "tags": []
          },
          "execution_count": 80
        }
      ]
    },
    {
      "cell_type": "code",
      "metadata": {
        "id": "CgrDD1YMoBqW",
        "colab_type": "code",
        "colab": {
          "base_uri": "https://localhost:8080/",
          "height": 68
        },
        "outputId": "eadbdeb3-3ec5-4d21-b1ee-680d5f2b4432"
      },
      "source": [
        "# applying the XG Boosting for the Pet Category #\n",
        "! pip install xgboost"
      ],
      "execution_count": null,
      "outputs": [
        {
          "output_type": "stream",
          "text": [
            "Requirement already satisfied: xgboost in /usr/local/lib/python3.6/dist-packages (0.90)\n",
            "Requirement already satisfied: numpy in /usr/local/lib/python3.6/dist-packages (from xgboost) (1.18.5)\n",
            "Requirement already satisfied: scipy in /usr/local/lib/python3.6/dist-packages (from xgboost) (1.4.1)\n"
          ],
          "name": "stdout"
        }
      ]
    },
    {
      "cell_type": "code",
      "metadata": {
        "id": "Jfl-PUngoTbW",
        "colab_type": "code",
        "colab": {}
      },
      "source": [
        "import xgboost"
      ],
      "execution_count": 61,
      "outputs": []
    },
    {
      "cell_type": "code",
      "metadata": {
        "id": "J4DmrrivoU48",
        "colab_type": "code",
        "colab": {}
      },
      "source": [
        "from xgboost import XGBClassifier"
      ],
      "execution_count": 62,
      "outputs": []
    },
    {
      "cell_type": "code",
      "metadata": {
        "id": "euNv4nYLodzq",
        "colab_type": "code",
        "colab": {}
      },
      "source": [
        "classifier = XGBClassifier()"
      ],
      "execution_count": 70,
      "outputs": []
    },
    {
      "cell_type": "code",
      "metadata": {
        "id": "6H025H7hohKZ",
        "colab_type": "code",
        "colab": {}
      },
      "source": [
        "\n",
        "params_xg={\n",
        " \"learning_rate\"    : [0.04,0.05, 0.10, 0.13,0.15, 0.17,0.20] ,\n",
        " \"max_depth\"        : [ 5,6,7,8,10],\n",
        " \"min_child_weight\" : [0.28,0.3,0.32,0.35,0.4,0.45],\n",
        " \"gamma\"            : [ 0.3,0.4,0.45,0.5,0.55],\n",
        " \"colsample_bytree\" : [ 0.5,0.6,0.65,0.7,0.75,0.8 ]\n",
        "    \n",
        "}\n",
        "\n",
        "# learning rate : 0.05, colsample_bytree:0.7, min_child_weight:0.5"
      ],
      "execution_count": 64,
      "outputs": []
    },
    {
      "cell_type": "code",
      "metadata": {
        "id": "qAldexxQoijN",
        "colab_type": "code",
        "colab": {}
      },
      "source": [
        "random_search=RandomizedSearchCV(classifier,param_distributions=params_xg,n_iter=100,n_jobs=-1,cv=7,verbose=3)"
      ],
      "execution_count": 65,
      "outputs": []
    },
    {
      "cell_type": "code",
      "metadata": {
        "id": "IXmvDPLfotaW",
        "colab_type": "code",
        "colab": {
          "base_uri": "https://localhost:8080/",
          "height": 136
        },
        "outputId": "9308a05e-3334-4817-d2a3-2e2086cf3b85"
      },
      "source": [
        "model1 = random_search.fit(x,y1)"
      ],
      "execution_count": 66,
      "outputs": [
        {
          "output_type": "stream",
          "text": [
            "Fitting 7 folds for each of 100 candidates, totalling 700 fits\n"
          ],
          "name": "stdout"
        },
        {
          "output_type": "stream",
          "text": [
            "[Parallel(n_jobs=-1)]: Using backend LokyBackend with 2 concurrent workers.\n",
            "[Parallel(n_jobs=-1)]: Done  28 tasks      | elapsed:  1.0min\n",
            "[Parallel(n_jobs=-1)]: Done 124 tasks      | elapsed:  3.9min\n",
            "[Parallel(n_jobs=-1)]: Done 284 tasks      | elapsed:  9.6min\n",
            "[Parallel(n_jobs=-1)]: Done 508 tasks      | elapsed: 17.2min\n",
            "[Parallel(n_jobs=-1)]: Done 700 out of 700 | elapsed: 24.3min finished\n"
          ],
          "name": "stderr"
        }
      ]
    },
    {
      "cell_type": "code",
      "metadata": {
        "id": "8hHGWkm6o1K6",
        "colab_type": "code",
        "colab": {
          "base_uri": "https://localhost:8080/",
          "height": 170
        },
        "outputId": "80b7a898-48b8-4da3-8178-a9a92af78d26"
      },
      "source": [
        "print(model1.best_score_)\n",
        "print(model1.best_params_)\n",
        "print(model1.best_estimator_)"
      ],
      "execution_count": 67,
      "outputs": [
        {
          "output_type": "stream",
          "text": [
            "0.9061802554610053\n",
            "{'min_child_weight': 0.4, 'max_depth': 8, 'learning_rate': 0.15, 'gamma': 0.45, 'colsample_bytree': 0.65}\n",
            "XGBClassifier(base_score=0.5, booster='gbtree', colsample_bylevel=1,\n",
            "              colsample_bynode=1, colsample_bytree=0.65, gamma=0.45,\n",
            "              learning_rate=0.15, max_delta_step=0, max_depth=8,\n",
            "              min_child_weight=0.4, missing=None, n_estimators=100, n_jobs=1,\n",
            "              nthread=None, objective='multi:softprob', random_state=0,\n",
            "              reg_alpha=0, reg_lambda=1, scale_pos_weight=1, seed=None,\n",
            "              silent=None, subsample=1, verbosity=1)\n"
          ],
          "name": "stdout"
        }
      ]
    },
    {
      "cell_type": "code",
      "metadata": {
        "id": "B_CZsA1QOlwB",
        "colab_type": "code",
        "colab": {}
      },
      "source": [
        "# Model : pet_xgboost : 90.54, pet_xgboost_n : 90.60, pet_xgboost_n1 : 90.61"
      ],
      "execution_count": null,
      "outputs": []
    },
    {
      "cell_type": "code",
      "metadata": {
        "id": "78TYj-F3Oder",
        "colab_type": "code",
        "colab": {}
      },
      "source": [
        "# Model : pet_xgboost_n1 : 90.61, cv=7\n",
        "# Parameters : {'min_child_weight': 0.4, 'max_depth': 8, 'learning_rate': 0.15, 'gamma': 0.45, 'colsample_bytree': 0.65}"
      ],
      "execution_count": null,
      "outputs": []
    },
    {
      "cell_type": "code",
      "metadata": {
        "id": "wUKwhPxTOdAn",
        "colab_type": "code",
        "colab": {}
      },
      "source": [
        ""
      ],
      "execution_count": null,
      "outputs": []
    },
    {
      "cell_type": "code",
      "metadata": {
        "id": "-YNHzTel7wTI",
        "colab_type": "code",
        "colab": {}
      },
      "source": [
        "# Saving the model of Xgboosting # - Pet Categpry #\n",
        "\n",
        "pickle.dump(model1,open('pet_xgboost_n1.pkl','wb'))"
      ],
      "execution_count": 71,
      "outputs": []
    },
    {
      "cell_type": "code",
      "metadata": {
        "id": "o1yvLtiy8AsQ",
        "colab_type": "code",
        "colab": {}
      },
      "source": [
        "# loading the model #\n",
        "\n",
        "q = pickle.load(open('pet_xgboost_n1.pkl','rb'))"
      ],
      "execution_count": 72,
      "outputs": []
    },
    {
      "cell_type": "code",
      "metadata": {
        "id": "1tpK3Xmho_4B",
        "colab_type": "code",
        "colab": {}
      },
      "source": [
        "y_pet_xg = q.predict(X1)"
      ],
      "execution_count": 73,
      "outputs": []
    },
    {
      "cell_type": "code",
      "metadata": {
        "id": "NOu5UsrLpFJL",
        "colab_type": "code",
        "colab": {
          "base_uri": "https://localhost:8080/",
          "height": 119
        },
        "outputId": "b8048bcd-a733-400d-f77b-961ff46be645"
      },
      "source": [
        "\n",
        "y_pet_xg= pd.Series(y_pet_xg,name='pet_category')\n",
        "y_pet_xg.head()"
      ],
      "execution_count": 74,
      "outputs": [
        {
          "output_type": "execute_result",
          "data": {
            "text/plain": [
              "0    2\n",
              "1    1\n",
              "2    2\n",
              "3    2\n",
              "4    2\n",
              "Name: pet_category, dtype: int64"
            ]
          },
          "metadata": {
            "tags": []
          },
          "execution_count": 74
        }
      ]
    },
    {
      "cell_type": "code",
      "metadata": {
        "id": "eM8HOPkApIMH",
        "colab_type": "code",
        "colab": {
          "base_uri": "https://localhost:8080/",
          "height": 204
        },
        "outputId": "6cc3ed77-012a-45e3-d8aa-879e3bc391a6"
      },
      "source": [
        "df_rf_xg= pd.concat([df1['pet_id'],y_test_br,y_pet_xg],axis=1) \n",
        "df_rf_xg.head()"
      ],
      "execution_count": 81,
      "outputs": [
        {
          "output_type": "execute_result",
          "data": {
            "text/html": [
              "<div>\n",
              "<style scoped>\n",
              "    .dataframe tbody tr th:only-of-type {\n",
              "        vertical-align: middle;\n",
              "    }\n",
              "\n",
              "    .dataframe tbody tr th {\n",
              "        vertical-align: top;\n",
              "    }\n",
              "\n",
              "    .dataframe thead th {\n",
              "        text-align: right;\n",
              "    }\n",
              "</style>\n",
              "<table border=\"1\" class=\"dataframe\">\n",
              "  <thead>\n",
              "    <tr style=\"text-align: right;\">\n",
              "      <th></th>\n",
              "      <th>pet_id</th>\n",
              "      <th>breed_category</th>\n",
              "      <th>pet_category</th>\n",
              "    </tr>\n",
              "  </thead>\n",
              "  <tbody>\n",
              "    <tr>\n",
              "      <th>0</th>\n",
              "      <td>ANSL_75005</td>\n",
              "      <td>1.0</td>\n",
              "      <td>2</td>\n",
              "    </tr>\n",
              "    <tr>\n",
              "      <th>1</th>\n",
              "      <td>ANSL_76663</td>\n",
              "      <td>0.0</td>\n",
              "      <td>1</td>\n",
              "    </tr>\n",
              "    <tr>\n",
              "      <th>2</th>\n",
              "      <td>ANSL_58259</td>\n",
              "      <td>0.0</td>\n",
              "      <td>2</td>\n",
              "    </tr>\n",
              "    <tr>\n",
              "      <th>3</th>\n",
              "      <td>ANSL_67171</td>\n",
              "      <td>0.0</td>\n",
              "      <td>2</td>\n",
              "    </tr>\n",
              "    <tr>\n",
              "      <th>4</th>\n",
              "      <td>ANSL_72871</td>\n",
              "      <td>0.0</td>\n",
              "      <td>2</td>\n",
              "    </tr>\n",
              "  </tbody>\n",
              "</table>\n",
              "</div>"
            ],
            "text/plain": [
              "       pet_id  breed_category  pet_category\n",
              "0  ANSL_75005             1.0             2\n",
              "1  ANSL_76663             0.0             1\n",
              "2  ANSL_58259             0.0             2\n",
              "3  ANSL_67171             0.0             2\n",
              "4  ANSL_72871             0.0             2"
            ]
          },
          "metadata": {
            "tags": []
          },
          "execution_count": 81
        }
      ]
    },
    {
      "cell_type": "code",
      "metadata": {
        "id": "rn8FEMaNOzsU",
        "colab_type": "code",
        "colab": {}
      },
      "source": [
        "# Saving the output in the CSV file # \n",
        "# Breed - breed_rf (90.75)\n",
        "#Pet - pet_xgboost_n1 (90.61)\n",
        "# Score :90.59\n",
        "df_rf_xg.to_csv('submission_37.csv', index=False) "
      ],
      "execution_count": 82,
      "outputs": []
    },
    {
      "cell_type": "code",
      "metadata": {
        "id": "GkRe_x7VQJg9",
        "colab_type": "code",
        "colab": {}
      },
      "source": [
        "# Saving the output in the CSV file # \n",
        "# Breed - breed_rf1 (90.71)\n",
        "#Pet - pet_xgboost_n1 (90.61)\n",
        "# Score :90.63\n",
        "df_rf_xg.to_csv('submission_36.csv', index=False) "
      ],
      "execution_count": null,
      "outputs": []
    },
    {
      "cell_type": "code",
      "metadata": {
        "id": "NCZAOe0kU08H",
        "colab_type": "code",
        "colab": {}
      },
      "source": [
        "# Saving the output in the CSV file #\n",
        "\n",
        "df_rf_xg.to_csv('submission_35.csv', index=False) "
      ],
      "execution_count": null,
      "outputs": []
    },
    {
      "cell_type": "code",
      "metadata": {
        "id": "pQDVxwaQ8qHD",
        "colab_type": "code",
        "colab": {}
      },
      "source": [
        "df_rf_xg.to_csv('submission_31.csv', index=False)"
      ],
      "execution_count": null,
      "outputs": []
    },
    {
      "cell_type": "code",
      "metadata": {
        "id": "6xO2uLHnpPUP",
        "colab_type": "code",
        "colab": {}
      },
      "source": [
        "# Saving the output in the CSV file #\n",
        "\n",
        "df_rf_xg.to_csv('submission_27.csv', index=False)   #Score :90.82 "
      ],
      "execution_count": null,
      "outputs": []
    },
    {
      "cell_type": "code",
      "metadata": {
        "id": "3su9GtJGu1Xj",
        "colab_type": "code",
        "colab": {
          "base_uri": "https://localhost:8080/",
          "height": 343
        },
        "outputId": "d8aedc53-3f29-42c2-9d3d-72f5611a0ad6"
      },
      "source": [
        "! pip install catboost"
      ],
      "execution_count": null,
      "outputs": [
        {
          "output_type": "stream",
          "text": [
            "Collecting catboost\n",
            "\u001b[?25l  Downloading https://files.pythonhosted.org/packages/96/6c/6608210b29649267de52001b09e369777ee2a5cfe1c71fa75eba82a4f2dc/catboost-0.24-cp36-none-manylinux1_x86_64.whl (65.9MB)\n",
            "\u001b[K     |████████████████████████████████| 65.9MB 44kB/s \n",
            "\u001b[?25hRequirement already satisfied: plotly in /usr/local/lib/python3.6/dist-packages (from catboost) (4.4.1)\n",
            "Requirement already satisfied: matplotlib in /usr/local/lib/python3.6/dist-packages (from catboost) (3.2.2)\n",
            "Requirement already satisfied: six in /usr/local/lib/python3.6/dist-packages (from catboost) (1.15.0)\n",
            "Requirement already satisfied: scipy in /usr/local/lib/python3.6/dist-packages (from catboost) (1.4.1)\n",
            "Requirement already satisfied: pandas>=0.24.0 in /usr/local/lib/python3.6/dist-packages (from catboost) (1.0.5)\n",
            "Requirement already satisfied: numpy>=1.16.0 in /usr/local/lib/python3.6/dist-packages (from catboost) (1.18.5)\n",
            "Requirement already satisfied: graphviz in /usr/local/lib/python3.6/dist-packages (from catboost) (0.10.1)\n",
            "Requirement already satisfied: retrying>=1.3.3 in /usr/local/lib/python3.6/dist-packages (from plotly->catboost) (1.3.3)\n",
            "Requirement already satisfied: pyparsing!=2.0.4,!=2.1.2,!=2.1.6,>=2.0.1 in /usr/local/lib/python3.6/dist-packages (from matplotlib->catboost) (2.4.7)\n",
            "Requirement already satisfied: kiwisolver>=1.0.1 in /usr/local/lib/python3.6/dist-packages (from matplotlib->catboost) (1.2.0)\n",
            "Requirement already satisfied: cycler>=0.10 in /usr/local/lib/python3.6/dist-packages (from matplotlib->catboost) (0.10.0)\n",
            "Requirement already satisfied: python-dateutil>=2.1 in /usr/local/lib/python3.6/dist-packages (from matplotlib->catboost) (2.8.1)\n",
            "Requirement already satisfied: pytz>=2017.2 in /usr/local/lib/python3.6/dist-packages (from pandas>=0.24.0->catboost) (2018.9)\n",
            "Installing collected packages: catboost\n",
            "Successfully installed catboost-0.24\n"
          ],
          "name": "stdout"
        }
      ]
    },
    {
      "cell_type": "code",
      "metadata": {
        "id": "9yszljrZrBo6",
        "colab_type": "code",
        "colab": {}
      },
      "source": [
        "# Starting for Cat Boosting #\n",
        "from catboost import Pool, CatBoostClassifier "
      ],
      "execution_count": null,
      "outputs": []
    },
    {
      "cell_type": "code",
      "metadata": {
        "id": "owhGQY6218Pe",
        "colab_type": "code",
        "colab": {}
      },
      "source": [
        "model = CatBoostClassifier(iterations=10,\n",
        "                           learning_rate=1,\n",
        "                           depth=2,\n",
        "                           loss_function='MultiClass')"
      ],
      "execution_count": null,
      "outputs": []
    },
    {
      "cell_type": "code",
      "metadata": {
        "id": "D5rIdh602Af2",
        "colab_type": "code",
        "colab": {}
      },
      "source": [
        "train_dataset = Pool(data=x,\n",
        "                     label=y,\n",
        "                     cat_features=cat_features_index)"
      ],
      "execution_count": null,
      "outputs": []
    },
    {
      "cell_type": "code",
      "metadata": {
        "id": "X8yf81X42C8I",
        "colab_type": "code",
        "colab": {
          "base_uri": "https://localhost:8080/",
          "height": 204
        },
        "outputId": "ec676816-aec2-4324-c208-d0f030bea0d9"
      },
      "source": [
        "model.fit(train_dataset)"
      ],
      "execution_count": null,
      "outputs": [
        {
          "output_type": "stream",
          "text": [
            "0:\tlearn: 0.3778418\ttotal: 65ms\tremaining: 585ms\n",
            "1:\tlearn: 0.2557406\ttotal: 81.4ms\tremaining: 326ms\n",
            "2:\tlearn: 0.1818474\ttotal: 96.6ms\tremaining: 225ms\n",
            "3:\tlearn: 0.1648780\ttotal: 112ms\tremaining: 168ms\n",
            "4:\tlearn: 0.1547720\ttotal: 127ms\tremaining: 127ms\n",
            "5:\tlearn: 0.1529171\ttotal: 141ms\tremaining: 94.3ms\n",
            "6:\tlearn: 0.1520109\ttotal: 159ms\tremaining: 68ms\n",
            "7:\tlearn: 0.1500955\ttotal: 173ms\tremaining: 43.3ms\n",
            "8:\tlearn: 0.1497249\ttotal: 189ms\tremaining: 20.9ms\n",
            "9:\tlearn: 0.1481132\ttotal: 206ms\tremaining: 0us\n"
          ],
          "name": "stdout"
        },
        {
          "output_type": "execute_result",
          "data": {
            "text/plain": [
              "<catboost.core.CatBoostClassifier at 0x7f2562056550>"
            ]
          },
          "metadata": {
            "tags": []
          },
          "execution_count": 52
        }
      ]
    },
    {
      "cell_type": "code",
      "metadata": {
        "id": "qj3mT7lE2OYC",
        "colab_type": "code",
        "colab": {}
      },
      "source": [
        "# Identifying he values of y_test for breed_category#\n",
        "\n",
        "y_cat_br = model.predict(X1)"
      ],
      "execution_count": null,
      "outputs": []
    },
    {
      "cell_type": "code",
      "metadata": {
        "id": "cTSGWaqP2oBO",
        "colab_type": "code",
        "colab": {
          "base_uri": "https://localhost:8080/",
          "height": 136
        },
        "outputId": "cf25aa44-c570-4b35-ed38-56cfb9ff71aa"
      },
      "source": [
        "y_cat_br"
      ],
      "execution_count": null,
      "outputs": [
        {
          "output_type": "execute_result",
          "data": {
            "text/plain": [
              "array([[1.],\n",
              "       [0.],\n",
              "       [0.],\n",
              "       ...,\n",
              "       [1.],\n",
              "       [2.],\n",
              "       [1.]])"
            ]
          },
          "metadata": {
            "tags": []
          },
          "execution_count": 101
        }
      ]
    },
    {
      "cell_type": "code",
      "metadata": {
        "id": "zRBm4bwH2WrR",
        "colab_type": "code",
        "colab": {
          "base_uri": "https://localhost:8080/",
          "height": 204
        },
        "outputId": "537436c0-8d54-4b39-bb39-85bc8a9dd326"
      },
      "source": [
        "y_cat_br= pd.DataFrame(y_cat_br)\n",
        "y_cat_br.head()"
      ],
      "execution_count": null,
      "outputs": [
        {
          "output_type": "execute_result",
          "data": {
            "text/html": [
              "<div>\n",
              "<style scoped>\n",
              "    .dataframe tbody tr th:only-of-type {\n",
              "        vertical-align: middle;\n",
              "    }\n",
              "\n",
              "    .dataframe tbody tr th {\n",
              "        vertical-align: top;\n",
              "    }\n",
              "\n",
              "    .dataframe thead th {\n",
              "        text-align: right;\n",
              "    }\n",
              "</style>\n",
              "<table border=\"1\" class=\"dataframe\">\n",
              "  <thead>\n",
              "    <tr style=\"text-align: right;\">\n",
              "      <th></th>\n",
              "      <th>0</th>\n",
              "    </tr>\n",
              "  </thead>\n",
              "  <tbody>\n",
              "    <tr>\n",
              "      <th>0</th>\n",
              "      <td>1.0</td>\n",
              "    </tr>\n",
              "    <tr>\n",
              "      <th>1</th>\n",
              "      <td>0.0</td>\n",
              "    </tr>\n",
              "    <tr>\n",
              "      <th>2</th>\n",
              "      <td>0.0</td>\n",
              "    </tr>\n",
              "    <tr>\n",
              "      <th>3</th>\n",
              "      <td>0.0</td>\n",
              "    </tr>\n",
              "    <tr>\n",
              "      <th>4</th>\n",
              "      <td>0.0</td>\n",
              "    </tr>\n",
              "  </tbody>\n",
              "</table>\n",
              "</div>"
            ],
            "text/plain": [
              "     0\n",
              "0  1.0\n",
              "1  0.0\n",
              "2  0.0\n",
              "3  0.0\n",
              "4  0.0"
            ]
          },
          "metadata": {
            "tags": []
          },
          "execution_count": 103
        }
      ]
    },
    {
      "cell_type": "code",
      "metadata": {
        "id": "83xnhJFh3Dwq",
        "colab_type": "code",
        "colab": {
          "base_uri": "https://localhost:8080/",
          "height": 204
        },
        "outputId": "9eeb0c99-ebf0-41ec-b839-b423c7bb5c11"
      },
      "source": [
        "\n",
        "y_cat_br.rename(columns = {0:'breed_category'}, inplace = True) \n",
        "\n",
        "y_cat_br.head()"
      ],
      "execution_count": null,
      "outputs": [
        {
          "output_type": "execute_result",
          "data": {
            "text/html": [
              "<div>\n",
              "<style scoped>\n",
              "    .dataframe tbody tr th:only-of-type {\n",
              "        vertical-align: middle;\n",
              "    }\n",
              "\n",
              "    .dataframe tbody tr th {\n",
              "        vertical-align: top;\n",
              "    }\n",
              "\n",
              "    .dataframe thead th {\n",
              "        text-align: right;\n",
              "    }\n",
              "</style>\n",
              "<table border=\"1\" class=\"dataframe\">\n",
              "  <thead>\n",
              "    <tr style=\"text-align: right;\">\n",
              "      <th></th>\n",
              "      <th>breed_category</th>\n",
              "    </tr>\n",
              "  </thead>\n",
              "  <tbody>\n",
              "    <tr>\n",
              "      <th>0</th>\n",
              "      <td>1.0</td>\n",
              "    </tr>\n",
              "    <tr>\n",
              "      <th>1</th>\n",
              "      <td>0.0</td>\n",
              "    </tr>\n",
              "    <tr>\n",
              "      <th>2</th>\n",
              "      <td>0.0</td>\n",
              "    </tr>\n",
              "    <tr>\n",
              "      <th>3</th>\n",
              "      <td>0.0</td>\n",
              "    </tr>\n",
              "    <tr>\n",
              "      <th>4</th>\n",
              "      <td>0.0</td>\n",
              "    </tr>\n",
              "  </tbody>\n",
              "</table>\n",
              "</div>"
            ],
            "text/plain": [
              "   breed_category\n",
              "0             1.0\n",
              "1             0.0\n",
              "2             0.0\n",
              "3             0.0\n",
              "4             0.0"
            ]
          },
          "metadata": {
            "tags": []
          },
          "execution_count": 104
        }
      ]
    },
    {
      "cell_type": "code",
      "metadata": {
        "id": "O-6eCVBq3N4N",
        "colab_type": "code",
        "colab": {}
      },
      "source": [
        "train_dataset1 = Pool(data=x,\n",
        "                     label=y1,\n",
        "                     cat_features=cat_features_index)"
      ],
      "execution_count": null,
      "outputs": []
    },
    {
      "cell_type": "code",
      "metadata": {
        "id": "YlB7WdzX3loc",
        "colab_type": "code",
        "colab": {}
      },
      "source": [
        "model1 = CatBoostClassifier(iterations=10,\n",
        "                           learning_rate=1,\n",
        "                           depth=2,\n",
        "                           loss_function='MultiClass')"
      ],
      "execution_count": null,
      "outputs": []
    },
    {
      "cell_type": "code",
      "metadata": {
        "id": "I4TgEBMP3Q6R",
        "colab_type": "code",
        "colab": {
          "base_uri": "https://localhost:8080/",
          "height": 204
        },
        "outputId": "a2c39323-ae1a-426d-95bb-4aac5e14c10b"
      },
      "source": [
        "model1.fit(train_dataset1)"
      ],
      "execution_count": null,
      "outputs": [
        {
          "output_type": "stream",
          "text": [
            "0:\tlearn: 0.7637850\ttotal: 21.2ms\tremaining: 191ms\n",
            "1:\tlearn: 0.4795030\ttotal: 44.9ms\tremaining: 180ms\n",
            "2:\tlearn: 0.3371335\ttotal: 62.2ms\tremaining: 145ms\n",
            "3:\tlearn: 0.3202560\ttotal: 77.6ms\tremaining: 116ms\n",
            "4:\tlearn: 0.3049644\ttotal: 93.6ms\tremaining: 93.6ms\n",
            "5:\tlearn: 0.2967946\ttotal: 111ms\tremaining: 73.8ms\n",
            "6:\tlearn: 0.2939652\ttotal: 133ms\tremaining: 56.9ms\n",
            "7:\tlearn: 0.2915995\ttotal: 155ms\tremaining: 38.9ms\n",
            "8:\tlearn: 0.2856236\ttotal: 173ms\tremaining: 19.2ms\n",
            "9:\tlearn: 0.2834072\ttotal: 189ms\tremaining: 0us\n"
          ],
          "name": "stdout"
        },
        {
          "output_type": "execute_result",
          "data": {
            "text/plain": [
              "<catboost.core.CatBoostClassifier at 0x7f01d3349ac8>"
            ]
          },
          "metadata": {
            "tags": []
          },
          "execution_count": 109
        }
      ]
    },
    {
      "cell_type": "code",
      "metadata": {
        "id": "aOsSGLCB3WTR",
        "colab_type": "code",
        "colab": {}
      },
      "source": [
        "# Identifying he values of y_test for pet_category#\n",
        "\n",
        "y_cat_pet = model1.predict(X1)"
      ],
      "execution_count": null,
      "outputs": []
    },
    {
      "cell_type": "code",
      "metadata": {
        "id": "uWnD78or37so",
        "colab_type": "code",
        "colab": {
          "base_uri": "https://localhost:8080/",
          "height": 204
        },
        "outputId": "d2f9859c-5b96-4282-9178-799302412972"
      },
      "source": [
        "y_cat_pet= pd.DataFrame(y_cat_pet)\n",
        "y_cat_pet.head()"
      ],
      "execution_count": null,
      "outputs": [
        {
          "output_type": "execute_result",
          "data": {
            "text/html": [
              "<div>\n",
              "<style scoped>\n",
              "    .dataframe tbody tr th:only-of-type {\n",
              "        vertical-align: middle;\n",
              "    }\n",
              "\n",
              "    .dataframe tbody tr th {\n",
              "        vertical-align: top;\n",
              "    }\n",
              "\n",
              "    .dataframe thead th {\n",
              "        text-align: right;\n",
              "    }\n",
              "</style>\n",
              "<table border=\"1\" class=\"dataframe\">\n",
              "  <thead>\n",
              "    <tr style=\"text-align: right;\">\n",
              "      <th></th>\n",
              "      <th>0</th>\n",
              "    </tr>\n",
              "  </thead>\n",
              "  <tbody>\n",
              "    <tr>\n",
              "      <th>0</th>\n",
              "      <td>2</td>\n",
              "    </tr>\n",
              "    <tr>\n",
              "      <th>1</th>\n",
              "      <td>1</td>\n",
              "    </tr>\n",
              "    <tr>\n",
              "      <th>2</th>\n",
              "      <td>2</td>\n",
              "    </tr>\n",
              "    <tr>\n",
              "      <th>3</th>\n",
              "      <td>2</td>\n",
              "    </tr>\n",
              "    <tr>\n",
              "      <th>4</th>\n",
              "      <td>2</td>\n",
              "    </tr>\n",
              "  </tbody>\n",
              "</table>\n",
              "</div>"
            ],
            "text/plain": [
              "   0\n",
              "0  2\n",
              "1  1\n",
              "2  2\n",
              "3  2\n",
              "4  2"
            ]
          },
          "metadata": {
            "tags": []
          },
          "execution_count": 111
        }
      ]
    },
    {
      "cell_type": "code",
      "metadata": {
        "id": "LhFwF80T4Bsk",
        "colab_type": "code",
        "colab": {
          "base_uri": "https://localhost:8080/",
          "height": 204
        },
        "outputId": "63a00c5a-8e79-472c-9aae-f5305d1fc31e"
      },
      "source": [
        "y_cat_pet.rename(columns = {0:'pet_category'}, inplace = True) \n",
        "\n",
        "y_cat_pet.head()"
      ],
      "execution_count": null,
      "outputs": [
        {
          "output_type": "execute_result",
          "data": {
            "text/html": [
              "<div>\n",
              "<style scoped>\n",
              "    .dataframe tbody tr th:only-of-type {\n",
              "        vertical-align: middle;\n",
              "    }\n",
              "\n",
              "    .dataframe tbody tr th {\n",
              "        vertical-align: top;\n",
              "    }\n",
              "\n",
              "    .dataframe thead th {\n",
              "        text-align: right;\n",
              "    }\n",
              "</style>\n",
              "<table border=\"1\" class=\"dataframe\">\n",
              "  <thead>\n",
              "    <tr style=\"text-align: right;\">\n",
              "      <th></th>\n",
              "      <th>pet_category</th>\n",
              "    </tr>\n",
              "  </thead>\n",
              "  <tbody>\n",
              "    <tr>\n",
              "      <th>0</th>\n",
              "      <td>2</td>\n",
              "    </tr>\n",
              "    <tr>\n",
              "      <th>1</th>\n",
              "      <td>1</td>\n",
              "    </tr>\n",
              "    <tr>\n",
              "      <th>2</th>\n",
              "      <td>2</td>\n",
              "    </tr>\n",
              "    <tr>\n",
              "      <th>3</th>\n",
              "      <td>2</td>\n",
              "    </tr>\n",
              "    <tr>\n",
              "      <th>4</th>\n",
              "      <td>2</td>\n",
              "    </tr>\n",
              "  </tbody>\n",
              "</table>\n",
              "</div>"
            ],
            "text/plain": [
              "   pet_category\n",
              "0             2\n",
              "1             1\n",
              "2             2\n",
              "3             2\n",
              "4             2"
            ]
          },
          "metadata": {
            "tags": []
          },
          "execution_count": 112
        }
      ]
    },
    {
      "cell_type": "code",
      "metadata": {
        "id": "xoRzt5Hx4Jhy",
        "colab_type": "code",
        "colab": {
          "base_uri": "https://localhost:8080/",
          "height": 204
        },
        "outputId": "8e8185ed-d1ca-4871-fbf1-c5076e48e7ea"
      },
      "source": [
        "# Concatenating the output for breed and pet category #\n",
        "\n",
        "df_cat= pd.concat([df1['pet_id'],y_cat_br['breed_category'],y_cat_pet['pet_category']],axis=1) \n",
        "df_cat.head()"
      ],
      "execution_count": null,
      "outputs": [
        {
          "output_type": "execute_result",
          "data": {
            "text/html": [
              "<div>\n",
              "<style scoped>\n",
              "    .dataframe tbody tr th:only-of-type {\n",
              "        vertical-align: middle;\n",
              "    }\n",
              "\n",
              "    .dataframe tbody tr th {\n",
              "        vertical-align: top;\n",
              "    }\n",
              "\n",
              "    .dataframe thead th {\n",
              "        text-align: right;\n",
              "    }\n",
              "</style>\n",
              "<table border=\"1\" class=\"dataframe\">\n",
              "  <thead>\n",
              "    <tr style=\"text-align: right;\">\n",
              "      <th></th>\n",
              "      <th>pet_id</th>\n",
              "      <th>breed_category</th>\n",
              "      <th>pet_category</th>\n",
              "    </tr>\n",
              "  </thead>\n",
              "  <tbody>\n",
              "    <tr>\n",
              "      <th>0</th>\n",
              "      <td>ANSL_75005</td>\n",
              "      <td>1.0</td>\n",
              "      <td>2</td>\n",
              "    </tr>\n",
              "    <tr>\n",
              "      <th>1</th>\n",
              "      <td>ANSL_76663</td>\n",
              "      <td>0.0</td>\n",
              "      <td>1</td>\n",
              "    </tr>\n",
              "    <tr>\n",
              "      <th>2</th>\n",
              "      <td>ANSL_58259</td>\n",
              "      <td>0.0</td>\n",
              "      <td>2</td>\n",
              "    </tr>\n",
              "    <tr>\n",
              "      <th>3</th>\n",
              "      <td>ANSL_67171</td>\n",
              "      <td>0.0</td>\n",
              "      <td>2</td>\n",
              "    </tr>\n",
              "    <tr>\n",
              "      <th>4</th>\n",
              "      <td>ANSL_72871</td>\n",
              "      <td>0.0</td>\n",
              "      <td>2</td>\n",
              "    </tr>\n",
              "  </tbody>\n",
              "</table>\n",
              "</div>"
            ],
            "text/plain": [
              "       pet_id  breed_category  pet_category\n",
              "0  ANSL_75005             1.0             2\n",
              "1  ANSL_76663             0.0             1\n",
              "2  ANSL_58259             0.0             2\n",
              "3  ANSL_67171             0.0             2\n",
              "4  ANSL_72871             0.0             2"
            ]
          },
          "metadata": {
            "tags": []
          },
          "execution_count": 114
        }
      ]
    },
    {
      "cell_type": "code",
      "metadata": {
        "id": "uVEGzVML4qi_",
        "colab_type": "code",
        "colab": {}
      },
      "source": [
        "df_cat.to_csv('submission_28.csv', index=False)"
      ],
      "execution_count": null,
      "outputs": []
    },
    {
      "cell_type": "code",
      "metadata": {
        "id": "YsqLx_7u5KxS",
        "colab_type": "code",
        "colab": {}
      },
      "source": [
        "# Applying the Hyper parameter tuning in catboost Algorithm #"
      ],
      "execution_count": null,
      "outputs": []
    },
    {
      "cell_type": "code",
      "metadata": {
        "id": "P_fyKtBbHkVI",
        "colab_type": "code",
        "colab": {}
      },
      "source": [
        "from sklearn.model_selection import GridSearchCV"
      ],
      "execution_count": null,
      "outputs": []
    },
    {
      "cell_type": "code",
      "metadata": {
        "id": "OcoG3FKt2HW1",
        "colab_type": "code",
        "colab": {}
      },
      "source": [
        "dataset = Pool(data=x,\n",
        "                     label=y,\n",
        "                     cat_features=cat_features_index)"
      ],
      "execution_count": null,
      "outputs": []
    },
    {
      "cell_type": "code",
      "metadata": {
        "id": "ektDmVmSrjCB",
        "colab_type": "code",
        "colab": {}
      },
      "source": [
        "cb1 = CatBoostClassifier(loss_function='MultiClass')"
      ],
      "execution_count": null,
      "outputs": []
    },
    {
      "cell_type": "code",
      "metadata": {
        "id": "9q2drEXbrKfy",
        "colab_type": "code",
        "colab": {}
      },
      "source": [
        "params = {'depth': [7, 10],\n",
        "          'learning_rate' : [0.03, 0.1],\n",
        "         'l2_leaf_reg': [1,4]}"
      ],
      "execution_count": null,
      "outputs": []
    },
    {
      "cell_type": "code",
      "metadata": {
        "id": "4FpA_UQXHal7",
        "colab_type": "code",
        "colab": {
          "base_uri": "https://localhost:8080/",
          "height": 663
        },
        "outputId": "c9a7693d-c533-4de2-fab0-0f4d84437c37"
      },
      "source": [
        "cb_model = cb1.grid_search(params,dataset, cv=2, shuffle=True, search_by_train_test_split=True, verbose=2)\n",
        "\n"
      ],
      "execution_count": null,
      "outputs": [
        {
          "output_type": "stream",
          "text": [
            "\n",
            "bestTest = 0.1489967316\n",
            "bestIteration = 421\n",
            "\n",
            "0:\tloss: 0.1489967\tbest: 0.1489967 (0)\ttotal: 35.2s\tremaining: 4m 6s\n",
            "\n",
            "bestTest = 0.1491655438\n",
            "bestIteration = 131\n",
            "\n",
            "\n",
            "bestTest = 0.1492250511\n",
            "bestIteration = 574\n",
            "\n",
            "2:\tloss: 0.1492251\tbest: 0.1489967 (0)\ttotal: 1m 47s\tremaining: 2m 59s\n",
            "\n",
            "bestTest = 0.1496772079\n",
            "bestIteration = 151\n",
            "\n",
            "\n",
            "bestTest = 0.1505391036\n",
            "bestIteration = 291\n",
            "\n",
            "4:\tloss: 0.1505391\tbest: 0.1489967 (0)\ttotal: 3m 48s\tremaining: 2m 17s\n",
            "\n",
            "bestTest = 0.1506815766\n",
            "bestIteration = 106\n",
            "\n",
            "\n",
            "bestTest = 0.1502450969\n",
            "bestIteration = 369\n",
            "\n",
            "6:\tloss: 0.1502451\tbest: 0.1489967 (0)\ttotal: 6m 40s\tremaining: 57.3s\n",
            "\n",
            "bestTest = 0.1508474343\n",
            "bestIteration = 121\n",
            "\n",
            "7:\tloss: 0.1508474\tbest: 0.1489967 (0)\ttotal: 8m 10s\tremaining: 0us\n",
            "Estimating final quality...\n"
          ],
          "name": "stdout"
        }
      ]
    },
    {
      "cell_type": "code",
      "metadata": {
        "id": "-cJEDKKHNzvP",
        "colab_type": "code",
        "colab": {
          "base_uri": "https://localhost:8080/",
          "height": 136
        },
        "outputId": "820b7bb6-9f4a-4b9c-c939-18da7a87ca37"
      },
      "source": [
        "y_test = cb1.predict_proba(X1)\n",
        "y_test"
      ],
      "execution_count": null,
      "outputs": [
        {
          "output_type": "execute_result",
          "data": {
            "text/plain": [
              "array([[3.22440777e-05, 9.99950227e-01, 1.75288705e-05],\n",
              "       [9.99976618e-01, 1.82206477e-05, 5.16099735e-06],\n",
              "       [9.99985698e-01, 1.16169941e-05, 2.68486426e-06],\n",
              "       ...,\n",
              "       [1.46046855e-05, 9.99975885e-01, 9.51071277e-06],\n",
              "       [5.50420951e-05, 3.59503532e-04, 9.99585454e-01],\n",
              "       [1.10224179e-05, 9.99980978e-01, 7.99985046e-06]])"
            ]
          },
          "metadata": {
            "tags": []
          },
          "execution_count": 77
        }
      ]
    },
    {
      "cell_type": "code",
      "metadata": {
        "id": "jJZ_9QAROdoW",
        "colab_type": "code",
        "colab": {
          "base_uri": "https://localhost:8080/",
          "height": 136
        },
        "outputId": "b8f6ec5f-93ca-4b41-f5ff-7ed7d491c721"
      },
      "source": [
        "y_test_br = cb1.predict(X1)\n",
        "y_test_br"
      ],
      "execution_count": null,
      "outputs": [
        {
          "output_type": "execute_result",
          "data": {
            "text/plain": [
              "array([[1.],\n",
              "       [0.],\n",
              "       [0.],\n",
              "       ...,\n",
              "       [1.],\n",
              "       [2.],\n",
              "       [1.]])"
            ]
          },
          "metadata": {
            "tags": []
          },
          "execution_count": 79
        }
      ]
    },
    {
      "cell_type": "code",
      "metadata": {
        "id": "SyBRevxKOpvi",
        "colab_type": "code",
        "colab": {
          "base_uri": "https://localhost:8080/",
          "height": 204
        },
        "outputId": "6fbbd8a0-1edd-4d26-89ed-8fd9afde3139"
      },
      "source": [
        "y_test_br= pd.DataFrame(y_test_br)\n",
        "y_test_br.head()"
      ],
      "execution_count": null,
      "outputs": [
        {
          "output_type": "execute_result",
          "data": {
            "text/html": [
              "<div>\n",
              "<style scoped>\n",
              "    .dataframe tbody tr th:only-of-type {\n",
              "        vertical-align: middle;\n",
              "    }\n",
              "\n",
              "    .dataframe tbody tr th {\n",
              "        vertical-align: top;\n",
              "    }\n",
              "\n",
              "    .dataframe thead th {\n",
              "        text-align: right;\n",
              "    }\n",
              "</style>\n",
              "<table border=\"1\" class=\"dataframe\">\n",
              "  <thead>\n",
              "    <tr style=\"text-align: right;\">\n",
              "      <th></th>\n",
              "      <th>0</th>\n",
              "    </tr>\n",
              "  </thead>\n",
              "  <tbody>\n",
              "    <tr>\n",
              "      <th>0</th>\n",
              "      <td>1.0</td>\n",
              "    </tr>\n",
              "    <tr>\n",
              "      <th>1</th>\n",
              "      <td>0.0</td>\n",
              "    </tr>\n",
              "    <tr>\n",
              "      <th>2</th>\n",
              "      <td>0.0</td>\n",
              "    </tr>\n",
              "    <tr>\n",
              "      <th>3</th>\n",
              "      <td>0.0</td>\n",
              "    </tr>\n",
              "    <tr>\n",
              "      <th>4</th>\n",
              "      <td>0.0</td>\n",
              "    </tr>\n",
              "  </tbody>\n",
              "</table>\n",
              "</div>"
            ],
            "text/plain": [
              "     0\n",
              "0  1.0\n",
              "1  0.0\n",
              "2  0.0\n",
              "3  0.0\n",
              "4  0.0"
            ]
          },
          "metadata": {
            "tags": []
          },
          "execution_count": 80
        }
      ]
    },
    {
      "cell_type": "code",
      "metadata": {
        "id": "ITqdHR68PCcO",
        "colab_type": "code",
        "colab": {
          "base_uri": "https://localhost:8080/",
          "height": 204
        },
        "outputId": "d32b4533-f2ef-4cbb-a454-a5de71298d1c"
      },
      "source": [
        "y_test_br.rename(columns = {0:'breed_category'}, inplace = True) \n",
        "\n",
        "y_test_br.head()"
      ],
      "execution_count": null,
      "outputs": [
        {
          "output_type": "execute_result",
          "data": {
            "text/html": [
              "<div>\n",
              "<style scoped>\n",
              "    .dataframe tbody tr th:only-of-type {\n",
              "        vertical-align: middle;\n",
              "    }\n",
              "\n",
              "    .dataframe tbody tr th {\n",
              "        vertical-align: top;\n",
              "    }\n",
              "\n",
              "    .dataframe thead th {\n",
              "        text-align: right;\n",
              "    }\n",
              "</style>\n",
              "<table border=\"1\" class=\"dataframe\">\n",
              "  <thead>\n",
              "    <tr style=\"text-align: right;\">\n",
              "      <th></th>\n",
              "      <th>breed_category</th>\n",
              "    </tr>\n",
              "  </thead>\n",
              "  <tbody>\n",
              "    <tr>\n",
              "      <th>0</th>\n",
              "      <td>1.0</td>\n",
              "    </tr>\n",
              "    <tr>\n",
              "      <th>1</th>\n",
              "      <td>0.0</td>\n",
              "    </tr>\n",
              "    <tr>\n",
              "      <th>2</th>\n",
              "      <td>0.0</td>\n",
              "    </tr>\n",
              "    <tr>\n",
              "      <th>3</th>\n",
              "      <td>0.0</td>\n",
              "    </tr>\n",
              "    <tr>\n",
              "      <th>4</th>\n",
              "      <td>0.0</td>\n",
              "    </tr>\n",
              "  </tbody>\n",
              "</table>\n",
              "</div>"
            ],
            "text/plain": [
              "   breed_category\n",
              "0             1.0\n",
              "1             0.0\n",
              "2             0.0\n",
              "3             0.0\n",
              "4             0.0"
            ]
          },
          "metadata": {
            "tags": []
          },
          "execution_count": 81
        }
      ]
    },
    {
      "cell_type": "code",
      "metadata": {
        "id": "qE3sB4-0PHt_",
        "colab_type": "code",
        "colab": {}
      },
      "source": [
        "cb2 = CatBoostClassifier(loss_function='MultiClass')"
      ],
      "execution_count": null,
      "outputs": []
    },
    {
      "cell_type": "code",
      "metadata": {
        "id": "oYDt8vY2aMsN",
        "colab_type": "code",
        "colab": {
          "base_uri": "https://localhost:8080/",
          "height": 34
        },
        "outputId": "0b4a268d-5e4f-42f4-cdbb-6a7640a3eea2"
      },
      "source": [
        "cb2.best_score_"
      ],
      "execution_count": null,
      "outputs": [
        {
          "output_type": "execute_result",
          "data": {
            "text/plain": [
              "{'learn': {'MultiClass': 0.15876372157008026}}"
            ]
          },
          "metadata": {
            "tags": []
          },
          "execution_count": 101
        }
      ]
    },
    {
      "cell_type": "code",
      "metadata": {
        "id": "kr2-rqScadlS",
        "colab_type": "code",
        "colab": {
          "base_uri": "https://localhost:8080/",
          "height": 34
        },
        "outputId": "836fb6b4-e74c-4c18-918c-26ae56289213"
      },
      "source": [
        "cb2.classes_"
      ],
      "execution_count": null,
      "outputs": [
        {
          "output_type": "execute_result",
          "data": {
            "text/plain": [
              "array([0, 1, 2, 4])"
            ]
          },
          "metadata": {
            "tags": []
          },
          "execution_count": 105
        }
      ]
    },
    {
      "cell_type": "code",
      "metadata": {
        "id": "xzFVCqWCPWY7",
        "colab_type": "code",
        "colab": {}
      },
      "source": [
        "dataset1 = Pool(data=x,\n",
        "                     label=y1,\n",
        "                     cat_features=cat_features_index)"
      ],
      "execution_count": null,
      "outputs": []
    },
    {
      "cell_type": "code",
      "metadata": {
        "id": "HDRFvJ12PQ4f",
        "colab_type": "code",
        "colab": {
          "base_uri": "https://localhost:8080/",
          "height": 663
        },
        "outputId": "7e1ebf38-00cc-4356-e481-3143ac546eec"
      },
      "source": [
        "cb_model1 = cb2.grid_search(params,dataset1, cv=2, shuffle=True, search_by_train_test_split=True, verbose=2)\n"
      ],
      "execution_count": null,
      "outputs": [
        {
          "output_type": "stream",
          "text": [
            "\n",
            "bestTest = 0.2323637942\n",
            "bestIteration = 967\n",
            "\n",
            "0:\tloss: 0.2323638\tbest: 0.2323638 (0)\ttotal: 54.5s\tremaining: 6m 21s\n",
            "\n",
            "bestTest = 0.231189663\n",
            "bestIteration = 278\n",
            "\n",
            "\n",
            "bestTest = 0.2332272633\n",
            "bestIteration = 999\n",
            "\n",
            "2:\tloss: 0.2332273\tbest: 0.2311897 (1)\ttotal: 2m 44s\tremaining: 4m 34s\n",
            "\n",
            "bestTest = 0.2320703259\n",
            "bestIteration = 449\n",
            "\n",
            "\n",
            "bestTest = 0.2332052257\n",
            "bestIteration = 510\n",
            "\n",
            "4:\tloss: 0.2332052\tbest: 0.2311897 (1)\ttotal: 5m 52s\tremaining: 3m 31s\n",
            "\n",
            "bestTest = 0.2331446697\n",
            "bestIteration = 136\n",
            "\n",
            "\n",
            "bestTest = 0.2345197654\n",
            "bestIteration = 706\n",
            "\n",
            "6:\tloss: 0.2345198\tbest: 0.2311897 (1)\ttotal: 10m 22s\tremaining: 1m 28s\n",
            "\n",
            "bestTest = 0.2332180534\n",
            "bestIteration = 273\n",
            "\n",
            "7:\tloss: 0.2332181\tbest: 0.2311897 (1)\ttotal: 12m 41s\tremaining: 0us\n",
            "Estimating final quality...\n"
          ],
          "name": "stdout"
        }
      ]
    },
    {
      "cell_type": "code",
      "metadata": {
        "id": "zZsFZnCkWis5",
        "colab_type": "code",
        "colab": {
          "base_uri": "https://localhost:8080/",
          "height": 136
        },
        "outputId": "5ec0a564-1bbf-4530-8b65-a7c27f0696c0"
      },
      "source": [
        "y_test_pet = cb2.predict(X1)\n",
        "y_test_pet"
      ],
      "execution_count": null,
      "outputs": [
        {
          "output_type": "execute_result",
          "data": {
            "text/plain": [
              "array([[2],\n",
              "       [1],\n",
              "       [2],\n",
              "       ...,\n",
              "       [2],\n",
              "       [4],\n",
              "       [2]])"
            ]
          },
          "metadata": {
            "tags": []
          },
          "execution_count": 94
        }
      ]
    },
    {
      "cell_type": "code",
      "metadata": {
        "id": "XK7jQB9PWpYq",
        "colab_type": "code",
        "colab": {
          "base_uri": "https://localhost:8080/",
          "height": 204
        },
        "outputId": "b840c356-bd15-46b4-afbe-522193ca28fb"
      },
      "source": [
        "y_test_pet = pd.DataFrame(y_test_pet)\n",
        "y_test_pet.head()"
      ],
      "execution_count": null,
      "outputs": [
        {
          "output_type": "execute_result",
          "data": {
            "text/html": [
              "<div>\n",
              "<style scoped>\n",
              "    .dataframe tbody tr th:only-of-type {\n",
              "        vertical-align: middle;\n",
              "    }\n",
              "\n",
              "    .dataframe tbody tr th {\n",
              "        vertical-align: top;\n",
              "    }\n",
              "\n",
              "    .dataframe thead th {\n",
              "        text-align: right;\n",
              "    }\n",
              "</style>\n",
              "<table border=\"1\" class=\"dataframe\">\n",
              "  <thead>\n",
              "    <tr style=\"text-align: right;\">\n",
              "      <th></th>\n",
              "      <th>0</th>\n",
              "    </tr>\n",
              "  </thead>\n",
              "  <tbody>\n",
              "    <tr>\n",
              "      <th>0</th>\n",
              "      <td>2</td>\n",
              "    </tr>\n",
              "    <tr>\n",
              "      <th>1</th>\n",
              "      <td>1</td>\n",
              "    </tr>\n",
              "    <tr>\n",
              "      <th>2</th>\n",
              "      <td>2</td>\n",
              "    </tr>\n",
              "    <tr>\n",
              "      <th>3</th>\n",
              "      <td>2</td>\n",
              "    </tr>\n",
              "    <tr>\n",
              "      <th>4</th>\n",
              "      <td>2</td>\n",
              "    </tr>\n",
              "  </tbody>\n",
              "</table>\n",
              "</div>"
            ],
            "text/plain": [
              "   0\n",
              "0  2\n",
              "1  1\n",
              "2  2\n",
              "3  2\n",
              "4  2"
            ]
          },
          "metadata": {
            "tags": []
          },
          "execution_count": 95
        }
      ]
    },
    {
      "cell_type": "code",
      "metadata": {
        "id": "RghLGCqxWyy0",
        "colab_type": "code",
        "colab": {
          "base_uri": "https://localhost:8080/",
          "height": 204
        },
        "outputId": "740d1633-8dee-4e74-9238-5aaf4b004d27"
      },
      "source": [
        "y_test_pet.rename(columns={0:'pet_category'}, inplace=True)\n",
        "y_test_pet.head()\n",
        "\n"
      ],
      "execution_count": null,
      "outputs": [
        {
          "output_type": "execute_result",
          "data": {
            "text/html": [
              "<div>\n",
              "<style scoped>\n",
              "    .dataframe tbody tr th:only-of-type {\n",
              "        vertical-align: middle;\n",
              "    }\n",
              "\n",
              "    .dataframe tbody tr th {\n",
              "        vertical-align: top;\n",
              "    }\n",
              "\n",
              "    .dataframe thead th {\n",
              "        text-align: right;\n",
              "    }\n",
              "</style>\n",
              "<table border=\"1\" class=\"dataframe\">\n",
              "  <thead>\n",
              "    <tr style=\"text-align: right;\">\n",
              "      <th></th>\n",
              "      <th>pet_category</th>\n",
              "    </tr>\n",
              "  </thead>\n",
              "  <tbody>\n",
              "    <tr>\n",
              "      <th>0</th>\n",
              "      <td>2</td>\n",
              "    </tr>\n",
              "    <tr>\n",
              "      <th>1</th>\n",
              "      <td>1</td>\n",
              "    </tr>\n",
              "    <tr>\n",
              "      <th>2</th>\n",
              "      <td>2</td>\n",
              "    </tr>\n",
              "    <tr>\n",
              "      <th>3</th>\n",
              "      <td>2</td>\n",
              "    </tr>\n",
              "    <tr>\n",
              "      <th>4</th>\n",
              "      <td>2</td>\n",
              "    </tr>\n",
              "  </tbody>\n",
              "</table>\n",
              "</div>"
            ],
            "text/plain": [
              "   pet_category\n",
              "0             2\n",
              "1             1\n",
              "2             2\n",
              "3             2\n",
              "4             2"
            ]
          },
          "metadata": {
            "tags": []
          },
          "execution_count": 97
        }
      ]
    },
    {
      "cell_type": "code",
      "metadata": {
        "id": "5gYg53YgO0ge",
        "colab_type": "code",
        "colab": {
          "base_uri": "https://localhost:8080/",
          "height": 204
        },
        "outputId": "1022a667-26c7-493b-873c-8c8e0bcbbed9"
      },
      "source": [
        "# Concatenating the output for breed and pet category #\n",
        "\n",
        "df_cat_1= pd.concat([df1['pet_id'],y_test_br['breed_category'],y_test_pet['pet_category']],axis=1) \n",
        "df_cat_1.head()"
      ],
      "execution_count": null,
      "outputs": [
        {
          "output_type": "execute_result",
          "data": {
            "text/html": [
              "<div>\n",
              "<style scoped>\n",
              "    .dataframe tbody tr th:only-of-type {\n",
              "        vertical-align: middle;\n",
              "    }\n",
              "\n",
              "    .dataframe tbody tr th {\n",
              "        vertical-align: top;\n",
              "    }\n",
              "\n",
              "    .dataframe thead th {\n",
              "        text-align: right;\n",
              "    }\n",
              "</style>\n",
              "<table border=\"1\" class=\"dataframe\">\n",
              "  <thead>\n",
              "    <tr style=\"text-align: right;\">\n",
              "      <th></th>\n",
              "      <th>pet_id</th>\n",
              "      <th>breed_category</th>\n",
              "      <th>pet_category</th>\n",
              "    </tr>\n",
              "  </thead>\n",
              "  <tbody>\n",
              "    <tr>\n",
              "      <th>0</th>\n",
              "      <td>ANSL_75005</td>\n",
              "      <td>1.0</td>\n",
              "      <td>2</td>\n",
              "    </tr>\n",
              "    <tr>\n",
              "      <th>1</th>\n",
              "      <td>ANSL_76663</td>\n",
              "      <td>0.0</td>\n",
              "      <td>1</td>\n",
              "    </tr>\n",
              "    <tr>\n",
              "      <th>2</th>\n",
              "      <td>ANSL_58259</td>\n",
              "      <td>0.0</td>\n",
              "      <td>2</td>\n",
              "    </tr>\n",
              "    <tr>\n",
              "      <th>3</th>\n",
              "      <td>ANSL_67171</td>\n",
              "      <td>0.0</td>\n",
              "      <td>2</td>\n",
              "    </tr>\n",
              "    <tr>\n",
              "      <th>4</th>\n",
              "      <td>ANSL_72871</td>\n",
              "      <td>0.0</td>\n",
              "      <td>2</td>\n",
              "    </tr>\n",
              "  </tbody>\n",
              "</table>\n",
              "</div>"
            ],
            "text/plain": [
              "       pet_id  breed_category  pet_category\n",
              "0  ANSL_75005             1.0             2\n",
              "1  ANSL_76663             0.0             1\n",
              "2  ANSL_58259             0.0             2\n",
              "3  ANSL_67171             0.0             2\n",
              "4  ANSL_72871             0.0             2"
            ]
          },
          "metadata": {
            "tags": []
          },
          "execution_count": 98
        }
      ]
    },
    {
      "cell_type": "code",
      "metadata": {
        "id": "FrEN4SxkYOLi",
        "colab_type": "code",
        "colab": {}
      },
      "source": [
        "df_cat_1.to_csv('submission_29.csv', index=False)"
      ],
      "execution_count": null,
      "outputs": []
    },
    {
      "cell_type": "code",
      "metadata": {
        "id": "pSdsQJK5bnqK",
        "colab_type": "code",
        "colab": {}
      },
      "source": [
        "#Applning a new model with randomized search #\n",
        "\n",
        "#Parameters for tuning\n",
        "ra_grid = {'learning_rate': [0.03,0.25,0.5,0.1,1],\n",
        "        'depth': [4,6,8,10],\n",
        "        'l2_leaf_reg': [1, 3, 5, 7, 9]}"
      ],
      "execution_count": null,
      "outputs": []
    },
    {
      "cell_type": "code",
      "metadata": {
        "id": "I36HntD5bwAh",
        "colab_type": "code",
        "colab": {}
      },
      "source": [
        "randomized_search(grid,\n",
        "                  X,\n",
        "                  y=None,\n",
        "                  cv=3,\n",
        "                  n_iter=10,\n",
        "                  partition_random_seed=0,\n",
        "                  calc_cv_statistics=True, \n",
        "                  search_by_train_test_split=True,\n",
        "                  refit=True, \n",
        "                  shuffle=True, \n",
        "                  stratified=None, \n",
        "                  train_size=0.8, \n",
        "                  verbose=True)"
      ],
      "execution_count": null,
      "outputs": []
    },
    {
      "cell_type": "code",
      "metadata": {
        "id": "dz0jeDV7dOLz",
        "colab_type": "code",
        "colab": {}
      },
      "source": [
        "c = CatBoostClassifier(loss_function='MultiClass')"
      ],
      "execution_count": null,
      "outputs": []
    },
    {
      "cell_type": "code",
      "metadata": {
        "id": "D76qqXLrE-iy",
        "colab_type": "code",
        "colab": {
          "base_uri": "https://localhost:8080/",
          "height": 1000
        },
        "outputId": "33c4ddd7-41d8-4d19-8b71-1374af9c1281"
      },
      "source": [
        "#Applyning a new model with randomized search #\n",
        "\n",
        "randomized_breed = c.randomized_search(grid,\n",
        "                  dataset,\n",
        "                  cv=3,\n",
        "                  n_iter=50,\n",
        "                  partition_random_seed=0,\n",
        "                  calc_cv_statistics=True, \n",
        "                  search_by_train_test_split=True,\n",
        "                  refit=True, \n",
        "                  shuffle=True, \n",
        "                  stratified=None, \n",
        "                  verbose=True)"
      ],
      "execution_count": null,
      "outputs": [
        {
          "output_type": "stream",
          "text": [
            "\n",
            "bestTest = 0.1494285245\n",
            "bestIteration = 18\n",
            "\n",
            "0:\tloss: 0.1494285\tbest: 0.1494285 (0)\ttotal: 21.1s\tremaining: 17m 12s\n",
            "\n",
            "bestTest = 0.149597167\n",
            "bestIteration = 80\n",
            "\n",
            "1:\tloss: 0.1495972\tbest: 0.1494285 (0)\ttotal: 42s\tremaining: 16m 48s\n",
            "\n",
            "bestTest = 0.1494355126\n",
            "bestIteration = 163\n",
            "\n",
            "2:\tloss: 0.1494355\tbest: 0.1494285 (0)\ttotal: 1m 2s\tremaining: 16m 24s\n",
            "\n",
            "bestTest = 0.1491218322\n",
            "bestIteration = 68\n",
            "\n",
            "3:\tloss: 0.1491218\tbest: 0.1491218 (3)\ttotal: 1m 23s\tremaining: 16m 3s\n",
            "\n",
            "bestTest = 0.1490008908\n",
            "bestIteration = 24\n",
            "\n",
            "4:\tloss: 0.1490009\tbest: 0.1490009 (4)\ttotal: 1m 44s\tremaining: 15m 40s\n",
            "\n",
            "bestTest = 0.1506007902\n",
            "bestIteration = 10\n",
            "\n",
            "5:\tloss: 0.1506008\tbest: 0.1490009 (4)\ttotal: 2m 5s\tremaining: 15m 20s\n",
            "\n",
            "bestTest = 0.1488442623\n",
            "bestIteration = 988\n",
            "\n",
            "6:\tloss: 0.1488443\tbest: 0.1488443 (6)\ttotal: 2m 24s\tremaining: 14m 50s\n",
            "\n",
            "bestTest = 0.1497644535\n",
            "bestIteration = 202\n",
            "\n",
            "7:\tloss: 0.1497645\tbest: 0.1488443 (6)\ttotal: 2m 45s\tremaining: 14m 30s\n",
            "\n",
            "bestTest = 0.149748771\n",
            "bestIteration = 78\n",
            "\n",
            "8:\tloss: 0.1497488\tbest: 0.1488443 (6)\ttotal: 3m 6s\tremaining: 14m 10s\n",
            "\n",
            "bestTest = 0.1490271079\n",
            "bestIteration = 394\n",
            "\n",
            "9:\tloss: 0.1490271\tbest: 0.1488443 (6)\ttotal: 3m 27s\tremaining: 13m 48s\n",
            "\n",
            "bestTest = 0.149667922\n",
            "bestIteration = 268\n",
            "\n",
            "10:\tloss: 0.1496679\tbest: 0.1488443 (6)\ttotal: 3m 47s\tremaining: 13m 27s\n",
            "\n",
            "bestTest = 0.1500982643\n",
            "bestIteration = 56\n",
            "\n",
            "11:\tloss: 0.1500983\tbest: 0.1488443 (6)\ttotal: 4m 8s\tremaining: 13m 7s\n",
            "\n",
            "bestTest = 0.1488682449\n",
            "bestIteration = 447\n",
            "\n",
            "12:\tloss: 0.1488682\tbest: 0.1488443 (6)\ttotal: 4m 29s\tremaining: 12m 46s\n",
            "\n",
            "bestTest = 0.1488236143\n",
            "bestIteration = 500\n",
            "\n",
            "13:\tloss: 0.1488236\tbest: 0.1488236 (13)\ttotal: 4m 57s\tremaining: 12m 43s\n",
            "\n",
            "bestTest = 0.1494429863\n",
            "bestIteration = 41\n",
            "\n",
            "14:\tloss: 0.1494430\tbest: 0.1488236 (13)\ttotal: 5m 27s\tremaining: 12m 43s\n",
            "\n",
            "bestTest = 0.1480659495\n",
            "bestIteration = 11\n",
            "\n",
            "15:\tloss: 0.1480659\tbest: 0.1480659 (15)\ttotal: 5m 57s\tremaining: 12m 39s\n",
            "\n",
            "bestTest = 0.1491747293\n",
            "bestIteration = 545\n",
            "\n",
            "16:\tloss: 0.1491747\tbest: 0.1480659 (15)\ttotal: 6m 24s\tremaining: 12m 27s\n",
            "\n",
            "bestTest = 0.149061328\n",
            "bestIteration = 188\n",
            "\n",
            "17:\tloss: 0.1490613\tbest: 0.1480659 (15)\ttotal: 6m 54s\tremaining: 12m 16s\n",
            "\n",
            "bestTest = 0.1496448345\n",
            "bestIteration = 82\n",
            "\n",
            "18:\tloss: 0.1496448\tbest: 0.1480659 (15)\ttotal: 7m 24s\tremaining: 12m 4s\n",
            "\n",
            "bestTest = 0.1486699414\n",
            "bestIteration = 136\n",
            "\n",
            "19:\tloss: 0.1486699\tbest: 0.1480659 (15)\ttotal: 7m 53s\tremaining: 11m 50s\n",
            "\n",
            "bestTest = 0.1495294673\n",
            "bestIteration = 14\n",
            "\n",
            "20:\tloss: 0.1495295\tbest: 0.1480659 (15)\ttotal: 8m 24s\tremaining: 11m 36s\n",
            "\n",
            "bestTest = 0.1498237451\n",
            "bestIteration = 27\n",
            "\n",
            "21:\tloss: 0.1498237\tbest: 0.1480659 (15)\ttotal: 8m 54s\tremaining: 11m 20s\n",
            "\n",
            "bestTest = 0.1495829911\n",
            "bestIteration = 420\n",
            "\n",
            "22:\tloss: 0.1495830\tbest: 0.1480659 (15)\ttotal: 9m 40s\tremaining: 11m 21s\n",
            "\n",
            "bestTest = 0.1492249092\n",
            "bestIteration = 177\n",
            "\n",
            "23:\tloss: 0.1492249\tbest: 0.1480659 (15)\ttotal: 10m 29s\tremaining: 11m 21s\n",
            "\n",
            "bestTest = 0.151862513\n",
            "bestIteration = 7\n",
            "\n",
            "24:\tloss: 0.1518625\tbest: 0.1480659 (15)\ttotal: 11m 19s\tremaining: 11m 19s\n",
            "\n",
            "bestTest = 0.1490209545\n",
            "bestIteration = 132\n",
            "\n",
            "25:\tloss: 0.1490210\tbest: 0.1480659 (15)\ttotal: 12m 7s\tremaining: 11m 11s\n",
            "\n",
            "bestTest = 0.1516678451\n",
            "bestIteration = 8\n",
            "\n",
            "26:\tloss: 0.1516678\tbest: 0.1480659 (15)\ttotal: 12m 57s\tremaining: 11m 2s\n",
            "\n",
            "bestTest = 0.1496548563\n",
            "bestIteration = 622\n",
            "\n",
            "27:\tloss: 0.1496549\tbest: 0.1480659 (15)\ttotal: 13m 43s\tremaining: 10m 46s\n",
            "\n",
            "bestTest = 0.1494484483\n",
            "bestIteration = 49\n",
            "\n",
            "28:\tloss: 0.1494484\tbest: 0.1480659 (15)\ttotal: 14m 32s\tremaining: 10m 31s\n",
            "\n",
            "bestTest = 0.147682573\n",
            "bestIteration = 34\n",
            "\n",
            "29:\tloss: 0.1476826\tbest: 0.1476826 (29)\ttotal: 15m 22s\tremaining: 10m 15s\n",
            "\n",
            "bestTest = 0.1494293416\n",
            "bestIteration = 126\n",
            "\n",
            "30:\tloss: 0.1494293\tbest: 0.1476826 (29)\ttotal: 16m 11s\tremaining: 9m 55s\n",
            "\n",
            "bestTest = 0.1515852419\n",
            "bestIteration = 8\n",
            "\n",
            "31:\tloss: 0.1515852\tbest: 0.1476826 (29)\ttotal: 17m 1s\tremaining: 9m 34s\n",
            "\n",
            "bestTest = 0.149678151\n",
            "bestIteration = 520\n",
            "\n",
            "32:\tloss: 0.1496782\tbest: 0.1476826 (29)\ttotal: 17m 47s\tremaining: 9m 9s\n",
            "\n",
            "bestTest = 0.1501138222\n",
            "bestIteration = 45\n",
            "\n",
            "33:\tloss: 0.1501138\tbest: 0.1476826 (29)\ttotal: 18m 36s\tremaining: 8m 45s\n",
            "\n",
            "bestTest = 0.1499354723\n",
            "bestIteration = 29\n",
            "\n",
            "34:\tloss: 0.1499355\tbest: 0.1476826 (29)\ttotal: 19m 26s\tremaining: 8m 19s\n",
            "\n",
            "bestTest = 0.1510942168\n",
            "bestIteration = 11\n",
            "\n",
            "35:\tloss: 0.1510942\tbest: 0.1476826 (29)\ttotal: 20m 16s\tremaining: 7m 53s\n",
            "\n",
            "bestTest = 0.1505830848\n",
            "bestIteration = 38\n",
            "\n",
            "36:\tloss: 0.1505831\tbest: 0.1476826 (29)\ttotal: 21m 6s\tremaining: 7m 25s\n",
            "\n",
            "bestTest = 0.150686357\n",
            "bestIteration = 19\n",
            "\n",
            "37:\tloss: 0.1506864\tbest: 0.1476826 (29)\ttotal: 21m 56s\tremaining: 6m 55s\n",
            "\n",
            "bestTest = 0.1500029148\n",
            "bestIteration = 42\n",
            "\n",
            "38:\tloss: 0.1500029\tbest: 0.1476826 (29)\ttotal: 23m 29s\tremaining: 6m 37s\n",
            "\n",
            "bestTest = 0.1516922049\n",
            "bestIteration = 16\n",
            "\n",
            "39:\tloss: 0.1516922\tbest: 0.1476826 (29)\ttotal: 25m 1s\tremaining: 6m 15s\n",
            "\n",
            "bestTest = 0.1502639327\n",
            "bestIteration = 98\n",
            "\n",
            "40:\tloss: 0.1502639\tbest: 0.1476826 (29)\ttotal: 26m 32s\tremaining: 5m 49s\n",
            "\n",
            "bestTest = 0.1509077499\n",
            "bestIteration = 33\n",
            "\n",
            "41:\tloss: 0.1509077\tbest: 0.1476826 (29)\ttotal: 28m 3s\tremaining: 5m 20s\n",
            "\n",
            "bestTest = 0.1514973679\n",
            "bestIteration = 35\n",
            "\n",
            "42:\tloss: 0.1514974\tbest: 0.1476826 (29)\ttotal: 29m 35s\tremaining: 4m 49s\n",
            "\n",
            "bestTest = 0.1504691828\n",
            "bestIteration = 137\n",
            "\n",
            "43:\tloss: 0.1504692\tbest: 0.1476826 (29)\ttotal: 31m 4s\tremaining: 4m 14s\n",
            "\n",
            "bestTest = 0.1503441808\n",
            "bestIteration = 506\n",
            "\n",
            "44:\tloss: 0.1503442\tbest: 0.1476826 (29)\ttotal: 32m 28s\tremaining: 3m 36s\n",
            "\n",
            "bestTest = 0.1500840393\n",
            "bestIteration = 64\n",
            "\n",
            "45:\tloss: 0.1500840\tbest: 0.1476826 (29)\ttotal: 33m 58s\tremaining: 2m 57s\n",
            "\n",
            "bestTest = 0.1507957778\n",
            "bestIteration = 123\n",
            "\n",
            "46:\tloss: 0.1507958\tbest: 0.1476826 (29)\ttotal: 35m 28s\tremaining: 2m 15s\n",
            "\n",
            "bestTest = 0.1502615414\n",
            "bestIteration = 497\n",
            "\n",
            "47:\tloss: 0.1502615\tbest: 0.1476826 (29)\ttotal: 36m 51s\tremaining: 1m 32s\n",
            "\n",
            "bestTest = 0.152095576\n",
            "bestIteration = 15\n",
            "\n",
            "48:\tloss: 0.1520956\tbest: 0.1476826 (29)\ttotal: 38m 22s\tremaining: 47s\n",
            "\n",
            "bestTest = 0.1507770159\n",
            "bestIteration = 161\n",
            "\n",
            "49:\tloss: 0.1507770\tbest: 0.1476826 (29)\ttotal: 39m 46s\tremaining: 0us\n",
            "Estimating final quality...\n"
          ],
          "name": "stdout"
        }
      ]
    },
    {
      "cell_type": "code",
      "metadata": {
        "id": "EasnLlJZm1Vq",
        "colab_type": "code",
        "colab": {}
      },
      "source": [
        "c1 = CatBoostClassifier(loss_function='MultiClass')"
      ],
      "execution_count": null,
      "outputs": []
    },
    {
      "cell_type": "code",
      "metadata": {
        "id": "J_qBRVVwrTLz",
        "colab_type": "code",
        "colab": {
          "base_uri": "https://localhost:8080/",
          "height": 1000
        },
        "outputId": "94621807-6dd2-43ec-a2d9-09c3be248b7b"
      },
      "source": [
        "randomized_pet = c1.randomized_search(grid,\n",
        "                  dataset1,\n",
        "                  cv=3,\n",
        "                  n_iter=50,\n",
        "                  partition_random_seed=0,\n",
        "                  calc_cv_statistics=True, \n",
        "                  search_by_train_test_split=True,\n",
        "                  refit=True, \n",
        "                  shuffle=True, \n",
        "                  stratified=None, \n",
        "                  verbose=True)"
      ],
      "execution_count": null,
      "outputs": [
        {
          "output_type": "stream",
          "text": [
            "\n",
            "bestTest = 0.2612626254\n",
            "bestIteration = 133\n",
            "\n",
            "0:\tloss: 0.2612626\tbest: 0.2612626 (0)\ttotal: 29.7s\tremaining: 24m 14s\n",
            "\n",
            "bestTest = 0.2324065922\n",
            "bestIteration = 397\n",
            "\n",
            "1:\tloss: 0.2324066\tbest: 0.2324066 (1)\ttotal: 58.8s\tremaining: 23m 31s\n",
            "\n",
            "bestTest = 0.2329034547\n",
            "bestIteration = 827\n",
            "\n",
            "2:\tloss: 0.2329035\tbest: 0.2324066 (1)\ttotal: 1m 27s\tremaining: 22m 45s\n",
            "\n",
            "bestTest = 0.2309456454\n",
            "bestIteration = 498\n",
            "\n",
            "3:\tloss: 0.2309456\tbest: 0.2309456 (3)\ttotal: 1m 55s\tremaining: 22m 13s\n",
            "\n",
            "bestTest = 0.2357698455\n",
            "bestIteration = 206\n",
            "\n",
            "4:\tloss: 0.2357698\tbest: 0.2309456 (3)\ttotal: 2m 24s\tremaining: 21m 41s\n",
            "\n",
            "bestTest = 0.238035394\n",
            "bestIteration = 86\n",
            "\n",
            "5:\tloss: 0.2380354\tbest: 0.2309456 (3)\ttotal: 2m 53s\tremaining: 21m 14s\n",
            "\n",
            "bestTest = 0.2384029957\n",
            "bestIteration = 999\n",
            "\n",
            "6:\tloss: 0.2384030\tbest: 0.2309456 (3)\ttotal: 3m 19s\tremaining: 20m 26s\n",
            "\n",
            "bestTest = 0.2316153947\n",
            "bestIteration = 717\n",
            "\n",
            "7:\tloss: 0.2316154\tbest: 0.2309456 (3)\ttotal: 3m 47s\tremaining: 19m 53s\n",
            "\n",
            "bestTest = 0.2339528846\n",
            "bestIteration = 138\n",
            "\n",
            "8:\tloss: 0.2339529\tbest: 0.2309456 (3)\ttotal: 4m 15s\tremaining: 19m 22s\n",
            "\n",
            "bestTest = 0.2328161199\n",
            "bestIteration = 958\n",
            "\n",
            "9:\tloss: 0.2328161\tbest: 0.2309456 (3)\ttotal: 4m 42s\tremaining: 18m 48s\n",
            "\n",
            "bestTest = 0.2332959248\n",
            "bestIteration = 555\n",
            "\n",
            "10:\tloss: 0.2332959\tbest: 0.2309456 (3)\ttotal: 5m 9s\tremaining: 18m 17s\n",
            "\n",
            "bestTest = 0.232605661\n",
            "bestIteration = 468\n",
            "\n",
            "11:\tloss: 0.2326057\tbest: 0.2309456 (3)\ttotal: 5m 37s\tremaining: 17m 47s\n",
            "\n",
            "bestTest = 0.2341439104\n",
            "bestIteration = 917\n",
            "\n",
            "12:\tloss: 0.2341439\tbest: 0.2309456 (3)\ttotal: 6m 3s\tremaining: 17m 14s\n",
            "\n",
            "bestTest = 0.233560875\n",
            "bestIteration = 999\n",
            "\n",
            "13:\tloss: 0.2335609\tbest: 0.2309456 (3)\ttotal: 6m 41s\tremaining: 17m 12s\n",
            "\n",
            "bestTest = 0.2361412756\n",
            "bestIteration = 156\n",
            "\n",
            "14:\tloss: 0.2361413\tbest: 0.2309456 (3)\ttotal: 7m 23s\tremaining: 17m 15s\n",
            "\n",
            "bestTest = 0.2409923915\n",
            "bestIteration = 74\n",
            "\n",
            "15:\tloss: 0.2409924\tbest: 0.2309456 (3)\ttotal: 8m 6s\tremaining: 17m 14s\n",
            "\n",
            "bestTest = 0.2341143815\n",
            "bestIteration = 999\n",
            "\n",
            "16:\tloss: 0.2341144\tbest: 0.2309456 (3)\ttotal: 8m 44s\tremaining: 16m 57s\n",
            "\n",
            "bestTest = 0.2312291713\n",
            "bestIteration = 754\n",
            "\n",
            "17:\tloss: 0.2312292\tbest: 0.2309456 (3)\ttotal: 9m 22s\tremaining: 16m 40s\n",
            "\n",
            "bestTest = 0.2317667383\n",
            "bestIteration = 339\n",
            "\n",
            "18:\tloss: 0.2317667\tbest: 0.2309456 (3)\ttotal: 10m 2s\tremaining: 16m 23s\n",
            "\n",
            "bestTest = 0.2317181512\n",
            "bestIteration = 993\n",
            "\n",
            "19:\tloss: 0.2317182\tbest: 0.2309456 (3)\ttotal: 10m 41s\tremaining: 16m 1s\n",
            "\n",
            "bestTest = 0.236140088\n",
            "bestIteration = 54\n",
            "\n",
            "20:\tloss: 0.2361401\tbest: 0.2309456 (3)\ttotal: 11m 22s\tremaining: 15m 42s\n",
            "\n",
            "bestTest = 0.2400421858\n",
            "bestIteration = 243\n",
            "\n",
            "21:\tloss: 0.2400422\tbest: 0.2309456 (3)\ttotal: 12m 4s\tremaining: 15m 21s\n",
            "\n",
            "bestTest = 0.2321848623\n",
            "bestIteration = 837\n",
            "\n",
            "22:\tloss: 0.2321849\tbest: 0.2309456 (3)\ttotal: 13m 11s\tremaining: 15m 28s\n",
            "\n",
            "bestTest = 0.2328675265\n",
            "bestIteration = 216\n",
            "\n",
            "23:\tloss: 0.2328675\tbest: 0.2309456 (3)\ttotal: 14m 20s\tremaining: 15m 32s\n",
            "\n",
            "bestTest = 0.2432565393\n",
            "bestIteration = 12\n",
            "\n",
            "24:\tloss: 0.2432565\tbest: 0.2309456 (3)\ttotal: 15m 32s\tremaining: 15m 32s\n",
            "\n",
            "bestTest = 0.2324613172\n",
            "bestIteration = 270\n",
            "\n",
            "25:\tloss: 0.2324613\tbest: 0.2309456 (3)\ttotal: 16m 40s\tremaining: 15m 23s\n",
            "\n",
            "bestTest = 0.234609049\n",
            "bestIteration = 17\n",
            "\n",
            "26:\tloss: 0.2346090\tbest: 0.2309456 (3)\ttotal: 17m 52s\tremaining: 15m 13s\n",
            "\n",
            "bestTest = 0.2329737307\n",
            "bestIteration = 997\n",
            "\n",
            "27:\tloss: 0.2329737\tbest: 0.2309456 (3)\ttotal: 18m 57s\tremaining: 14m 53s\n",
            "\n",
            "bestTest = 0.2327004349\n",
            "bestIteration = 175\n",
            "\n",
            "28:\tloss: 0.2327004\tbest: 0.2309456 (3)\ttotal: 20m 8s\tremaining: 14m 35s\n",
            "\n",
            "bestTest = 0.2325083515\n",
            "bestIteration = 63\n",
            "\n",
            "29:\tloss: 0.2325084\tbest: 0.2309456 (3)\ttotal: 21m 20s\tremaining: 14m 13s\n",
            "\n",
            "bestTest = 0.2324538677\n",
            "bestIteration = 379\n",
            "\n",
            "30:\tloss: 0.2324539\tbest: 0.2309456 (3)\ttotal: 22m 30s\tremaining: 13m 47s\n",
            "\n",
            "bestTest = 0.2382484451\n",
            "bestIteration = 50\n",
            "\n",
            "31:\tloss: 0.2382484\tbest: 0.2309456 (3)\ttotal: 23m 41s\tremaining: 13m 19s\n",
            "\n",
            "bestTest = 0.2328604809\n",
            "bestIteration = 999\n",
            "\n",
            "32:\tloss: 0.2328605\tbest: 0.2309456 (3)\ttotal: 24m 46s\tremaining: 12m 46s\n",
            "\n",
            "bestTest = 0.2340145795\n",
            "bestIteration = 180\n",
            "\n",
            "33:\tloss: 0.2340146\tbest: 0.2309456 (3)\ttotal: 25m 57s\tremaining: 12m 12s\n",
            "\n",
            "bestTest = 0.2338606714\n",
            "bestIteration = 89\n",
            "\n",
            "34:\tloss: 0.2338607\tbest: 0.2309456 (3)\ttotal: 27m 8s\tremaining: 11m 37s\n",
            "\n",
            "bestTest = 0.2344760513\n",
            "bestIteration = 63\n",
            "\n",
            "35:\tloss: 0.2344761\tbest: 0.2309456 (3)\ttotal: 28m 19s\tremaining: 11m 1s\n",
            "\n",
            "bestTest = 0.2342787374\n",
            "bestIteration = 96\n",
            "\n",
            "36:\tloss: 0.2342787\tbest: 0.2309456 (3)\ttotal: 29m 30s\tremaining: 10m 22s\n",
            "\n",
            "bestTest = 0.2342176915\n",
            "bestIteration = 58\n",
            "\n",
            "37:\tloss: 0.2342177\tbest: 0.2309456 (3)\ttotal: 30m 41s\tremaining: 9m 41s\n",
            "\n",
            "bestTest = 0.2333785226\n",
            "bestIteration = 43\n",
            "\n",
            "38:\tloss: 0.2333785\tbest: 0.2309456 (3)\ttotal: 32m 49s\tremaining: 9m 15s\n",
            "\n",
            "bestTest = 0.234195968\n",
            "bestIteration = 32\n",
            "\n",
            "39:\tloss: 0.2341960\tbest: 0.2309456 (3)\ttotal: 34m 58s\tremaining: 8m 44s\n",
            "\n",
            "bestTest = 0.2336800665\n",
            "bestIteration = 182\n",
            "\n",
            "40:\tloss: 0.2336801\tbest: 0.2309456 (3)\ttotal: 37m 4s\tremaining: 8m 8s\n",
            "\n",
            "bestTest = 0.2327218778\n",
            "bestIteration = 135\n",
            "\n",
            "41:\tloss: 0.2327219\tbest: 0.2309456 (3)\ttotal: 39m 10s\tremaining: 7m 27s\n",
            "\n",
            "bestTest = 0.2357987586\n",
            "bestIteration = 35\n",
            "\n",
            "42:\tloss: 0.2357988\tbest: 0.2309456 (3)\ttotal: 41m 18s\tremaining: 6m 43s\n",
            "\n",
            "bestTest = 0.2343499202\n",
            "bestIteration = 224\n",
            "\n",
            "43:\tloss: 0.2343499\tbest: 0.2309456 (3)\ttotal: 43m 21s\tremaining: 5m 54s\n",
            "\n",
            "bestTest = 0.2341963069\n",
            "bestIteration = 994\n",
            "\n",
            "44:\tloss: 0.2341963\tbest: 0.2309456 (3)\ttotal: 45m 15s\tremaining: 5m 1s\n",
            "\n",
            "bestTest = 0.2330994379\n",
            "bestIteration = 145\n",
            "\n",
            "45:\tloss: 0.2330994\tbest: 0.2309456 (3)\ttotal: 47m 19s\tremaining: 4m 6s\n",
            "\n",
            "bestTest = 0.2326665308\n",
            "bestIteration = 322\n",
            "\n",
            "46:\tloss: 0.2326665\tbest: 0.2309456 (3)\ttotal: 49m 18s\tremaining: 3m 8s\n",
            "\n",
            "bestTest = 0.2340857634\n",
            "bestIteration = 955\n",
            "\n",
            "47:\tloss: 0.2340858\tbest: 0.2309456 (3)\ttotal: 51m 10s\tremaining: 2m 7s\n",
            "\n",
            "bestTest = 0.2347099257\n",
            "bestIteration = 67\n",
            "\n",
            "48:\tloss: 0.2347099\tbest: 0.2309456 (3)\ttotal: 53m 12s\tremaining: 1m 5s\n",
            "\n",
            "bestTest = 0.234596945\n",
            "bestIteration = 361\n",
            "\n",
            "49:\tloss: 0.2345969\tbest: 0.2309456 (3)\ttotal: 55m 7s\tremaining: 0us\n",
            "Estimating final quality...\n"
          ],
          "name": "stdout"
        }
      ]
    },
    {
      "cell_type": "code",
      "metadata": {
        "id": "uU0V908R7sUg",
        "colab_type": "code",
        "colab": {
          "base_uri": "https://localhost:8080/",
          "height": 136
        },
        "outputId": "fdd4bc54-e7ed-4b55-fcaf-7a95212a3e70"
      },
      "source": [
        "y_te_br = c.predict(X1)\n",
        "y_te_br"
      ],
      "execution_count": null,
      "outputs": [
        {
          "output_type": "execute_result",
          "data": {
            "text/plain": [
              "array([[1.],\n",
              "       [0.],\n",
              "       [0.],\n",
              "       ...,\n",
              "       [1.],\n",
              "       [2.],\n",
              "       [1.]])"
            ]
          },
          "metadata": {
            "tags": []
          },
          "execution_count": 119
        }
      ]
    },
    {
      "cell_type": "code",
      "metadata": {
        "id": "7Isz0iDW709k",
        "colab_type": "code",
        "colab": {
          "base_uri": "https://localhost:8080/",
          "height": 204
        },
        "outputId": "b50120cd-c6a0-42a5-f48a-faf9fd059a6f"
      },
      "source": [
        "y_te_br = pd.DataFrame(y_te_br)\n",
        "y_te_br.head()"
      ],
      "execution_count": null,
      "outputs": [
        {
          "output_type": "execute_result",
          "data": {
            "text/html": [
              "<div>\n",
              "<style scoped>\n",
              "    .dataframe tbody tr th:only-of-type {\n",
              "        vertical-align: middle;\n",
              "    }\n",
              "\n",
              "    .dataframe tbody tr th {\n",
              "        vertical-align: top;\n",
              "    }\n",
              "\n",
              "    .dataframe thead th {\n",
              "        text-align: right;\n",
              "    }\n",
              "</style>\n",
              "<table border=\"1\" class=\"dataframe\">\n",
              "  <thead>\n",
              "    <tr style=\"text-align: right;\">\n",
              "      <th></th>\n",
              "      <th>0</th>\n",
              "    </tr>\n",
              "  </thead>\n",
              "  <tbody>\n",
              "    <tr>\n",
              "      <th>0</th>\n",
              "      <td>1.0</td>\n",
              "    </tr>\n",
              "    <tr>\n",
              "      <th>1</th>\n",
              "      <td>0.0</td>\n",
              "    </tr>\n",
              "    <tr>\n",
              "      <th>2</th>\n",
              "      <td>0.0</td>\n",
              "    </tr>\n",
              "    <tr>\n",
              "      <th>3</th>\n",
              "      <td>0.0</td>\n",
              "    </tr>\n",
              "    <tr>\n",
              "      <th>4</th>\n",
              "      <td>0.0</td>\n",
              "    </tr>\n",
              "  </tbody>\n",
              "</table>\n",
              "</div>"
            ],
            "text/plain": [
              "     0\n",
              "0  1.0\n",
              "1  0.0\n",
              "2  0.0\n",
              "3  0.0\n",
              "4  0.0"
            ]
          },
          "metadata": {
            "tags": []
          },
          "execution_count": 120
        }
      ]
    },
    {
      "cell_type": "code",
      "metadata": {
        "id": "p0M2oFZc8AQm",
        "colab_type": "code",
        "colab": {
          "base_uri": "https://localhost:8080/",
          "height": 204
        },
        "outputId": "071d90e2-f6a2-42d6-f540-8034389f5f22"
      },
      "source": [
        "y_te_br.rename(columns={0:'breed_category'},inplace=True)\n",
        "y_te_br.head()"
      ],
      "execution_count": null,
      "outputs": [
        {
          "output_type": "execute_result",
          "data": {
            "text/html": [
              "<div>\n",
              "<style scoped>\n",
              "    .dataframe tbody tr th:only-of-type {\n",
              "        vertical-align: middle;\n",
              "    }\n",
              "\n",
              "    .dataframe tbody tr th {\n",
              "        vertical-align: top;\n",
              "    }\n",
              "\n",
              "    .dataframe thead th {\n",
              "        text-align: right;\n",
              "    }\n",
              "</style>\n",
              "<table border=\"1\" class=\"dataframe\">\n",
              "  <thead>\n",
              "    <tr style=\"text-align: right;\">\n",
              "      <th></th>\n",
              "      <th>breed_category</th>\n",
              "    </tr>\n",
              "  </thead>\n",
              "  <tbody>\n",
              "    <tr>\n",
              "      <th>0</th>\n",
              "      <td>1.0</td>\n",
              "    </tr>\n",
              "    <tr>\n",
              "      <th>1</th>\n",
              "      <td>0.0</td>\n",
              "    </tr>\n",
              "    <tr>\n",
              "      <th>2</th>\n",
              "      <td>0.0</td>\n",
              "    </tr>\n",
              "    <tr>\n",
              "      <th>3</th>\n",
              "      <td>0.0</td>\n",
              "    </tr>\n",
              "    <tr>\n",
              "      <th>4</th>\n",
              "      <td>0.0</td>\n",
              "    </tr>\n",
              "  </tbody>\n",
              "</table>\n",
              "</div>"
            ],
            "text/plain": [
              "   breed_category\n",
              "0             1.0\n",
              "1             0.0\n",
              "2             0.0\n",
              "3             0.0\n",
              "4             0.0"
            ]
          },
          "metadata": {
            "tags": []
          },
          "execution_count": 121
        }
      ]
    },
    {
      "cell_type": "code",
      "metadata": {
        "id": "ldenxw_S6yQq",
        "colab_type": "code",
        "colab": {
          "base_uri": "https://localhost:8080/",
          "height": 136
        },
        "outputId": "9f1b7f8f-245f-459a-ed1c-63ecd6bf105a"
      },
      "source": [
        "y_te_pet = c1.predict(X1)\n",
        "y_te_pet"
      ],
      "execution_count": null,
      "outputs": [
        {
          "output_type": "execute_result",
          "data": {
            "text/plain": [
              "array([[2],\n",
              "       [1],\n",
              "       [2],\n",
              "       ...,\n",
              "       [2],\n",
              "       [4],\n",
              "       [2]])"
            ]
          },
          "metadata": {
            "tags": []
          },
          "execution_count": 122
        }
      ]
    },
    {
      "cell_type": "code",
      "metadata": {
        "id": "gPJqO5_57JEd",
        "colab_type": "code",
        "colab": {
          "base_uri": "https://localhost:8080/",
          "height": 204
        },
        "outputId": "3e9e475c-0e1b-4687-99c0-80c75bd6d435"
      },
      "source": [
        "y_te_pet = pd.DataFrame(y_te_pet)\n",
        "y_te_pet.head()"
      ],
      "execution_count": null,
      "outputs": [
        {
          "output_type": "execute_result",
          "data": {
            "text/html": [
              "<div>\n",
              "<style scoped>\n",
              "    .dataframe tbody tr th:only-of-type {\n",
              "        vertical-align: middle;\n",
              "    }\n",
              "\n",
              "    .dataframe tbody tr th {\n",
              "        vertical-align: top;\n",
              "    }\n",
              "\n",
              "    .dataframe thead th {\n",
              "        text-align: right;\n",
              "    }\n",
              "</style>\n",
              "<table border=\"1\" class=\"dataframe\">\n",
              "  <thead>\n",
              "    <tr style=\"text-align: right;\">\n",
              "      <th></th>\n",
              "      <th>0</th>\n",
              "    </tr>\n",
              "  </thead>\n",
              "  <tbody>\n",
              "    <tr>\n",
              "      <th>0</th>\n",
              "      <td>2</td>\n",
              "    </tr>\n",
              "    <tr>\n",
              "      <th>1</th>\n",
              "      <td>1</td>\n",
              "    </tr>\n",
              "    <tr>\n",
              "      <th>2</th>\n",
              "      <td>2</td>\n",
              "    </tr>\n",
              "    <tr>\n",
              "      <th>3</th>\n",
              "      <td>2</td>\n",
              "    </tr>\n",
              "    <tr>\n",
              "      <th>4</th>\n",
              "      <td>2</td>\n",
              "    </tr>\n",
              "  </tbody>\n",
              "</table>\n",
              "</div>"
            ],
            "text/plain": [
              "   0\n",
              "0  2\n",
              "1  1\n",
              "2  2\n",
              "3  2\n",
              "4  2"
            ]
          },
          "metadata": {
            "tags": []
          },
          "execution_count": 123
        }
      ]
    },
    {
      "cell_type": "code",
      "metadata": {
        "id": "-g3WFJ26rnCP",
        "colab_type": "code",
        "colab": {
          "base_uri": "https://localhost:8080/",
          "height": 204
        },
        "outputId": "f6a7e148-2cb4-4396-95f0-328ba7b1f4b0"
      },
      "source": [
        "y_te_pet.rename(columns={0:'pet_category'},inplace=True)\n",
        "y_te_pet.head()"
      ],
      "execution_count": null,
      "outputs": [
        {
          "output_type": "execute_result",
          "data": {
            "text/html": [
              "<div>\n",
              "<style scoped>\n",
              "    .dataframe tbody tr th:only-of-type {\n",
              "        vertical-align: middle;\n",
              "    }\n",
              "\n",
              "    .dataframe tbody tr th {\n",
              "        vertical-align: top;\n",
              "    }\n",
              "\n",
              "    .dataframe thead th {\n",
              "        text-align: right;\n",
              "    }\n",
              "</style>\n",
              "<table border=\"1\" class=\"dataframe\">\n",
              "  <thead>\n",
              "    <tr style=\"text-align: right;\">\n",
              "      <th></th>\n",
              "      <th>pet_category</th>\n",
              "    </tr>\n",
              "  </thead>\n",
              "  <tbody>\n",
              "    <tr>\n",
              "      <th>0</th>\n",
              "      <td>2</td>\n",
              "    </tr>\n",
              "    <tr>\n",
              "      <th>1</th>\n",
              "      <td>1</td>\n",
              "    </tr>\n",
              "    <tr>\n",
              "      <th>2</th>\n",
              "      <td>2</td>\n",
              "    </tr>\n",
              "    <tr>\n",
              "      <th>3</th>\n",
              "      <td>2</td>\n",
              "    </tr>\n",
              "    <tr>\n",
              "      <th>4</th>\n",
              "      <td>2</td>\n",
              "    </tr>\n",
              "  </tbody>\n",
              "</table>\n",
              "</div>"
            ],
            "text/plain": [
              "   pet_category\n",
              "0             2\n",
              "1             1\n",
              "2             2\n",
              "3             2\n",
              "4             2"
            ]
          },
          "metadata": {
            "tags": []
          },
          "execution_count": 124
        }
      ]
    },
    {
      "cell_type": "code",
      "metadata": {
        "id": "r8q2mIHe8I0d",
        "colab_type": "code",
        "colab": {
          "base_uri": "https://localhost:8080/",
          "height": 204
        },
        "outputId": "73cd9b0d-e886-434c-e58d-b54da5075b13"
      },
      "source": [
        "df_c = pd.concat([df1['pet_id'],y_te_br['breed_category'],y_te_pet['pet_category']],axis=1)  \n",
        "df_c.head()"
      ],
      "execution_count": null,
      "outputs": [
        {
          "output_type": "execute_result",
          "data": {
            "text/html": [
              "<div>\n",
              "<style scoped>\n",
              "    .dataframe tbody tr th:only-of-type {\n",
              "        vertical-align: middle;\n",
              "    }\n",
              "\n",
              "    .dataframe tbody tr th {\n",
              "        vertical-align: top;\n",
              "    }\n",
              "\n",
              "    .dataframe thead th {\n",
              "        text-align: right;\n",
              "    }\n",
              "</style>\n",
              "<table border=\"1\" class=\"dataframe\">\n",
              "  <thead>\n",
              "    <tr style=\"text-align: right;\">\n",
              "      <th></th>\n",
              "      <th>pet_id</th>\n",
              "      <th>breed_category</th>\n",
              "      <th>pet_category</th>\n",
              "    </tr>\n",
              "  </thead>\n",
              "  <tbody>\n",
              "    <tr>\n",
              "      <th>0</th>\n",
              "      <td>ANSL_75005</td>\n",
              "      <td>1.0</td>\n",
              "      <td>2</td>\n",
              "    </tr>\n",
              "    <tr>\n",
              "      <th>1</th>\n",
              "      <td>ANSL_76663</td>\n",
              "      <td>0.0</td>\n",
              "      <td>1</td>\n",
              "    </tr>\n",
              "    <tr>\n",
              "      <th>2</th>\n",
              "      <td>ANSL_58259</td>\n",
              "      <td>0.0</td>\n",
              "      <td>2</td>\n",
              "    </tr>\n",
              "    <tr>\n",
              "      <th>3</th>\n",
              "      <td>ANSL_67171</td>\n",
              "      <td>0.0</td>\n",
              "      <td>2</td>\n",
              "    </tr>\n",
              "    <tr>\n",
              "      <th>4</th>\n",
              "      <td>ANSL_72871</td>\n",
              "      <td>0.0</td>\n",
              "      <td>2</td>\n",
              "    </tr>\n",
              "  </tbody>\n",
              "</table>\n",
              "</div>"
            ],
            "text/plain": [
              "       pet_id  breed_category  pet_category\n",
              "0  ANSL_75005             1.0             2\n",
              "1  ANSL_76663             0.0             1\n",
              "2  ANSL_58259             0.0             2\n",
              "3  ANSL_67171             0.0             2\n",
              "4  ANSL_72871             0.0             2"
            ]
          },
          "metadata": {
            "tags": []
          },
          "execution_count": 125
        }
      ]
    },
    {
      "cell_type": "code",
      "metadata": {
        "id": "sJsUUoGU8P5N",
        "colab_type": "code",
        "colab": {}
      },
      "source": [
        "df_c.to_csv('submission_30.csv', index=False)"
      ],
      "execution_count": null,
      "outputs": []
    },
    {
      "cell_type": "code",
      "metadata": {
        "id": "xLsV4Fup-hv2",
        "colab_type": "code",
        "colab": {}
      },
      "source": [
        "# sacing yhe model to be used at later stages #\n",
        "\n",
        "import pickle"
      ],
      "execution_count": null,
      "outputs": []
    },
    {
      "cell_type": "code",
      "metadata": {
        "id": "sM2SZ4Hd-Moe",
        "colab_type": "code",
        "colab": {
          "base_uri": "https://localhost:8080/",
          "height": 343
        },
        "outputId": "c2246d65-23d5-4e2d-d292-6e8fdddf8537"
      },
      "source": [
        "!pip install catboost"
      ],
      "execution_count": null,
      "outputs": [
        {
          "output_type": "stream",
          "text": [
            "Collecting catboost\n",
            "\u001b[?25l  Downloading https://files.pythonhosted.org/packages/96/6c/6608210b29649267de52001b09e369777ee2a5cfe1c71fa75eba82a4f2dc/catboost-0.24-cp36-none-manylinux1_x86_64.whl (65.9MB)\n",
            "\u001b[K     |████████████████████████████████| 65.9MB 44kB/s \n",
            "\u001b[?25hRequirement already satisfied: pandas>=0.24.0 in /usr/local/lib/python3.6/dist-packages (from catboost) (1.0.5)\n",
            "Requirement already satisfied: graphviz in /usr/local/lib/python3.6/dist-packages (from catboost) (0.10.1)\n",
            "Requirement already satisfied: matplotlib in /usr/local/lib/python3.6/dist-packages (from catboost) (3.2.2)\n",
            "Requirement already satisfied: scipy in /usr/local/lib/python3.6/dist-packages (from catboost) (1.4.1)\n",
            "Requirement already satisfied: plotly in /usr/local/lib/python3.6/dist-packages (from catboost) (4.4.1)\n",
            "Requirement already satisfied: numpy>=1.16.0 in /usr/local/lib/python3.6/dist-packages (from catboost) (1.18.5)\n",
            "Requirement already satisfied: six in /usr/local/lib/python3.6/dist-packages (from catboost) (1.15.0)\n",
            "Requirement already satisfied: pytz>=2017.2 in /usr/local/lib/python3.6/dist-packages (from pandas>=0.24.0->catboost) (2018.9)\n",
            "Requirement already satisfied: python-dateutil>=2.6.1 in /usr/local/lib/python3.6/dist-packages (from pandas>=0.24.0->catboost) (2.8.1)\n",
            "Requirement already satisfied: cycler>=0.10 in /usr/local/lib/python3.6/dist-packages (from matplotlib->catboost) (0.10.0)\n",
            "Requirement already satisfied: kiwisolver>=1.0.1 in /usr/local/lib/python3.6/dist-packages (from matplotlib->catboost) (1.2.0)\n",
            "Requirement already satisfied: pyparsing!=2.0.4,!=2.1.2,!=2.1.6,>=2.0.1 in /usr/local/lib/python3.6/dist-packages (from matplotlib->catboost) (2.4.7)\n",
            "Requirement already satisfied: retrying>=1.3.3 in /usr/local/lib/python3.6/dist-packages (from plotly->catboost) (1.3.3)\n",
            "Installing collected packages: catboost\n",
            "Successfully installed catboost-0.24\n"
          ],
          "name": "stdout"
        }
      ]
    },
    {
      "cell_type": "code",
      "metadata": {
        "id": "I1P-85Os-S70",
        "colab_type": "code",
        "colab": {}
      },
      "source": [
        "from catboost import CatBoostClassifier"
      ],
      "execution_count": null,
      "outputs": []
    },
    {
      "cell_type": "code",
      "metadata": {
        "id": "h01VMeW7-o7d",
        "colab_type": "code",
        "colab": {}
      },
      "source": [
        "pickle.dump(c, open('breed_cat.pkl', 'wb'))"
      ],
      "execution_count": null,
      "outputs": []
    },
    {
      "cell_type": "code",
      "metadata": {
        "id": "hQMOgHco_mmJ",
        "colab_type": "code",
        "colab": {}
      },
      "source": [
        "pickle.dump(c1, open('pet_cat.pkl', 'wb'))"
      ],
      "execution_count": null,
      "outputs": []
    },
    {
      "cell_type": "code",
      "metadata": {
        "id": "GYTWNQhZBW10",
        "colab_type": "code",
        "colab": {}
      },
      "source": [
        "m = pickle.load(open('pet_cat.pkl','rb'))"
      ],
      "execution_count": null,
      "outputs": []
    },
    {
      "cell_type": "code",
      "metadata": {
        "id": "XXJRvMMC_0no",
        "colab_type": "code",
        "colab": {}
      },
      "source": [
        "n = pickle.load(open('breed_cat.pkl','rb'))"
      ],
      "execution_count": null,
      "outputs": []
    },
    {
      "cell_type": "code",
      "metadata": {
        "id": "y6zDg7GwAUmE",
        "colab_type": "code",
        "colab": {
          "base_uri": "https://localhost:8080/",
          "height": 136
        },
        "outputId": "7780bb75-e6cc-48d3-87e8-d40a05b64abd"
      },
      "source": [
        "# Breed_category\n",
        "\n",
        "y_t = n.predict(X1)\n",
        "y_t"
      ],
      "execution_count": null,
      "outputs": [
        {
          "output_type": "execute_result",
          "data": {
            "text/plain": [
              "array([[1.],\n",
              "       [0.],\n",
              "       [0.],\n",
              "       ...,\n",
              "       [1.],\n",
              "       [2.],\n",
              "       [1.]])"
            ]
          },
          "metadata": {
            "tags": []
          },
          "execution_count": 85
        }
      ]
    },
    {
      "cell_type": "code",
      "metadata": {
        "id": "y4O-qtqnDc83",
        "colab_type": "code",
        "colab": {
          "base_uri": "https://localhost:8080/",
          "height": 204
        },
        "outputId": "d740dbce-e375-4fb9-febd-7de87a3d7de2"
      },
      "source": [
        "y_t = pd.DataFrame(y_t)\n",
        "y_t.head()"
      ],
      "execution_count": null,
      "outputs": [
        {
          "output_type": "execute_result",
          "data": {
            "text/html": [
              "<div>\n",
              "<style scoped>\n",
              "    .dataframe tbody tr th:only-of-type {\n",
              "        vertical-align: middle;\n",
              "    }\n",
              "\n",
              "    .dataframe tbody tr th {\n",
              "        vertical-align: top;\n",
              "    }\n",
              "\n",
              "    .dataframe thead th {\n",
              "        text-align: right;\n",
              "    }\n",
              "</style>\n",
              "<table border=\"1\" class=\"dataframe\">\n",
              "  <thead>\n",
              "    <tr style=\"text-align: right;\">\n",
              "      <th></th>\n",
              "      <th>0</th>\n",
              "    </tr>\n",
              "  </thead>\n",
              "  <tbody>\n",
              "    <tr>\n",
              "      <th>0</th>\n",
              "      <td>1.0</td>\n",
              "    </tr>\n",
              "    <tr>\n",
              "      <th>1</th>\n",
              "      <td>0.0</td>\n",
              "    </tr>\n",
              "    <tr>\n",
              "      <th>2</th>\n",
              "      <td>0.0</td>\n",
              "    </tr>\n",
              "    <tr>\n",
              "      <th>3</th>\n",
              "      <td>0.0</td>\n",
              "    </tr>\n",
              "    <tr>\n",
              "      <th>4</th>\n",
              "      <td>0.0</td>\n",
              "    </tr>\n",
              "  </tbody>\n",
              "</table>\n",
              "</div>"
            ],
            "text/plain": [
              "     0\n",
              "0  1.0\n",
              "1  0.0\n",
              "2  0.0\n",
              "3  0.0\n",
              "4  0.0"
            ]
          },
          "metadata": {
            "tags": []
          },
          "execution_count": 89
        }
      ]
    },
    {
      "cell_type": "code",
      "metadata": {
        "id": "aRPDLvAb_OFd",
        "colab_type": "code",
        "colab": {
          "base_uri": "https://localhost:8080/",
          "height": 204
        },
        "outputId": "90b5d2e9-2da2-4b10-95b2-ea67c00d8c85"
      },
      "source": [
        "# Breed Category #\n",
        "\n",
        "y_t.rename(columns={0:'breed_category'},inplace=True)\n",
        "y_t.head()"
      ],
      "execution_count": null,
      "outputs": [
        {
          "output_type": "execute_result",
          "data": {
            "text/html": [
              "<div>\n",
              "<style scoped>\n",
              "    .dataframe tbody tr th:only-of-type {\n",
              "        vertical-align: middle;\n",
              "    }\n",
              "\n",
              "    .dataframe tbody tr th {\n",
              "        vertical-align: top;\n",
              "    }\n",
              "\n",
              "    .dataframe thead th {\n",
              "        text-align: right;\n",
              "    }\n",
              "</style>\n",
              "<table border=\"1\" class=\"dataframe\">\n",
              "  <thead>\n",
              "    <tr style=\"text-align: right;\">\n",
              "      <th></th>\n",
              "      <th>breed_category</th>\n",
              "    </tr>\n",
              "  </thead>\n",
              "  <tbody>\n",
              "    <tr>\n",
              "      <th>0</th>\n",
              "      <td>1.0</td>\n",
              "    </tr>\n",
              "    <tr>\n",
              "      <th>1</th>\n",
              "      <td>0.0</td>\n",
              "    </tr>\n",
              "    <tr>\n",
              "      <th>2</th>\n",
              "      <td>0.0</td>\n",
              "    </tr>\n",
              "    <tr>\n",
              "      <th>3</th>\n",
              "      <td>0.0</td>\n",
              "    </tr>\n",
              "    <tr>\n",
              "      <th>4</th>\n",
              "      <td>0.0</td>\n",
              "    </tr>\n",
              "  </tbody>\n",
              "</table>\n",
              "</div>"
            ],
            "text/plain": [
              "   breed_category\n",
              "0             1.0\n",
              "1             0.0\n",
              "2             0.0\n",
              "3             0.0\n",
              "4             0.0"
            ]
          },
          "metadata": {
            "tags": []
          },
          "execution_count": 90
        }
      ]
    },
    {
      "cell_type": "code",
      "metadata": {
        "id": "Rf-6_LpsBSUi",
        "colab_type": "code",
        "colab": {
          "base_uri": "https://localhost:8080/",
          "height": 136
        },
        "outputId": "6e2f33fc-b82e-4443-bbb2-c4e337573a0e"
      },
      "source": [
        "# Pet Categry\n",
        "\n",
        "y_t1 = m.predict(X1)\n",
        "y_t1"
      ],
      "execution_count": null,
      "outputs": [
        {
          "output_type": "execute_result",
          "data": {
            "text/plain": [
              "array([[2],\n",
              "       [1],\n",
              "       [2],\n",
              "       ...,\n",
              "       [2],\n",
              "       [4],\n",
              "       [2]])"
            ]
          },
          "metadata": {
            "tags": []
          },
          "execution_count": 86
        }
      ]
    },
    {
      "cell_type": "code",
      "metadata": {
        "id": "sf7iC4n_E85Y",
        "colab_type": "code",
        "colab": {
          "base_uri": "https://localhost:8080/"
        },
        "outputId": "b804cb94-4f6d-4de7-b1df-e2da5c2eb4eb"
      },
      "source": [
        "y_t1"
      ],
      "execution_count": null,
      "outputs": [
        {
          "output_type": "execute_result",
          "data": {
            "text/plain": [
              "array([[2],\n",
              "       [1],\n",
              "       [2],\n",
              "       ...,\n",
              "       [2],\n",
              "       [4],\n",
              "       [2]])"
            ]
          },
          "metadata": {
            "tags": []
          },
          "execution_count": 138
        }
      ]
    },
    {
      "cell_type": "code",
      "metadata": {
        "id": "7bmO-rsH-qZ5",
        "colab_type": "code",
        "colab": {
          "base_uri": "https://localhost:8080/",
          "height": 204
        },
        "outputId": "3ecd7685-a64a-4609-d1ae-28a4976ae6d7"
      },
      "source": [
        "y_t1 = pd.DataFrame(y_t1)\n",
        "y_t1.head()"
      ],
      "execution_count": null,
      "outputs": [
        {
          "output_type": "execute_result",
          "data": {
            "text/html": [
              "<div>\n",
              "<style scoped>\n",
              "    .dataframe tbody tr th:only-of-type {\n",
              "        vertical-align: middle;\n",
              "    }\n",
              "\n",
              "    .dataframe tbody tr th {\n",
              "        vertical-align: top;\n",
              "    }\n",
              "\n",
              "    .dataframe thead th {\n",
              "        text-align: right;\n",
              "    }\n",
              "</style>\n",
              "<table border=\"1\" class=\"dataframe\">\n",
              "  <thead>\n",
              "    <tr style=\"text-align: right;\">\n",
              "      <th></th>\n",
              "      <th>0</th>\n",
              "    </tr>\n",
              "  </thead>\n",
              "  <tbody>\n",
              "    <tr>\n",
              "      <th>0</th>\n",
              "      <td>2</td>\n",
              "    </tr>\n",
              "    <tr>\n",
              "      <th>1</th>\n",
              "      <td>1</td>\n",
              "    </tr>\n",
              "    <tr>\n",
              "      <th>2</th>\n",
              "      <td>2</td>\n",
              "    </tr>\n",
              "    <tr>\n",
              "      <th>3</th>\n",
              "      <td>2</td>\n",
              "    </tr>\n",
              "    <tr>\n",
              "      <th>4</th>\n",
              "      <td>2</td>\n",
              "    </tr>\n",
              "  </tbody>\n",
              "</table>\n",
              "</div>"
            ],
            "text/plain": [
              "   0\n",
              "0  2\n",
              "1  1\n",
              "2  2\n",
              "3  2\n",
              "4  2"
            ]
          },
          "metadata": {
            "tags": []
          },
          "execution_count": 87
        }
      ]
    },
    {
      "cell_type": "code",
      "metadata": {
        "id": "AmFD5ev5-2Ur",
        "colab_type": "code",
        "colab": {
          "base_uri": "https://localhost:8080/",
          "height": 204
        },
        "outputId": "885f597c-5cd5-4d15-cb4c-90a44927e38a"
      },
      "source": [
        "# Pet Category #\n",
        "\n",
        "y_t1.rename(columns={0:'pet_category'},inplace=True)\n",
        "y_t1.head()"
      ],
      "execution_count": null,
      "outputs": [
        {
          "output_type": "execute_result",
          "data": {
            "text/html": [
              "<div>\n",
              "<style scoped>\n",
              "    .dataframe tbody tr th:only-of-type {\n",
              "        vertical-align: middle;\n",
              "    }\n",
              "\n",
              "    .dataframe tbody tr th {\n",
              "        vertical-align: top;\n",
              "    }\n",
              "\n",
              "    .dataframe thead th {\n",
              "        text-align: right;\n",
              "    }\n",
              "</style>\n",
              "<table border=\"1\" class=\"dataframe\">\n",
              "  <thead>\n",
              "    <tr style=\"text-align: right;\">\n",
              "      <th></th>\n",
              "      <th>pet_category</th>\n",
              "    </tr>\n",
              "  </thead>\n",
              "  <tbody>\n",
              "    <tr>\n",
              "      <th>0</th>\n",
              "      <td>2</td>\n",
              "    </tr>\n",
              "    <tr>\n",
              "      <th>1</th>\n",
              "      <td>1</td>\n",
              "    </tr>\n",
              "    <tr>\n",
              "      <th>2</th>\n",
              "      <td>2</td>\n",
              "    </tr>\n",
              "    <tr>\n",
              "      <th>3</th>\n",
              "      <td>2</td>\n",
              "    </tr>\n",
              "    <tr>\n",
              "      <th>4</th>\n",
              "      <td>2</td>\n",
              "    </tr>\n",
              "  </tbody>\n",
              "</table>\n",
              "</div>"
            ],
            "text/plain": [
              "   pet_category\n",
              "0             2\n",
              "1             1\n",
              "2             2\n",
              "3             2\n",
              "4             2"
            ]
          },
          "metadata": {
            "tags": []
          },
          "execution_count": 88
        }
      ]
    },
    {
      "cell_type": "code",
      "metadata": {
        "id": "dhLWldiR_ElO",
        "colab_type": "code",
        "colab": {
          "base_uri": "https://localhost:8080/",
          "height": 204
        },
        "outputId": "e0c52acb-9e4c-4337-bfa4-cf7e1f1330fe"
      },
      "source": [
        "# Concatenating the results of per and breed #\n",
        "\n",
        "df_m1 = pd.concat([df1['pet_id'],y_t['breed_category'],y_t1['pet_category']],axis=1)  \n",
        "df_m1.head()"
      ],
      "execution_count": null,
      "outputs": [
        {
          "output_type": "execute_result",
          "data": {
            "text/html": [
              "<div>\n",
              "<style scoped>\n",
              "    .dataframe tbody tr th:only-of-type {\n",
              "        vertical-align: middle;\n",
              "    }\n",
              "\n",
              "    .dataframe tbody tr th {\n",
              "        vertical-align: top;\n",
              "    }\n",
              "\n",
              "    .dataframe thead th {\n",
              "        text-align: right;\n",
              "    }\n",
              "</style>\n",
              "<table border=\"1\" class=\"dataframe\">\n",
              "  <thead>\n",
              "    <tr style=\"text-align: right;\">\n",
              "      <th></th>\n",
              "      <th>pet_id</th>\n",
              "      <th>breed_category</th>\n",
              "      <th>pet_category</th>\n",
              "    </tr>\n",
              "  </thead>\n",
              "  <tbody>\n",
              "    <tr>\n",
              "      <th>0</th>\n",
              "      <td>ANSL_75005</td>\n",
              "      <td>1.0</td>\n",
              "      <td>2</td>\n",
              "    </tr>\n",
              "    <tr>\n",
              "      <th>1</th>\n",
              "      <td>ANSL_76663</td>\n",
              "      <td>0.0</td>\n",
              "      <td>1</td>\n",
              "    </tr>\n",
              "    <tr>\n",
              "      <th>2</th>\n",
              "      <td>ANSL_58259</td>\n",
              "      <td>0.0</td>\n",
              "      <td>2</td>\n",
              "    </tr>\n",
              "    <tr>\n",
              "      <th>3</th>\n",
              "      <td>ANSL_67171</td>\n",
              "      <td>0.0</td>\n",
              "      <td>2</td>\n",
              "    </tr>\n",
              "    <tr>\n",
              "      <th>4</th>\n",
              "      <td>ANSL_72871</td>\n",
              "      <td>0.0</td>\n",
              "      <td>2</td>\n",
              "    </tr>\n",
              "  </tbody>\n",
              "</table>\n",
              "</div>"
            ],
            "text/plain": [
              "       pet_id  breed_category  pet_category\n",
              "0  ANSL_75005             1.0             2\n",
              "1  ANSL_76663             0.0             1\n",
              "2  ANSL_58259             0.0             2\n",
              "3  ANSL_67171             0.0             2\n",
              "4  ANSL_72871             0.0             2"
            ]
          },
          "metadata": {
            "tags": []
          },
          "execution_count": 91
        }
      ]
    },
    {
      "cell_type": "code",
      "metadata": {
        "id": "EjEa3vqP_bG7",
        "colab_type": "code",
        "colab": {}
      },
      "source": [
        "# Submission file #\n",
        "\n",
        "df_m1.to_csv('submission_32.csv', index=False)  #score : 90.68"
      ],
      "execution_count": null,
      "outputs": []
    },
    {
      "cell_type": "code",
      "metadata": {
        "id": "b2YuKBHKASno",
        "colab_type": "code",
        "colab": {}
      },
      "source": [
        "# Creating a combined model #\n",
        "# Breed category - catboost Model (breed_cat)\n",
        "# Pet Category - Xgboost Model (pet_xgboost)"
      ],
      "execution_count": null,
      "outputs": []
    },
    {
      "cell_type": "code",
      "metadata": {
        "id": "XMtgCLiFAatw",
        "colab_type": "code",
        "colab": {
          "base_uri": "https://localhost:8080/",
          "height": 204
        },
        "outputId": "1636dc52-c2a2-43ae-85f1-9cecdac985a1"
      },
      "source": [
        "# Breed Category # Predicted data is y_t\n",
        "y_t.head()"
      ],
      "execution_count": null,
      "outputs": [
        {
          "output_type": "execute_result",
          "data": {
            "text/html": [
              "<div>\n",
              "<style scoped>\n",
              "    .dataframe tbody tr th:only-of-type {\n",
              "        vertical-align: middle;\n",
              "    }\n",
              "\n",
              "    .dataframe tbody tr th {\n",
              "        vertical-align: top;\n",
              "    }\n",
              "\n",
              "    .dataframe thead th {\n",
              "        text-align: right;\n",
              "    }\n",
              "</style>\n",
              "<table border=\"1\" class=\"dataframe\">\n",
              "  <thead>\n",
              "    <tr style=\"text-align: right;\">\n",
              "      <th></th>\n",
              "      <th>breed_category</th>\n",
              "    </tr>\n",
              "  </thead>\n",
              "  <tbody>\n",
              "    <tr>\n",
              "      <th>0</th>\n",
              "      <td>1.0</td>\n",
              "    </tr>\n",
              "    <tr>\n",
              "      <th>1</th>\n",
              "      <td>0.0</td>\n",
              "    </tr>\n",
              "    <tr>\n",
              "      <th>2</th>\n",
              "      <td>0.0</td>\n",
              "    </tr>\n",
              "    <tr>\n",
              "      <th>3</th>\n",
              "      <td>0.0</td>\n",
              "    </tr>\n",
              "    <tr>\n",
              "      <th>4</th>\n",
              "      <td>0.0</td>\n",
              "    </tr>\n",
              "  </tbody>\n",
              "</table>\n",
              "</div>"
            ],
            "text/plain": [
              "   breed_category\n",
              "0             1.0\n",
              "1             0.0\n",
              "2             0.0\n",
              "3             0.0\n",
              "4             0.0"
            ]
          },
          "metadata": {
            "tags": []
          },
          "execution_count": 93
        }
      ]
    },
    {
      "cell_type": "code",
      "metadata": {
        "id": "BRi1C64TApQU",
        "colab_type": "code",
        "colab": {
          "base_uri": "https://localhost:8080/",
          "height": 119
        },
        "outputId": "b907c7bf-79dc-40b1-8875-c3d47ffc1bbf"
      },
      "source": [
        "# Pet Category # Predicted Data is  y_pet_xg\n",
        "y_pet_xg.head()"
      ],
      "execution_count": null,
      "outputs": [
        {
          "output_type": "execute_result",
          "data": {
            "text/plain": [
              "0    2\n",
              "1    1\n",
              "2    2\n",
              "3    2\n",
              "4    2\n",
              "Name: pet_category, dtype: int64"
            ]
          },
          "metadata": {
            "tags": []
          },
          "execution_count": 94
        }
      ]
    },
    {
      "cell_type": "code",
      "metadata": {
        "id": "Pa41C2K6BIV_",
        "colab_type": "code",
        "colab": {
          "base_uri": "https://localhost:8080/",
          "height": 204
        },
        "outputId": "b66f46c9-dff5-4d1e-cafb-bbddd4545ba4"
      },
      "source": [
        "# Concatenating this data frames #\n",
        "\n",
        "\n",
        "df_m2 = pd.concat([df1['pet_id'],y_t,y_pet_xg],axis=1)  \n",
        "df_m2.head()\n"
      ],
      "execution_count": null,
      "outputs": [
        {
          "output_type": "execute_result",
          "data": {
            "text/html": [
              "<div>\n",
              "<style scoped>\n",
              "    .dataframe tbody tr th:only-of-type {\n",
              "        vertical-align: middle;\n",
              "    }\n",
              "\n",
              "    .dataframe tbody tr th {\n",
              "        vertical-align: top;\n",
              "    }\n",
              "\n",
              "    .dataframe thead th {\n",
              "        text-align: right;\n",
              "    }\n",
              "</style>\n",
              "<table border=\"1\" class=\"dataframe\">\n",
              "  <thead>\n",
              "    <tr style=\"text-align: right;\">\n",
              "      <th></th>\n",
              "      <th>pet_id</th>\n",
              "      <th>breed_category</th>\n",
              "      <th>pet_category</th>\n",
              "    </tr>\n",
              "  </thead>\n",
              "  <tbody>\n",
              "    <tr>\n",
              "      <th>0</th>\n",
              "      <td>ANSL_75005</td>\n",
              "      <td>1.0</td>\n",
              "      <td>2</td>\n",
              "    </tr>\n",
              "    <tr>\n",
              "      <th>1</th>\n",
              "      <td>ANSL_76663</td>\n",
              "      <td>0.0</td>\n",
              "      <td>1</td>\n",
              "    </tr>\n",
              "    <tr>\n",
              "      <th>2</th>\n",
              "      <td>ANSL_58259</td>\n",
              "      <td>0.0</td>\n",
              "      <td>2</td>\n",
              "    </tr>\n",
              "    <tr>\n",
              "      <th>3</th>\n",
              "      <td>ANSL_67171</td>\n",
              "      <td>0.0</td>\n",
              "      <td>2</td>\n",
              "    </tr>\n",
              "    <tr>\n",
              "      <th>4</th>\n",
              "      <td>ANSL_72871</td>\n",
              "      <td>0.0</td>\n",
              "      <td>2</td>\n",
              "    </tr>\n",
              "  </tbody>\n",
              "</table>\n",
              "</div>"
            ],
            "text/plain": [
              "       pet_id  breed_category  pet_category\n",
              "0  ANSL_75005             1.0             2\n",
              "1  ANSL_76663             0.0             1\n",
              "2  ANSL_58259             0.0             2\n",
              "3  ANSL_67171             0.0             2\n",
              "4  ANSL_72871             0.0             2"
            ]
          },
          "metadata": {
            "tags": []
          },
          "execution_count": 98
        }
      ]
    },
    {
      "cell_type": "code",
      "metadata": {
        "id": "UpjOWgReClaT",
        "colab_type": "code",
        "colab": {}
      },
      "source": [
        "df_m2.to_csv('submission_33.csv', index=False) #score : 90.71"
      ],
      "execution_count": null,
      "outputs": []
    },
    {
      "cell_type": "code",
      "metadata": {
        "id": "YRTs94PSESxp",
        "colab_type": "code",
        "colab": {}
      },
      "source": [
        "# New Model #\n",
        "\n",
        "# Creating a combined model #\n",
        "# Breed category - Random Forest Model (breed_rf), y_test_br\n",
        "# Pet Category - Cat Model (pet_cat), y_t1"
      ],
      "execution_count": null,
      "outputs": []
    },
    {
      "cell_type": "code",
      "metadata": {
        "id": "EgbRBYivEfoP",
        "colab_type": "code",
        "colab": {
          "base_uri": "https://localhost:8080/",
          "height": 204
        },
        "outputId": "cd1ff084-9af1-4178-c66e-7afa38eb6ec5"
      },
      "source": [
        "# Concatenating this data frames #\n",
        "\n",
        "df_m3 = pd.concat([df1['pet_id'],y_test_br,y_t1],axis=1)  \n",
        "df_m3.head()"
      ],
      "execution_count": null,
      "outputs": [
        {
          "output_type": "execute_result",
          "data": {
            "text/html": [
              "<div>\n",
              "<style scoped>\n",
              "    .dataframe tbody tr th:only-of-type {\n",
              "        vertical-align: middle;\n",
              "    }\n",
              "\n",
              "    .dataframe tbody tr th {\n",
              "        vertical-align: top;\n",
              "    }\n",
              "\n",
              "    .dataframe thead th {\n",
              "        text-align: right;\n",
              "    }\n",
              "</style>\n",
              "<table border=\"1\" class=\"dataframe\">\n",
              "  <thead>\n",
              "    <tr style=\"text-align: right;\">\n",
              "      <th></th>\n",
              "      <th>pet_id</th>\n",
              "      <th>breed_category</th>\n",
              "      <th>pet_category</th>\n",
              "    </tr>\n",
              "  </thead>\n",
              "  <tbody>\n",
              "    <tr>\n",
              "      <th>0</th>\n",
              "      <td>ANSL_75005</td>\n",
              "      <td>1.0</td>\n",
              "      <td>2</td>\n",
              "    </tr>\n",
              "    <tr>\n",
              "      <th>1</th>\n",
              "      <td>ANSL_76663</td>\n",
              "      <td>0.0</td>\n",
              "      <td>1</td>\n",
              "    </tr>\n",
              "    <tr>\n",
              "      <th>2</th>\n",
              "      <td>ANSL_58259</td>\n",
              "      <td>0.0</td>\n",
              "      <td>2</td>\n",
              "    </tr>\n",
              "    <tr>\n",
              "      <th>3</th>\n",
              "      <td>ANSL_67171</td>\n",
              "      <td>0.0</td>\n",
              "      <td>2</td>\n",
              "    </tr>\n",
              "    <tr>\n",
              "      <th>4</th>\n",
              "      <td>ANSL_72871</td>\n",
              "      <td>0.0</td>\n",
              "      <td>2</td>\n",
              "    </tr>\n",
              "  </tbody>\n",
              "</table>\n",
              "</div>"
            ],
            "text/plain": [
              "       pet_id  breed_category  pet_category\n",
              "0  ANSL_75005             1.0             2\n",
              "1  ANSL_76663             0.0             1\n",
              "2  ANSL_58259             0.0             2\n",
              "3  ANSL_67171             0.0             2\n",
              "4  ANSL_72871             0.0             2"
            ]
          },
          "metadata": {
            "tags": []
          },
          "execution_count": 101
        }
      ]
    },
    {
      "cell_type": "code",
      "metadata": {
        "id": "qqdqYaGhE9mC",
        "colab_type": "code",
        "colab": {}
      },
      "source": [
        "df_m3.to_csv('submission_34.csv', index=False) #score :90.57"
      ],
      "execution_count": null,
      "outputs": []
    }
  ]
}